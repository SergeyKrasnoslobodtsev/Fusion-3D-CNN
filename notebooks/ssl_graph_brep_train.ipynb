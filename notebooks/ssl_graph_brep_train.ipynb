{
 "cells": [
  {
   "cell_type": "code",
   "execution_count": 1,
   "id": "a4449ade",
   "metadata": {},
   "outputs": [
    {
     "name": "stderr",
     "output_type": "stream",
     "text": [
      "\u001b[32m2025-09-19 12:44:24.519\u001b[0m | \u001b[1mINFO    \u001b[0m | \u001b[36msrc.config\u001b[0m:\u001b[36m<module>\u001b[0m:\u001b[36m11\u001b[0m - \u001b[1mPROJ_ROOT path is: G:\\Projects\\Fusion-3D-CNN\u001b[0m\n"
     ]
    },
    {
     "name": "stdout",
     "output_type": "stream",
     "text": [
      "Project root added to path: g:\\Projects\\Fusion-3D-CNN\n"
     ]
    }
   ],
   "source": [
    "%load_ext autoreload\n",
    "%autoreload 2\n",
    "import notebook_setup\n",
    "from src.config import INTERIM_DATA_DIR, PROCESSED_DATA_DIR, REPORTS_DIR, EXTERNAL_DATA_DIR, MODELS_DIR\n",
    "import os\n",
    "os.environ[\"KMP_DUPLICATE_LIB_OK\"] = \"TRUE\"\n",
    "os.environ[\"OMP_NUM_THREADS\"] = \"4\"\n",
    "os.environ[\"MKL_NUM_THREADS\"] = \"4\"\n",
    "\n",
    "BREPNET_NPZ_DIR = INTERIM_DATA_DIR / \"features\" / \"brepnet\""
   ]
  },
  {
   "cell_type": "code",
   "execution_count": 2,
   "id": "d729293c",
   "metadata": {},
   "outputs": [
    {
     "name": "stdout",
     "output_type": "stream",
     "text": [
      "face_features (9, 7)\n",
      "face_point_grids (9, 7, 10, 10)\n",
      "edge_features (16, 10)\n",
      "coedge_point_grids (31, 12, 10)\n",
      "coedge_features (31, 1)\n",
      "coedge_lcs (31, 4, 4)\n",
      "coedge_scale_factors (31,)\n",
      "coedge_reverse_flags (31,)\n",
      "next (31,)\n",
      "mate (31,)\n",
      "face (31,)\n",
      "edge (31,)\n"
     ]
    }
   ],
   "source": [
    "import numpy as np\n",
    "from pathlib import Path\n",
    "files = list(Path(BREPNET_NPZ_DIR).glob(\"*.npz\"))\n",
    "\n",
    "feats = np.load(files[0], allow_pickle=True)\n",
    "\n",
    "for k, v in feats.items():\n",
    "    print(k, v.shape)"
   ]
  },
  {
   "cell_type": "code",
   "execution_count": 3,
   "id": "112c8a00",
   "metadata": {},
   "outputs": [
    {
     "name": "stdout",
     "output_type": "stream",
     "text": [
      "Dataset length: 129\n",
      "HeteroData(\n",
      "  face={\n",
      "    x=[9, 7],\n",
      "    uv=[9, 7, 10, 10],\n",
      "    num_nodes=9,\n",
      "  },\n",
      "  edge={\n",
      "    x=[16, 10],\n",
      "    num_nodes=16,\n",
      "  },\n",
      "  coedge={\n",
      "    x=[31, 1],\n",
      "    grid=[31, 12, 10],\n",
      "    lcs=[31, 4, 4],\n",
      "    scale=[31],\n",
      "    reverse=[31],\n",
      "    num_nodes=31,\n",
      "  },\n",
      "  (coedge, next, coedge)={ edge_index=[2, 31] },\n",
      "  (coedge, mate, coedge)={ edge_index=[2, 31] },\n",
      "  (coedge, to_face, face)={ edge_index=[2, 31] },\n",
      "  (coedge, to_edge, edge)={ edge_index=[2, 31] }\n",
      ")\n"
     ]
    }
   ],
   "source": [
    "from src.modeling.ssl_graph_brep.data_module.brep_dataset import BRepNPZDataset\n",
    "\n",
    "dataset = BRepNPZDataset(BREPNET_NPZ_DIR)\n",
    "print(f\"Dataset length: {len(dataset)}\")\n",
    "g = dataset.get(0)\n",
    "print(g)\n",
    "\n",
    "for k, v in g.items():\n",
    "    print(k, v.shape if hasattr(v, \"shape\") else v)"
   ]
  },
  {
   "cell_type": "code",
   "execution_count": 4,
   "id": "61ab1481",
   "metadata": {},
   "outputs": [
    {
     "name": "stdout",
     "output_type": "stream",
     "text": [
      "HeteroDataBatch(\n",
      "  face={\n",
      "    x=[2358, 7],\n",
      "    uv=[2358, 7, 10, 10],\n",
      "    num_nodes=2358,\n",
      "    batch=[2358],\n",
      "    ptr=[33],\n",
      "  },\n",
      "  edge={\n",
      "    x=[6513, 10],\n",
      "    num_nodes=6513,\n",
      "    batch=[6513],\n",
      "    ptr=[33],\n",
      "  },\n",
      "  coedge={\n",
      "    x=[12999, 1],\n",
      "    grid=[12999, 12, 10],\n",
      "    lcs=[12999, 4, 4],\n",
      "    scale=[12999],\n",
      "    reverse=[12999],\n",
      "    num_nodes=12999,\n",
      "    batch=[12999],\n",
      "    ptr=[33],\n",
      "  },\n",
      "  (coedge, next, coedge)={ edge_index=[2, 12999] },\n",
      "  (coedge, mate, coedge)={ edge_index=[2, 12999] },\n",
      "  (coedge, to_face, face)={ edge_index=[2, 12999] },\n",
      "  (coedge, to_edge, edge)={ edge_index=[2, 12999] }\n",
      ")\n"
     ]
    }
   ],
   "source": [
    "from src.modeling.ssl_graph_brep.data_module.brep_data_loader import BRepDataModule\n",
    "data_module = BRepDataModule(BREPNET_NPZ_DIR, batch_size=32, num_workers=0)\n",
    "data_module.setup()\n",
    "\n",
    "batch = next(iter(data_module.train_dataloader()))\n",
    "print(batch)"
   ]
  },
  {
   "cell_type": "code",
   "execution_count": 7,
   "id": "66650655",
   "metadata": {},
   "outputs": [
    {
     "name": "stderr",
     "output_type": "stream",
     "text": [
      "GPU available: True (cuda), used: True\n",
      "TPU available: False, using: 0 TPU cores\n",
      "HPU available: False, using: 0 HPUs\n",
      "c:\\Users\\Kaktus\\.conda\\envs\\brepnet\\Lib\\site-packages\\pytorch_lightning\\callbacks\\model_checkpoint.py:751: Checkpoint directory G:\\Projects\\Fusion-3D-CNN\\models\\ssl_brep exists and is not empty.\n",
      "LOCAL_RANK: 0 - CUDA_VISIBLE_DEVICES: [0]\n",
      "\n",
      "  | Name        | Type                | Params | Mode \n",
      "------------------------------------------------------------\n",
      "0 | face_enc    | UVNetSurfaceEncoder | 390 K  | train\n",
      "1 | coedge_enc  | UVNetCurveEncoder   | 142 K  | train\n",
      "2 | edge_lin    | Linear              | 704    | train\n",
      "3 | gnn         | BRepHeteroGNN       | 25.5 K | train\n",
      "4 | projector   | Sequential          | 33.0 K | train\n",
      "5 | scorer_next | BilinearScorer      | 16.4 K | train\n",
      "6 | scorer_mate | BilinearScorer      | 16.4 K | train\n",
      "------------------------------------------------------------\n",
      "624 K     Trainable params\n",
      "0         Non-trainable params\n",
      "624 K     Total params\n",
      "2.499     Total estimated model params size (MB)\n",
      "84        Modules in train mode\n",
      "0         Modules in eval mode\n"
     ]
    },
    {
     "data": {
      "application/vnd.jupyter.widget-view+json": {
       "model_id": "3cf9b8fc59d446b387ff33ddb063726e",
       "version_major": 2,
       "version_minor": 0
      },
      "text/plain": [
       "Sanity Checking: |          | 0/? [00:00<?, ?it/s]"
      ]
     },
     "metadata": {},
     "output_type": "display_data"
    },
    {
     "data": {
      "application/vnd.jupyter.widget-view+json": {
       "model_id": "3c4a737aa26a40648a592a39e648d554",
       "version_major": 2,
       "version_minor": 0
      },
      "text/plain": [
       "Training: |          | 0/? [00:00<?, ?it/s]"
      ]
     },
     "metadata": {},
     "output_type": "display_data"
    },
    {
     "data": {
      "application/vnd.jupyter.widget-view+json": {
       "model_id": "330a57fd12024bffbc05648f64ce1c72",
       "version_major": 2,
       "version_minor": 0
      },
      "text/plain": [
       "Validation: |          | 0/? [00:00<?, ?it/s]"
      ]
     },
     "metadata": {},
     "output_type": "display_data"
    },
    {
     "data": {
      "application/vnd.jupyter.widget-view+json": {
       "model_id": "b24e0cf798d241a88a91b758361fa493",
       "version_major": 2,
       "version_minor": 0
      },
      "text/plain": [
       "Validation: |          | 0/? [00:00<?, ?it/s]"
      ]
     },
     "metadata": {},
     "output_type": "display_data"
    },
    {
     "data": {
      "application/vnd.jupyter.widget-view+json": {
       "model_id": "bf8953f360bd4289a3ade673f0aea400",
       "version_major": 2,
       "version_minor": 0
      },
      "text/plain": [
       "Validation: |          | 0/? [00:00<?, ?it/s]"
      ]
     },
     "metadata": {},
     "output_type": "display_data"
    },
    {
     "data": {
      "application/vnd.jupyter.widget-view+json": {
       "model_id": "281c401f82ab4cb2b810e45349adb940",
       "version_major": 2,
       "version_minor": 0
      },
      "text/plain": [
       "Validation: |          | 0/? [00:00<?, ?it/s]"
      ]
     },
     "metadata": {},
     "output_type": "display_data"
    },
    {
     "data": {
      "application/vnd.jupyter.widget-view+json": {
       "model_id": "bf2f8b7241c54feaa82e6998911073f7",
       "version_major": 2,
       "version_minor": 0
      },
      "text/plain": [
       "Validation: |          | 0/? [00:00<?, ?it/s]"
      ]
     },
     "metadata": {},
     "output_type": "display_data"
    },
    {
     "data": {
      "application/vnd.jupyter.widget-view+json": {
       "model_id": "b93371fecffc424c97783802e425c733",
       "version_major": 2,
       "version_minor": 0
      },
      "text/plain": [
       "Validation: |          | 0/? [00:00<?, ?it/s]"
      ]
     },
     "metadata": {},
     "output_type": "display_data"
    },
    {
     "data": {
      "application/vnd.jupyter.widget-view+json": {
       "model_id": "92736b6601d2472ebe4638727a2daa30",
       "version_major": 2,
       "version_minor": 0
      },
      "text/plain": [
       "Validation: |          | 0/? [00:00<?, ?it/s]"
      ]
     },
     "metadata": {},
     "output_type": "display_data"
    },
    {
     "data": {
      "application/vnd.jupyter.widget-view+json": {
       "model_id": "fa27e3b869e4420599e44d54b3a17984",
       "version_major": 2,
       "version_minor": 0
      },
      "text/plain": [
       "Validation: |          | 0/? [00:00<?, ?it/s]"
      ]
     },
     "metadata": {},
     "output_type": "display_data"
    },
    {
     "data": {
      "application/vnd.jupyter.widget-view+json": {
       "model_id": "913377636a124f44acefa15699677f20",
       "version_major": 2,
       "version_minor": 0
      },
      "text/plain": [
       "Validation: |          | 0/? [00:00<?, ?it/s]"
      ]
     },
     "metadata": {},
     "output_type": "display_data"
    },
    {
     "data": {
      "application/vnd.jupyter.widget-view+json": {
       "model_id": "67540bf7f8e2446f8ff4300f3d59be4d",
       "version_major": 2,
       "version_minor": 0
      },
      "text/plain": [
       "Validation: |          | 0/? [00:00<?, ?it/s]"
      ]
     },
     "metadata": {},
     "output_type": "display_data"
    },
    {
     "data": {
      "application/vnd.jupyter.widget-view+json": {
       "model_id": "a76738d2a33943e686baeb5891ae01e5",
       "version_major": 2,
       "version_minor": 0
      },
      "text/plain": [
       "Validation: |          | 0/? [00:00<?, ?it/s]"
      ]
     },
     "metadata": {},
     "output_type": "display_data"
    },
    {
     "data": {
      "application/vnd.jupyter.widget-view+json": {
       "model_id": "579d5faa68ed4721bbdb0845b6f7cbb3",
       "version_major": 2,
       "version_minor": 0
      },
      "text/plain": [
       "Validation: |          | 0/? [00:00<?, ?it/s]"
      ]
     },
     "metadata": {},
     "output_type": "display_data"
    },
    {
     "data": {
      "application/vnd.jupyter.widget-view+json": {
       "model_id": "19ea4f62581c4e7598663dbdc8bc1136",
       "version_major": 2,
       "version_minor": 0
      },
      "text/plain": [
       "Validation: |          | 0/? [00:00<?, ?it/s]"
      ]
     },
     "metadata": {},
     "output_type": "display_data"
    },
    {
     "data": {
      "application/vnd.jupyter.widget-view+json": {
       "model_id": "75330eda692e4db792ffce3b0a4aa36f",
       "version_major": 2,
       "version_minor": 0
      },
      "text/plain": [
       "Validation: |          | 0/? [00:00<?, ?it/s]"
      ]
     },
     "metadata": {},
     "output_type": "display_data"
    },
    {
     "data": {
      "application/vnd.jupyter.widget-view+json": {
       "model_id": "75ed9b3a1c4648f1b5d43f557a33c6e8",
       "version_major": 2,
       "version_minor": 0
      },
      "text/plain": [
       "Validation: |          | 0/? [00:00<?, ?it/s]"
      ]
     },
     "metadata": {},
     "output_type": "display_data"
    },
    {
     "data": {
      "application/vnd.jupyter.widget-view+json": {
       "model_id": "9447c23791454214a77d899326b6180a",
       "version_major": 2,
       "version_minor": 0
      },
      "text/plain": [
       "Validation: |          | 0/? [00:00<?, ?it/s]"
      ]
     },
     "metadata": {},
     "output_type": "display_data"
    },
    {
     "data": {
      "application/vnd.jupyter.widget-view+json": {
       "model_id": "47236434b77c470abaca90547dfe8f9e",
       "version_major": 2,
       "version_minor": 0
      },
      "text/plain": [
       "Validation: |          | 0/? [00:00<?, ?it/s]"
      ]
     },
     "metadata": {},
     "output_type": "display_data"
    },
    {
     "data": {
      "application/vnd.jupyter.widget-view+json": {
       "model_id": "0241979ddc66441998f482f972901bbb",
       "version_major": 2,
       "version_minor": 0
      },
      "text/plain": [
       "Validation: |          | 0/? [00:00<?, ?it/s]"
      ]
     },
     "metadata": {},
     "output_type": "display_data"
    },
    {
     "data": {
      "application/vnd.jupyter.widget-view+json": {
       "model_id": "f546bd44a27c4d38b8f28d03088b8293",
       "version_major": 2,
       "version_minor": 0
      },
      "text/plain": [
       "Validation: |          | 0/? [00:00<?, ?it/s]"
      ]
     },
     "metadata": {},
     "output_type": "display_data"
    },
    {
     "data": {
      "application/vnd.jupyter.widget-view+json": {
       "model_id": "2775afde695e43939995d6edcf00bb80",
       "version_major": 2,
       "version_minor": 0
      },
      "text/plain": [
       "Validation: |          | 0/? [00:00<?, ?it/s]"
      ]
     },
     "metadata": {},
     "output_type": "display_data"
    },
    {
     "data": {
      "application/vnd.jupyter.widget-view+json": {
       "model_id": "a4cab20908984f118f07f2f35067563d",
       "version_major": 2,
       "version_minor": 0
      },
      "text/plain": [
       "Validation: |          | 0/? [00:00<?, ?it/s]"
      ]
     },
     "metadata": {},
     "output_type": "display_data"
    },
    {
     "data": {
      "application/vnd.jupyter.widget-view+json": {
       "model_id": "f6514a37c3b14e979b748089fc60f454",
       "version_major": 2,
       "version_minor": 0
      },
      "text/plain": [
       "Validation: |          | 0/? [00:00<?, ?it/s]"
      ]
     },
     "metadata": {},
     "output_type": "display_data"
    },
    {
     "data": {
      "application/vnd.jupyter.widget-view+json": {
       "model_id": "063ab5ba0ec74f338fb30eeda497b312",
       "version_major": 2,
       "version_minor": 0
      },
      "text/plain": [
       "Validation: |          | 0/? [00:00<?, ?it/s]"
      ]
     },
     "metadata": {},
     "output_type": "display_data"
    },
    {
     "data": {
      "application/vnd.jupyter.widget-view+json": {
       "model_id": "8730907511c541039bbcf16f9357f54f",
       "version_major": 2,
       "version_minor": 0
      },
      "text/plain": [
       "Validation: |          | 0/? [00:00<?, ?it/s]"
      ]
     },
     "metadata": {},
     "output_type": "display_data"
    },
    {
     "data": {
      "application/vnd.jupyter.widget-view+json": {
       "model_id": "f25dc2fbc71b4c149c227bed0bf0108a",
       "version_major": 2,
       "version_minor": 0
      },
      "text/plain": [
       "Validation: |          | 0/? [00:00<?, ?it/s]"
      ]
     },
     "metadata": {},
     "output_type": "display_data"
    },
    {
     "name": "stderr",
     "output_type": "stream",
     "text": [
      "\n",
      "Detected KeyboardInterrupt, attempting graceful shutdown ...\n"
     ]
    },
    {
     "ename": "SystemExit",
     "evalue": "1",
     "output_type": "error",
     "traceback": [
      "An exception has occurred, use %tb to see the full traceback.\n",
      "\u001b[31mSystemExit\u001b[39m\u001b[31m:\u001b[39m 1\n"
     ]
    }
   ],
   "source": [
    "from src.modeling.ssl_graph_brep import train\n",
    "\n",
    "\n",
    "train.run(\n",
    "    npz_brep_dir=BREPNET_NPZ_DIR,\n",
    "    batch_size=32,\n",
    "    epochs=50,\n",
    "    num_workers=4,\n",
    "    proj_dim=128,\n",
    "    lr=1e-3,\n",
    "    hidden=64,\n",
    "    tau=0.05,\n",
    "    lambda_topo_next=1.5,\n",
    "    lambda_topo_mate=1.5,\n",
    "    aug_p=0.15,\n",
    "    topo_tau=0.05,\n",
    "    weight_decay=1e-4,\n",
    "    validation_ratio=0.2,\n",
    "    test_ratio=0.1,\n",
    "    )"
   ]
  },
  {
   "cell_type": "code",
   "execution_count": 5,
   "id": "815f23f8",
   "metadata": {},
   "outputs": [
    {
     "data": {
      "image/png": "[encoded data removed]",
      "text/plain": [
       "<Figure size 1000x800 with 4 Axes>"
      ]
     },
     "metadata": {},
     "output_type": "display_data"
    }
   ],
   "source": [
    "from src.modeling.ssl_graph_brep import plots\n",
    "\n",
    "metrics_csv = REPORTS_DIR / \"ssl_brep\" / \"version_1\" / \"metrics.csv\"\n",
    "\n",
    "plots.plot_training_curves(metrics_csv)"
   ]
  },
  {
   "cell_type": "code",
   "execution_count": 7,
   "id": "419ad043",
   "metadata": {},
   "outputs": [
    {
     "name": "stdout",
     "output_type": "stream",
     "text": [
      "Query: 42. Ejector-01.prt\n",
      "Top-10: ['42. Ejector-01.prt', '42. Ejector-05.prt', '42. Ejector-06.prt', '42. Ejector-04.prt', '42. Ejector-02', '42. Ejector-07.prt', '42. Ejector-08.prt', '42. Ejector-10.prt', '42. Ejector-09.prt', '42. Ejector.prt']\n",
      "---\n",
      "Query: 42. Ejector-02\n",
      "Top-10: ['42. Ejector-02', '42. Ejector-03.prt', '42. Ejector-01.prt', '42. Ejector-05.prt', '42. Ejector-06.prt', '42. Ejector-04.prt', '42. Ejector-07.prt', '42. Ejector-08.prt', '42. Ejector.prt', '42. Ejector-10.prt']\n",
      "---\n",
      "Query: 42. Ejector-03.prt\n",
      "Top-10: ['42. Ejector-03.prt', '42. Ejector-02', '42. Ejector-04.prt', '42. Ejector-01.prt', '42. Ejector-09.prt', '42. Ejector-05.prt', '42. Ejector-10.prt', '42. Ejector-06.prt', '42. Ejector.prt', '42. Ejector-07.prt']\n",
      "---\n",
      "Query: 42. Ejector-04.prt\n",
      "Top-10: ['42. Ejector-04.prt', '42. Ejector-09.prt', '42. Ejector-01.prt', '42. Ejector-03.prt', '42. Ejector-10.prt', '42. Ejector-05.prt', '42. Ejector-06.prt', '42. Ejector-02', '42. Ejector-07.prt', '42. Ejector-08.prt']\n",
      "---\n",
      "Query: 42. Ejector-05.prt\n",
      "Top-10: ['42. Ejector-05.prt', '42. Ejector-01.prt', '42. Ejector-06.prt', '42. Ejector-02', '42. Ejector-07.prt', '42. Ejector-08.prt', '42. Ejector-04.prt', '42. Ejector-10.prt', '42. Ejector-09.prt', '42. Ejector.prt']\n",
      "---\n",
      "Query: 42. Ejector-06.prt\n",
      "Top-10: ['42. Ejector-06.prt', '42. Ejector-05.prt', '42. Ejector-01.prt', '42. Ejector-08.prt', '42. Ejector-07.prt', '42. Ejector-02', '42. Ejector-04.prt', '42. Ejector-10.prt', '42. Ejector-09.prt', '42. Ejector.prt']\n",
      "---\n",
      "Query: 42. Ejector-07.prt\n",
      "Top-10: ['42. Ejector-07.prt', '42. Ejector-08.prt', '42. Ejector-06.prt', '42. Ejector-05.prt', '42. Ejector-01.prt', '42. Ejector-02', '42. Ejector.prt', '42. Ejector-04.prt', '42. Ejector-10.prt', '42. Ejector-09.prt']\n",
      "---\n",
      "Query: 42. Ejector-08.prt\n",
      "Top-10: ['42. Ejector-08.prt', '42. Ejector-07.prt', '42. Ejector-06.prt', '42. Ejector-05.prt', '42. Ejector-01.prt', '42. Ejector-02', '42. Ejector.prt', '42. Ejector-04.prt', '42. Ejector-10.prt', '42. Ejector-09.prt']\n",
      "---\n",
      "Query: 42. Ejector-09.prt\n",
      "Top-10: ['42. Ejector-09.prt', '42. Ejector-04.prt', '42. Ejector-10.prt', '42. Ejector-01.prt', '42. Ejector-06.prt', '42. Ejector-05.prt', '42. Ejector-03.prt', '42. Ejector-02', '42. Ejector-07.prt', '42. Ejector-08.prt']\n",
      "---\n",
      "Query: 42. Ejector-10.prt\n",
      "Top-10: ['42. Ejector-10.prt', '42. Ejector-09.prt', '42. Ejector-04.prt', '42. Ejector-01.prt', '42. Ejector-06.prt', '42. Ejector-05.prt', '42. Ejector-03.prt', '42. Ejector-02', '42. Ejector-07.prt', '42. Ejector-08.prt']\n",
      "---\n",
      "Query: 42. Ejector.prt\n",
      "Top-10: ['42. Ejector.prt', '42. Ejector-01.prt', '42. Ejector-05.prt', '42. Ejector-02', '42. Ejector-06.prt', '42. Ejector-07.prt', '42. Ejector-08.prt', '42. Ejector-04.prt', 'Зацеп трубки направляющий 7.prt', '42. Ejector-03.prt']\n",
      "---\n",
      "Query: 42. Silencer Fix-01.prt\n",
      "Top-10: ['42. Silencer Fix-01.prt', '42. Silencer Fix-02.prt', '42. Silencer Fix.prt', '42. Silencer Fix-03.prt', '42. Silencer Fix-04.prt', '42. Silencer Fix-09.prt', '42. Silencer Fix-08.prt', '42. Silencer Fix-05.prt', '42. Silencer Fix-06.prt', '42. Silencer Fix-07.prt']\n",
      "---\n",
      "Query: 42. Silencer Fix-02.prt\n",
      "Top-10: ['42. Silencer Fix-02.prt', '42. Silencer Fix-01.prt', '42. Silencer Fix.prt', '42. Silencer Fix-03.prt', '42. Silencer Fix-04.prt', '42. Silencer Fix-09.prt', '42. Silencer Fix-08.prt', '42. Silencer Fix-05.prt', '42. Silencer Fix-06.prt', '42. Silencer Fix-07.prt']\n",
      "---\n",
      "Query: 42. Silencer Fix-03.prt\n",
      "Top-10: ['42. Silencer Fix-03.prt', '42. Silencer Fix-04.prt', '42. Silencer Fix-09.prt', '42. Silencer Fix.prt', '42. Silencer Fix-02.prt', '42. Silencer Fix-01.prt', '42. Silencer Fix-08.prt', '42. Silencer Fix-05.prt', '42. Silencer Fix-06.prt', '42. Silencer Fix-07.prt']\n",
      "---\n",
      "Query: 42. Silencer Fix-04.prt\n",
      "Top-10: ['42. Silencer Fix-04.prt', '42. Silencer Fix-09.prt', '42. Silencer Fix-03.prt', '42. Silencer Fix-08.prt', '42. Silencer Fix.prt', '42. Silencer Fix-05.prt', '42. Silencer Fix-02.prt', '42. Silencer Fix-01.prt', '42. Silencer Fix-06.prt', '42. Silencer Fix-07.prt']\n",
      "---\n"
     ]
    }
   ],
   "source": [
    "from src.modeling.ssl_graph_brep.inference import extract_embeddings, topk_similar, search_by_name\n",
    "\n",
    "ckpt = MODELS_DIR / \"ssl_brep\" / \"ssl-brep-epoch=23-val_infoNCE_acc=0.719.ckpt\"\n",
    "# BREPNET_NPZ_DIR = PROCESSED_DATA_DIR / \"test\" / \"features\" / \"42. Ejector\"\n",
    "data_dir = Path(BREPNET_NPZ_DIR)\n",
    "ids, E = extract_embeddings(ckpt, data_dir)\n",
    "\n",
    "topk_idx = topk_similar(E, k=10)\n",
    "for i, nn_idx in enumerate(topk_idx[:15]):\n",
    "    print(\"Query:\", ids[i])\n",
    "    print(\"Top-10:\", [ids[j] for j in nn_idx])\n",
    "    print(\"---\")"
   ]
  },
  {
   "cell_type": "code",
   "execution_count": null,
   "id": "6d4a7247",
   "metadata": {},
   "outputs": [
    {
     "name": "stdout",
     "output_type": "stream",
     "text": [
      "\n",
      "Запрос: 43. Extractor_body_1\n",
      "   1. 100.00%  43. Extractor_body_1\n",
      "   2.  99.94%  43. Extractor-02_body_1\n",
      "   3.  99.94%  43. Extractor-01_body_1\n",
      "   4.  99.66%  43. Extractor-03_body_1\n",
      "   5.  99.38%  43. Extractor-07_body_1\n",
      "   6.  99.18%  43. Extractor-04_body_1\n",
      "   7.  99.05%  43. Extractor-08_body_1\n",
      "   8.  98.93%  43. Extractor-05_body_1\n",
      "   9.  98.90%  43. Extractor-06_body_1\n",
      "  10.  98.84%  Кожух_body_1\n",
      "  11.  98.84%  Вкладыш_body_1\n",
      "  12.  98.63%  Кольцо цевья_body_1\n",
      "  13.  98.54%  Крышка ствольной коробки_body_1\n",
      "  14.  98.48%  43. Extractor-09_body_1\n",
      "  15.  98.30%  Курок_body_1\n",
      "  16.  98.26%  Крючок спусковой_body_1\n",
      "  17.  98.15%  Компенсатор_body_1\n",
      "  18.  98.09%  43. Extractor-10_body_1\n",
      "  19.  98.07%  Основание замедлителя_body_1\n",
      "  20.  98.06%  Накладка ствольная_body_1\n",
      "  21.  97.87%  Выбрасыватель_body_1\n",
      "  22.  97.76%  Автоспуск_body_1\n",
      "  23.  97.62%  Гайка рукаятки_body_1\n",
      "  24.  97.07%  Опорный выступ_body_1\n",
      "  25.  95.90%  Кольцо накладки заднее_body_1\n",
      "  26.  94.72%  Карабин_body_1\n",
      "  27.  90.30%  Направляющая_body_1\n",
      "  28.  84.70%  Заклепка сухаря_body_1\n",
      "  29.  83.56%  Кольцо_body_1\n"
     ]
    }
   ],
   "source": [
    "import pandas as pd\n",
    "\n",
    "class_name = \"44. Extractor Pin\"\n",
    "\n",
    "BREPNET_NPZ_DIR = PROCESSED_DATA_DIR / \"test\" / \"features\" / class_name\n",
    "REPORTS_DIR\n",
    "ids, E = extract_embeddings(model_ckpt=ckpt, data_dir=BREPNET_NPZ_DIR)\n",
    "\n",
    "\n",
    "results = search_by_name(ids, E, query_name=f\"{class_name}_body_1\", include_self=True, max_print=30)\n",
    "\n",
    "report_name = 'graph_report.xlsx'\n",
    "\n",
    "df = pd.DataFrame(results, columns=['q', 'acc', 'name'] )\n",
    "report_path = REPORTS_DIR / report_name  # 'graph_report.xlsx'\n",
    "mode = 'a' if Path(report_path).exists() else 'w'  # append или создать\n",
    "with pd.ExcelWriter(report_path, engine=\"openpyxl\", mode=mode) as writer:\n",
    "    df.to_excel(writer, sheet_name=class_name, index=False)"
   ]
  }
 ],
 "metadata": {
  "kernelspec": {
   "display_name": "brepnet",
   "language": "python",
   "name": "python3"
  },
  "language_info": {
   "codemirror_mode": {
    "name": "ipython",
    "version": 3
   },
   "file_extension": ".py",
   "mimetype": "text/x-python",
   "name": "python",
   "nbconvert_exporter": "python",
   "pygments_lexer": "ipython3",
   "version": "3.11.13"
  }
 },
 "nbformat": 4,
 "nbformat_minor": 5
}
