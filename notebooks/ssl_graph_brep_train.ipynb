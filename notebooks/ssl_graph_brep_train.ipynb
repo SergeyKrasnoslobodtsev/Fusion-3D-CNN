{
 "cells": [
  {
   "cell_type": "code",
   "execution_count": 1,
   "id": "a4449ade",
   "metadata": {},
   "outputs": [
    {
     "name": "stderr",
     "output_type": "stream",
     "text": [
      "\u001b[32m2025-09-19 21:54:33.070\u001b[0m | \u001b[1mINFO    \u001b[0m | \u001b[36msrc.config\u001b[0m:\u001b[36m<module>\u001b[0m:\u001b[36m11\u001b[0m - \u001b[1mPROJ_ROOT path is: G:\\Projects\\Fusion-3D-CNN\u001b[0m\n"
     ]
    },
    {
     "name": "stdout",
     "output_type": "stream",
     "text": [
      "Project root added to path: g:\\Projects\\Fusion-3D-CNN\n"
     ]
    }
   ],
   "source": [
    "%load_ext autoreload\n",
    "%autoreload 2\n",
    "import notebook_setup\n",
    "from src.config import INTERIM_DATA_DIR, PROCESSED_DATA_DIR, REPORTS_DIR, EXTERNAL_DATA_DIR, MODELS_DIR\n",
    "import os\n",
    "os.environ[\"KMP_DUPLICATE_LIB_OK\"] = \"TRUE\"\n",
    "os.environ[\"OMP_NUM_THREADS\"] = \"4\"\n",
    "os.environ[\"MKL_NUM_THREADS\"] = \"4\"\n",
    "\n",
    "BREPNET_NPZ_DIR = INTERIM_DATA_DIR / \"features\" / \"brepnet\""
   ]
  },
  {
   "cell_type": "code",
   "execution_count": 2,
   "id": "d729293c",
   "metadata": {},
   "outputs": [
    {
     "name": "stdout",
     "output_type": "stream",
     "text": [
      "face_features (9, 7)\n",
      "face_point_grids (9, 7, 10, 10)\n",
      "edge_features (16, 10)\n",
      "coedge_point_grids (31, 12, 10)\n",
      "coedge_features (31, 1)\n",
      "coedge_lcs (31, 4, 4)\n",
      "coedge_scale_factors (31,)\n",
      "coedge_reverse_flags (31,)\n",
      "next (31,)\n",
      "mate (31,)\n",
      "face (31,)\n",
      "edge (31,)\n"
     ]
    }
   ],
   "source": [
    "import numpy as np\n",
    "from pathlib import Path\n",
    "files = list(Path(BREPNET_NPZ_DIR).glob(\"*.npz\"))\n",
    "\n",
    "feats = np.load(files[0], allow_pickle=True)\n",
    "\n",
    "for k, v in feats.items():\n",
    "    print(k, v.shape)"
   ]
  },
  {
   "cell_type": "code",
   "execution_count": 3,
   "id": "112c8a00",
   "metadata": {},
   "outputs": [
    {
     "name": "stdout",
     "output_type": "stream",
     "text": [
      "Dataset length: 129\n",
      "HeteroData(\n",
      "  face={\n",
      "    x=[9, 7],\n",
      "    uv=[9, 7, 10, 10],\n",
      "    num_nodes=9,\n",
      "  },\n",
      "  edge={\n",
      "    x=[16, 10],\n",
      "    num_nodes=16,\n",
      "  },\n",
      "  coedge={\n",
      "    x=[31, 1],\n",
      "    grid=[31, 12, 10],\n",
      "    lcs=[31, 4, 4],\n",
      "    scale=[31],\n",
      "    reverse=[31],\n",
      "    num_nodes=31,\n",
      "  },\n",
      "  (coedge, next, coedge)={ edge_index=[2, 31] },\n",
      "  (coedge, mate, coedge)={ edge_index=[2, 31] },\n",
      "  (coedge, to_face, face)={ edge_index=[2, 31] },\n",
      "  (coedge, to_edge, edge)={ edge_index=[2, 31] }\n",
      ")\n"
     ]
    }
   ],
   "source": [
    "from src.modeling.ssl_graph_brep.data_module.brep_dataset import BRepNPZDataset\n",
    "\n",
    "dataset = BRepNPZDataset(BREPNET_NPZ_DIR)\n",
    "print(f\"Dataset length: {len(dataset)}\")\n",
    "g = dataset.get(0)\n",
    "print(g)\n",
    "\n",
    "for k, v in g.items():\n",
    "    print(k, v.shape if hasattr(v, \"shape\") else v)"
   ]
  },
  {
   "cell_type": "code",
   "execution_count": 4,
   "id": "61ab1481",
   "metadata": {},
   "outputs": [
    {
     "name": "stdout",
     "output_type": "stream",
     "text": [
      "HeteroDataBatch(\n",
      "  face={\n",
      "    x=[2546, 7],\n",
      "    uv=[2546, 7, 10, 10],\n",
      "    num_nodes=2546,\n",
      "    batch=[2546],\n",
      "    ptr=[33],\n",
      "  },\n",
      "  edge={\n",
      "    x=[7040, 10],\n",
      "    num_nodes=7040,\n",
      "    batch=[7040],\n",
      "    ptr=[33],\n",
      "  },\n",
      "  coedge={\n",
      "    x=[14057, 1],\n",
      "    grid=[14057, 12, 10],\n",
      "    lcs=[14057, 4, 4],\n",
      "    scale=[14057],\n",
      "    reverse=[14057],\n",
      "    num_nodes=14057,\n",
      "    batch=[14057],\n",
      "    ptr=[33],\n",
      "  },\n",
      "  (coedge, next, coedge)={ edge_index=[2, 14057] },\n",
      "  (coedge, mate, coedge)={ edge_index=[2, 14057] },\n",
      "  (coedge, to_face, face)={ edge_index=[2, 14057] },\n",
      "  (coedge, to_edge, edge)={ edge_index=[2, 14057] }\n",
      ")\n"
     ]
    }
   ],
   "source": [
    "from src.modeling.ssl_graph_brep.data_module.brep_data_loader import BRepDataModule\n",
    "data_module = BRepDataModule(BREPNET_NPZ_DIR, batch_size=32, num_workers=0)\n",
    "data_module.setup()\n",
    "\n",
    "batch = next(iter(data_module.train_dataloader()))\n",
    "print(batch)"
   ]
  },
  {
   "cell_type": "code",
   "execution_count": null,
   "id": "66650655",
   "metadata": {},
   "outputs": [
    {
     "name": "stderr",
     "output_type": "stream",
     "text": [
      "GPU available: True (cuda), used: True\n",
      "TPU available: False, using: 0 TPU cores\n",
      "HPU available: False, using: 0 HPUs\n",
      "c:\\Users\\Kaktus\\.conda\\envs\\brepnet\\Lib\\site-packages\\pytorch_lightning\\callbacks\\model_checkpoint.py:751: Checkpoint directory G:\\Projects\\Fusion-3D-CNN\\models\\ssl_brep exists and is not empty.\n",
      "LOCAL_RANK: 0 - CUDA_VISIBLE_DEVICES: [0]\n",
      "\n",
      "  | Name        | Type                | Params | Mode \n",
      "------------------------------------------------------------\n",
      "0 | face_enc    | UVNetSurfaceEncoder | 406 K  | train\n",
      "1 | coedge_enc  | UVNetCurveEncoder   | 159 K  | train\n",
      "2 | edge_lin    | Linear              | 1.4 K  | train\n",
      "3 | gnn         | BRepHeteroGNN       | 100 K  | train\n",
      "4 | projector   | Sequential          | 131 K  | train\n",
      "5 | scorer_next | BilinearScorer      | 65.5 K | train\n",
      "6 | scorer_mate | BilinearScorer      | 65.5 K | train\n",
      "------------------------------------------------------------\n",
      "929 K     Trainable params\n",
      "0         Non-trainable params\n",
      "929 K     Total params\n",
      "3.719     Total estimated model params size (MB)\n",
      "85        Modules in train mode\n",
      "0         Modules in eval mode\n"
     ]
    },
    {
     "data": {
      "application/vnd.jupyter.widget-view+json": {
       "model_id": "dc5ac1ecbbbe42158ee2cea9701d68a5",
       "version_major": 2,
       "version_minor": 0
      },
      "text/plain": [
       "Sanity Checking: |          | 0/? [00:00<?, ?it/s]"
      ]
     },
     "metadata": {},
     "output_type": "display_data"
    },
    {
     "name": "stderr",
     "output_type": "stream",
     "text": [
      "c:\\Users\\Kaktus\\.conda\\envs\\brepnet\\Lib\\site-packages\\pytorch_lightning\\trainer\\connectors\\data_connector.py:428: Consider setting `persistent_workers=True` in 'val_dataloader' to speed up the dataloader worker initialization.\n",
      "c:\\Users\\Kaktus\\.conda\\envs\\brepnet\\Lib\\site-packages\\pytorch_lightning\\trainer\\connectors\\data_connector.py:428: Consider setting `persistent_workers=True` in 'train_dataloader' to speed up the dataloader worker initialization.\n",
      "c:\\Users\\Kaktus\\.conda\\envs\\brepnet\\Lib\\site-packages\\pytorch_lightning\\loops\\fit_loop.py:310: The number of training batches (1) is smaller than the logging interval Trainer(log_every_n_steps=10). Set a lower value for log_every_n_steps if you want to see logs for the training epoch.\n"
     ]
    },
    {
     "data": {
      "application/vnd.jupyter.widget-view+json": {
       "model_id": "5ee70fcf66a34ff7b282d3e9ba0fdba1",
       "version_major": 2,
       "version_minor": 0
      },
      "text/plain": [
       "Training: |          | 0/? [00:00<?, ?it/s]"
      ]
     },
     "metadata": {},
     "output_type": "display_data"
    },
    {
     "data": {
      "application/vnd.jupyter.widget-view+json": {
       "model_id": "db06ac40a2984d13a8968d9e24d91f79",
       "version_major": 2,
       "version_minor": 0
      },
      "text/plain": [
       "Validation: |          | 0/? [00:00<?, ?it/s]"
      ]
     },
     "metadata": {},
     "output_type": "display_data"
    },
    {
     "data": {
      "application/vnd.jupyter.widget-view+json": {
       "model_id": "ee9b52f2d3d64d5581c81a3896fdc5d7",
       "version_major": 2,
       "version_minor": 0
      },
      "text/plain": [
       "Validation: |          | 0/? [00:00<?, ?it/s]"
      ]
     },
     "metadata": {},
     "output_type": "display_data"
    },
    {
     "data": {
      "application/vnd.jupyter.widget-view+json": {
       "model_id": "286d63ba988341049d20ef139f198ca0",
       "version_major": 2,
       "version_minor": 0
      },
      "text/plain": [
       "Validation: |          | 0/? [00:00<?, ?it/s]"
      ]
     },
     "metadata": {},
     "output_type": "display_data"
    },
    {
     "data": {
      "application/vnd.jupyter.widget-view+json": {
       "model_id": "5cd866bef53947889ee6063d8828f61e",
       "version_major": 2,
       "version_minor": 0
      },
      "text/plain": [
       "Validation: |          | 0/? [00:00<?, ?it/s]"
      ]
     },
     "metadata": {},
     "output_type": "display_data"
    },
    {
     "data": {
      "application/vnd.jupyter.widget-view+json": {
       "model_id": "0d7c4e84c25e4288a25a434bd9530f6f",
       "version_major": 2,
       "version_minor": 0
      },
      "text/plain": [
       "Validation: |          | 0/? [00:00<?, ?it/s]"
      ]
     },
     "metadata": {},
     "output_type": "display_data"
    },
    {
     "data": {
      "application/vnd.jupyter.widget-view+json": {
       "model_id": "7818895d75af499b8fb03e8ddd473291",
       "version_major": 2,
       "version_minor": 0
      },
      "text/plain": [
       "Validation: |          | 0/? [00:00<?, ?it/s]"
      ]
     },
     "metadata": {},
     "output_type": "display_data"
    },
    {
     "data": {
      "application/vnd.jupyter.widget-view+json": {
       "model_id": "a44ff9dbde0b46479d4e6477429be02c",
       "version_major": 2,
       "version_minor": 0
      },
      "text/plain": [
       "Validation: |          | 0/? [00:00<?, ?it/s]"
      ]
     },
     "metadata": {},
     "output_type": "display_data"
    },
    {
     "data": {
      "application/vnd.jupyter.widget-view+json": {
       "model_id": "d9836cf1253f4b39b05c6f8f83d1bb23",
       "version_major": 2,
       "version_minor": 0
      },
      "text/plain": [
       "Validation: |          | 0/? [00:00<?, ?it/s]"
      ]
     },
     "metadata": {},
     "output_type": "display_data"
    },
    {
     "data": {
      "application/vnd.jupyter.widget-view+json": {
       "model_id": "0672b7d8ef584326bd75054b0f9a501e",
       "version_major": 2,
       "version_minor": 0
      },
      "text/plain": [
       "Validation: |          | 0/? [00:00<?, ?it/s]"
      ]
     },
     "metadata": {},
     "output_type": "display_data"
    },
    {
     "data": {
      "application/vnd.jupyter.widget-view+json": {
       "model_id": "2ce34d0d9be548569a475efb6b63b817",
       "version_major": 2,
       "version_minor": 0
      },
      "text/plain": [
       "Validation: |          | 0/? [00:00<?, ?it/s]"
      ]
     },
     "metadata": {},
     "output_type": "display_data"
    },
    {
     "data": {
      "application/vnd.jupyter.widget-view+json": {
       "model_id": "8e9fd6c0fd404a30bdc84d7c95eefd86",
       "version_major": 2,
       "version_minor": 0
      },
      "text/plain": [
       "Validation: |          | 0/? [00:00<?, ?it/s]"
      ]
     },
     "metadata": {},
     "output_type": "display_data"
    },
    {
     "data": {
      "application/vnd.jupyter.widget-view+json": {
       "model_id": "5b08acb3ab8542faab8c1c70729af5c1",
       "version_major": 2,
       "version_minor": 0
      },
      "text/plain": [
       "Validation: |          | 0/? [00:00<?, ?it/s]"
      ]
     },
     "metadata": {},
     "output_type": "display_data"
    },
    {
     "data": {
      "application/vnd.jupyter.widget-view+json": {
       "model_id": "ceacdf6327a34759a1e328474f4c9dc4",
       "version_major": 2,
       "version_minor": 0
      },
      "text/plain": [
       "Validation: |          | 0/? [00:00<?, ?it/s]"
      ]
     },
     "metadata": {},
     "output_type": "display_data"
    },
    {
     "data": {
      "application/vnd.jupyter.widget-view+json": {
       "model_id": "cb82052bdb674d30a1df20284784e90d",
       "version_major": 2,
       "version_minor": 0
      },
      "text/plain": [
       "Validation: |          | 0/? [00:00<?, ?it/s]"
      ]
     },
     "metadata": {},
     "output_type": "display_data"
    },
    {
     "data": {
      "application/vnd.jupyter.widget-view+json": {
       "model_id": "f81410161c4b4eab8712ed42dc3fdb14",
       "version_major": 2,
       "version_minor": 0
      },
      "text/plain": [
       "Validation: |          | 0/? [00:00<?, ?it/s]"
      ]
     },
     "metadata": {},
     "output_type": "display_data"
    },
    {
     "data": {
      "application/vnd.jupyter.widget-view+json": {
       "model_id": "7adaa79c406e485e9200dd6ba9de6cf9",
       "version_major": 2,
       "version_minor": 0
      },
      "text/plain": [
       "Validation: |          | 0/? [00:00<?, ?it/s]"
      ]
     },
     "metadata": {},
     "output_type": "display_data"
    },
    {
     "data": {
      "application/vnd.jupyter.widget-view+json": {
       "model_id": "ff744366045843f0a00e0f1446ba6e5b",
       "version_major": 2,
       "version_minor": 0
      },
      "text/plain": [
       "Validation: |          | 0/? [00:00<?, ?it/s]"
      ]
     },
     "metadata": {},
     "output_type": "display_data"
    },
    {
     "data": {
      "application/vnd.jupyter.widget-view+json": {
       "model_id": "fd2ee7a9e8e34a9a9d2a157f56c56bb8",
       "version_major": 2,
       "version_minor": 0
      },
      "text/plain": [
       "Validation: |          | 0/? [00:00<?, ?it/s]"
      ]
     },
     "metadata": {},
     "output_type": "display_data"
    },
    {
     "data": {
      "application/vnd.jupyter.widget-view+json": {
       "model_id": "353c16c55fc94b0f92942bfb7cbd60e2",
       "version_major": 2,
       "version_minor": 0
      },
      "text/plain": [
       "Validation: |          | 0/? [00:00<?, ?it/s]"
      ]
     },
     "metadata": {},
     "output_type": "display_data"
    },
    {
     "name": "stderr",
     "output_type": "stream",
     "text": [
      "Exception ignored in: <function _MultiProcessingDataLoaderIter.__del__ at 0x00000115F12CEF20>\n",
      "Traceback (most recent call last):\n",
      "  File \"C:\\Users\\Kaktus\\AppData\\Roaming\\Python\\Python311\\site-packages\\torch\\utils\\data\\dataloader.py\", line 1664, in __del__\n",
      "    self._shutdown_workers()\n",
      "  File \"C:\\Users\\Kaktus\\AppData\\Roaming\\Python\\Python311\\site-packages\\torch\\utils\\data\\dataloader.py\", line 1628, in _shutdown_workers\n",
      "    w.join(timeout=_utils.MP_STATUS_CHECK_INTERVAL)\n",
      "  File \"c:\\Users\\Kaktus\\.conda\\envs\\brepnet\\Lib\\multiprocessing\\process.py\", line 149, in join\n",
      "    res = self._popen.wait(timeout)\n",
      "          ^^^^^^^^^^^^^^^^^^^^^^^^^\n",
      "  File \"c:\\Users\\Kaktus\\.conda\\envs\\brepnet\\Lib\\multiprocessing\\popen_spawn_win32.py\", line 112, in wait\n",
      "    res = _winapi.WaitForSingleObject(int(self._handle), msecs)\n",
      "          ^^^^^^^^^^^^^^^^^^^^^^^^^^^^^^^^^^^^^^^^^^^^^^^^^^^^^\n",
      "KeyboardInterrupt: \n"
     ]
    },
    {
     "data": {
      "application/vnd.jupyter.widget-view+json": {
       "model_id": "a2a88c4414d746dcb797cf5893ee0be8",
       "version_major": 2,
       "version_minor": 0
      },
      "text/plain": [
       "Validation: |          | 0/? [00:00<?, ?it/s]"
      ]
     },
     "metadata": {},
     "output_type": "display_data"
    },
    {
     "ename": "",
     "evalue": "",
     "output_type": "error",
     "traceback": [
      "\u001b[1;31mCannot execute code, session has been disposed. Please try restarting the Kernel."
     ]
    },
    {
     "ename": "",
     "evalue": "",
     "output_type": "error",
     "traceback": [
      "\u001b[1;31mCannot execute code, session has been disposed. Please try restarting the Kernel. \n",
      "\u001b[1;31mView Jupyter <a href='command:jupyter.viewOutput'>log</a> for further details."
     ]
    }
   ],
   "source": [
    "from src.modeling.ssl_graph_brep import train\n",
    "\n",
    "\n",
    "train.run(\n",
    "    npz_brep_dir=BREPNET_NPZ_DIR,\n",
    "    batch_size=32,\n",
    "    epochs=10,\n",
    "    num_workers=4,\n",
    "    proj_dim=256,\n",
    "    lr=3e-4,\n",
    "    hidden=128,\n",
    "    tau=0.07,\n",
    "    lambda_topo_next=1.0,\n",
    "    lambda_topo_mate=1.0,\n",
    "    aug_p=0.15,\n",
    "    topo_tau=0.07,\n",
    "    weight_decay=1e-3,\n",
    "    validation_ratio=0.2,\n",
    "    test_ratio=0.1,\n",
    "    )"
   ]
  },
  {
   "cell_type": "code",
   "execution_count": 5,
   "id": "815f23f8",
   "metadata": {},
   "outputs": [
    {
     "data": {
      "image/png": "[encoded data removed]",
      "text/plain": [
       "<Figure size 1000x800 with 4 Axes>"
      ]
     },
     "metadata": {},
     "output_type": "display_data"
    }
   ],
   "source": [
    "from src.modeling.ssl_graph_brep import plots\n",
    "\n",
    "metrics_csv = REPORTS_DIR / \"ssl_brep\" / \"version_3\" / \"metrics.csv\"\n",
    "\n",
    "plots.plot_training_curves(metrics_csv)"
   ]
  },
  {
   "cell_type": "code",
   "execution_count": 7,
   "id": "419ad043",
   "metadata": {},
   "outputs": [
    {
     "name": "stdout",
     "output_type": "stream",
     "text": [
      "Query: 42. Ejector-01.prt\n",
      "Top-10: ['42. Ejector-01.prt', '42. Ejector-05.prt', '42. Ejector-06.prt', '42. Ejector-02', '42. Ejector.prt', '42. Ejector-04.prt', '42. Ejector-03.prt', '42. Ejector-08.prt', '42. Ejector-07.prt', '42. Ejector-09.prt']\n",
      "---\n",
      "Query: 42. Ejector-02\n",
      "Top-10: ['42. Ejector-02', '42. Ejector-01.prt', '42. Ejector-05.prt', '42. Ejector-06.prt', '42. Ejector-03.prt', '42. Ejector.prt', '42. Ejector-04.prt', '42. Ejector-08.prt', '42. Ejector-07.prt', '42. Ejector-09.prt']\n",
      "---\n",
      "Query: 42. Ejector-03.prt\n",
      "Top-10: ['42. Ejector-03.prt', '42. Ejector-04.prt', '42. Ejector-02', '42. Ejector-01.prt', '42. Ejector-05.prt', '42. Ejector-09.prt', '42. Ejector-06.prt', '42. Ejector.prt', '42. Ejector-10.prt', 'Зацеп трубки направляющий 7.prt']\n",
      "---\n",
      "Query: 42. Ejector-04.prt\n",
      "Top-10: ['42. Ejector-04.prt', '42. Ejector-03.prt', '42. Ejector-01.prt', '42. Ejector-09.prt', '42. Ejector-05.prt', '42. Ejector-06.prt', '42. Ejector-02', '42. Ejector.prt', '42. Ejector-10.prt', 'Зацеп трубки направляющий 7.prt']\n",
      "---\n",
      "Query: 42. Ejector-05.prt\n",
      "Top-10: ['42. Ejector-05.prt', '42. Ejector-01.prt', '42. Ejector-06.prt', '42. Ejector-02', '42. Ejector.prt', '42. Ejector-04.prt', '42. Ejector-08.prt', '42. Ejector-03.prt', '42. Ejector-07.prt', '42. Ejector-09.prt']\n",
      "---\n",
      "Query: 42. Ejector-06.prt\n",
      "Top-10: ['42. Ejector-06.prt', '42. Ejector-05.prt', '42. Ejector-01.prt', '42. Ejector-08.prt', '42. Ejector-07.prt', '42. Ejector-02', '42. Ejector.prt', '42. Ejector-04.prt', '42. Ejector-09.prt', '42. Ejector-03.prt']\n",
      "---\n",
      "Query: 42. Ejector-07.prt\n",
      "Top-10: ['42. Ejector-07.prt', '42. Ejector-08.prt', '42. Ejector-06.prt', '42. Ejector.prt', '42. Ejector-05.prt', '42. Ejector-01.prt', '42. Ejector-02', 'Зацеп трубки направляющий 7.prt', '42. Ejector-09.prt', '42. Ejector-04.prt']\n",
      "---\n",
      "Query: 42. Ejector-08.prt\n",
      "Top-10: ['42. Ejector-08.prt', '42. Ejector-07.prt', '42. Ejector-06.prt', '42. Ejector-05.prt', '42. Ejector.prt', '42. Ejector-01.prt', '42. Ejector-02', 'Зацеп трубки направляющий 7.prt', '42. Ejector-09.prt', '42. Ejector-04.prt']\n",
      "---\n",
      "Query: 42. Ejector-09.prt\n",
      "Top-10: ['42. Ejector-09.prt', '42. Ejector-10.prt', '42. Ejector-04.prt', '42. Ejector-06.prt', '42. Ejector-03.prt', '42. Ejector-01.prt', '42. Ejector-05.prt', '42. Ejector-02', '42. Ejector-08.prt', '42. Ejector-07.prt']\n",
      "---\n",
      "Query: 42. Ejector-10.prt\n",
      "Top-10: ['42. Ejector-10.prt', '42. Ejector-09.prt', '42. Ejector-04.prt', '42. Ejector-06.prt', '42. Ejector-01.prt', '42. Ejector-05.prt', '44. Extractor Pin-09.prt', '44. Extractor Pin-08.prt', '42. Ejector-03.prt', '42. Ejector-02']\n",
      "---\n",
      "Query: 42. Ejector.prt\n",
      "Top-10: ['42. Ejector.prt', '42. Ejector-01.prt', '42. Ejector-05.prt', '42. Ejector-02', '42. Ejector-06.prt', '42. Ejector-07.prt', '42. Ejector-08.prt', '42. Ejector-04.prt', '42. Ejector-03.prt', 'Зацеп трубки направляющий 7.prt']\n",
      "---\n",
      "Query: 42. Silencer Fix-01.prt\n",
      "Top-10: ['42. Silencer Fix-01.prt', '42. Silencer Fix-02.prt', '42. Silencer Fix.prt', '42. Silencer Fix-10.prt', '42. Silencer Fix-03.prt', '42. Silencer Fix-09.prt', '42. Silencer Fix-05.prt', '42. Silencer Fix-04.prt', '42. Silencer Fix-08.prt', '42. Silencer Fix-06.prt']\n",
      "---\n",
      "Query: 42. Silencer Fix-02.prt\n",
      "Top-10: ['42. Silencer Fix-02.prt', '42. Silencer Fix-01.prt', '42. Silencer Fix.prt', '42. Silencer Fix-10.prt', '42. Silencer Fix-03.prt', '42. Silencer Fix-09.prt', '42. Silencer Fix-04.prt', '42. Silencer Fix-05.prt', '42. Silencer Fix-08.prt', '42. Silencer Fix-06.prt']\n",
      "---\n",
      "Query: 42. Silencer Fix-03.prt\n",
      "Top-10: ['42. Silencer Fix-03.prt', '42. Silencer Fix-04.prt', '42. Silencer Fix-08.prt', '42. Silencer Fix-05.prt', '42. Silencer Fix-09.prt', '42. Silencer Fix.prt', '42. Silencer Fix-06.prt', '42. Silencer Fix-07.prt', '42. Silencer Fix-10.prt', '42. Silencer Fix-02.prt']\n",
      "---\n",
      "Query: 42. Silencer Fix-04.prt\n",
      "Top-10: ['42. Silencer Fix-04.prt', '42. Silencer Fix-09.prt', '42. Silencer Fix-08.prt', '42. Silencer Fix-05.prt', '42. Silencer Fix-03.prt', '42. Silencer Fix-06.prt', '42. Silencer Fix-07.prt', '42. Silencer Fix.prt', '42. Silencer Fix-10.prt', '42. Silencer Fix-02.prt']\n",
      "---\n"
     ]
    }
   ],
   "source": [
    "from src.modeling.ssl_graph_brep.inference import extract_embeddings, topk_similar, search_by_name\n",
    "\n",
    "ckpt = MODELS_DIR / \"ssl_brep\" / \"ssl-brep-epoch=05-val_infoNCE_acc=0.932.ckpt\"\n",
    "# BREPNET_NPZ_DIR = PROCESSED_DATA_DIR / \"test\" / \"features\" / \"42. Ejector\"\n",
    "data_dir = Path(BREPNET_NPZ_DIR)\n",
    "ids, E = extract_embeddings(ckpt, data_dir)\n",
    "\n",
    "topk_idx = topk_similar(E, k=10)\n",
    "for i, nn_idx in enumerate(topk_idx[:15]):\n",
    "    print(\"Query:\", ids[i])\n",
    "    print(\"Top-10:\", [ids[j] for j in nn_idx])\n",
    "    print(\"---\")"
   ]
  },
  {
   "cell_type": "code",
   "execution_count": 12,
   "id": "6d4a7247",
   "metadata": {},
   "outputs": [
    {
     "name": "stdout",
     "output_type": "stream",
     "text": [
      "\n",
      "Запрос: Защелка 6.prt\n",
      "   1. 100.00%  Защелка 6.prt\n",
      "   2.  99.98%  Защелка 8.prt\n",
      "   3.  99.98%  Защелка 9.prt\n",
      "   4.  99.93%  Защелка 7.prt\n",
      "   5.  99.49%  Защелка 5.prt\n",
      "   6.  99.49%  Защелка 4.prt\n",
      "   7.  98.87%  Защелка 3.prt\n",
      "   8.  98.60%  Защелка.prt\n",
      "   9.  98.55%  Защелка 1.prt\n",
      "  10.  98.46%  Колодка приклада 7.prt\n",
      "  11.  98.42%  Колодка прицельная 1.prt\n",
      "  12.  98.42%  Колодка прицельная.prt\n",
      "  13.  98.42%  Колодка приклада 8.prt\n",
      "  14.  98.41%  Колодка прицельная 3.prt\n",
      "  15.  98.41%  Колодка прицельная 4.prt\n",
      "  16.  98.37%  Колодка прицельная 5.prt\n",
      "  17.  98.35%  Колодка прицельная 6.prt\n",
      "  18.  98.31%  Колодка приклада 9.prt\n",
      "  19.  98.30%  Колодка прицельная 7.prt\n",
      "  20.  98.27%  Колодка прицельная 8.prt\n",
      "  21.  98.20%  Колодка приклада 6.prt\n",
      "  22.  98.19%  43. Extractor-09.prt\n",
      "  23.  98.15%  Защелка 10.prt\n",
      "  24.  98.13%  43. Extractor-04.prt\n",
      "  25.  98.13%  Колодка прицельная 2.prt\n",
      "  26.  98.12%  Затвор 4.prt\n",
      "  27.  98.12%  Колодка прицельная 10.prt\n",
      "  28.  98.09%  Колодка прицельная 9.prt\n",
      "  29.  98.00%  43. Extractor-05.prt\n",
      "  30.  97.95%  Колодка приклада 1.prt\n"
     ]
    }
   ],
   "source": [
    "import pandas as pd\n",
    "\n",
    "class_name = \"Защелка 6\"\n",
    "\n",
    "# BREPNET_NPZ_DIR = PROCESSED_DATA_DIR / \"test\" / \"features\" / class_name\n",
    "\n",
    "ids, E = extract_embeddings(model_ckpt=ckpt, data_dir=BREPNET_NPZ_DIR)\n",
    "\n",
    "\n",
    "results = search_by_name(ids, E, query_name=f\"{class_name}\", include_self=True, max_print=30)\n",
    "\n",
    "# report_name = 'graph_report.xlsx'\n",
    "\n",
    "# df = pd.DataFrame(results, columns=['q', 'acc', 'name'] )\n",
    "# report_path = REPORTS_DIR / report_name  # 'graph_report.xlsx'\n",
    "# mode = 'a' if Path(report_path).exists() else 'w'  # append или создать\n",
    "# with pd.ExcelWriter(report_path, engine=\"openpyxl\", mode=mode) as writer:\n",
    "#     df.to_excel(writer, sheet_name=class_name, index=False)"
   ]
  }
 ],
 "metadata": {
  "kernelspec": {
   "display_name": "Python 3",
   "language": "python",
   "name": "python3"
  },
  "language_info": {
   "codemirror_mode": {
    "name": "ipython",
    "version": 3
   },
   "file_extension": ".py",
   "mimetype": "text/x-python",
   "name": "python",
   "nbconvert_exporter": "python",
   "pygments_lexer": "ipython3",
   "version": "3.11.13"
  }
 },
 "nbformat": 4,
 "nbformat_minor": 5
}
