{
 "cells": [
  {
   "cell_type": "code",
   "execution_count": 1,
   "id": "dd76cd54",
   "metadata": {},
   "outputs": [
    {
     "name": "stderr",
     "output_type": "stream",
     "text": [
      "\u001b[32m2025-09-22 12:41:44.465\u001b[0m | \u001b[1mINFO    \u001b[0m | \u001b[36msrc.config\u001b[0m:\u001b[36m<module>\u001b[0m:\u001b[36m11\u001b[0m - \u001b[1mPROJ_ROOT path is: D:\\workspace\\projects\\freelance\\Fusion3DNet\u001b[0m\n"
     ]
    },
    {
     "name": "stdout",
     "output_type": "stream",
     "text": [
      "Project root added to path: d:\\workspace\\projects\\freelance\\Fusion3DNet\n"
     ]
    }
   ],
   "source": [
    "%load_ext autoreload\n",
    "%autoreload 2\n",
    "import notebook_setup\n",
    "from src.config import INTERIM_DATA_DIR, PROCESSED_DATA_DIR, REPORTS_DIR, EXTERNAL_DATA_DIR, MODELS_DIR\n",
    "import os"
   ]
  },
  {
   "cell_type": "code",
   "execution_count": 40,
   "id": "76381da6",
   "metadata": {},
   "outputs": [
    {
     "name": "stdout",
     "output_type": "stream",
     "text": [
      "Количество файлов BrepNet: 129\n",
      "Количество файлов DINO s14 2d: 129\n",
      "Количество файлов DINO b14 2d: 129\n",
      "Количество файлов CLIP s16 2d: 129\n",
      "Количество файлов CLIP b32 2d: 129\n",
      "Количество файлов DINO s14 2dv0: 129\n",
      "Количество файлов DINO b14 2dv0: 129\n",
      "Количество файлов CLIP s16 2dv0: 129\n",
      "Количество файлов CLIP b32 2dv0: 129\n"
     ]
    }
   ],
   "source": [
    "from pathlib import Path\n",
    "FEATURES_DIR = PROCESSED_DATA_DIR / \"dataset_129\" / 'features'\n",
    "BREPNET_NPZ_DIR = FEATURES_DIR / \"brep\"\n",
    "\n",
    "DINOs14_2d_NPZ_DIR = FEATURES_DIR / '2D' / \"dinov2_vits14\"\n",
    "DINOb14_2d_NPZ_DIR = FEATURES_DIR / '2D' / \"dinov2_vitb14\"\n",
    "CLIPs16_2d_NPZ_DIR = FEATURES_DIR / '2D' / \"ViT-B_16\"\n",
    "CLIPb32_2d_NPZ_DIR = FEATURES_DIR / '2D' / \"ViT-B_32\"\n",
    "\n",
    "DINOs14_2dv0_NPZ_DIR = FEATURES_DIR / '2D_v0' / \"dinov2_vits14\"\n",
    "DINOb14_2dv0_NPZ_DIR = FEATURES_DIR / '2D_v0' / \"dinov2_vitb14\"\n",
    "CLIPs16_2dv0_NPZ_DIR = FEATURES_DIR / '2D_v0' / \"ViT-B_16\"\n",
    "CLIPb32_2dv0_NPZ_DIR = FEATURES_DIR / '2D_v0' / \"ViT-B_32\"\n",
    "\n",
    "def get_files(step_path: Path, extensions=(\"stp\", \"step\")):\n",
    "    return [f for ext in extensions for f in step_path.glob(f\"**/*.{ext}\")]\n",
    "\n",
    "brepnet_files = get_files(BREPNET_NPZ_DIR, ('npz',))\n",
    "print(f\"Количество файлов BrepNet: {len(brepnet_files)}\")\n",
    "\n",
    "dino_s14_2d_files = get_files(DINOs14_2d_NPZ_DIR, ('npz',))\n",
    "dino_b14_2d_files = get_files(DINOb14_2d_NPZ_DIR, ('npz',))\n",
    "clip_s16_2d_files = get_files(CLIPs16_2d_NPZ_DIR, ('npz',))\n",
    "clip_b32_2d_files = get_files(CLIPb32_2d_NPZ_DIR, ('npz',))\n",
    "\n",
    "dino_s14_2dv0_files = get_files(DINOs14_2dv0_NPZ_DIR, ('npz',))\n",
    "dino_b14_2dv0_files = get_files(DINOb14_2dv0_NPZ_DIR, ('npz',))\n",
    "clip_s16_2dv0_files = get_files(CLIPs16_2dv0_NPZ_DIR, ('npz',))\n",
    "clip_b32_2dv0_files = get_files(CLIPb32_2dv0_NPZ_DIR, ('npz',))\n",
    "\n",
    "print(f\"Количество файлов DINO s14 2d: {len(dino_s14_2d_files)}\")\n",
    "print(f\"Количество файлов DINO b14 2d: {len(dino_b14_2d_files)}\")\n",
    "print(f\"Количество файлов CLIP s16 2d: {len(clip_s16_2d_files)}\")\n",
    "print(f\"Количество файлов CLIP b32 2d: {len(clip_b32_2d_files)}\")\n",
    "print(f\"Количество файлов DINO s14 2dv0: {len(dino_s14_2dv0_files)}\")\n",
    "print(f\"Количество файлов DINO b14 2dv0: {len(dino_b14_2dv0_files)}\")\n",
    "print(f\"Количество файлов CLIP s16 2dv0: {len(clip_s16_2dv0_files)}\")\n",
    "print(f\"Количество файлов CLIP b32 2dv0: {len(clip_b32_2dv0_files)}\")"
   ]
  },
  {
   "cell_type": "code",
   "execution_count": 66,
   "id": "39f5e617",
   "metadata": {},
   "outputs": [],
   "source": [
    "\n",
    "from src.modeling.vit.metrics import eval_object_max\n",
    "import numpy as np\n",
    "\n",
    "def load_npz_features(npz_path):\n",
    "    data = np.load(npz_path)\n",
    "    features = data['views']\n",
    "    return features\n",
    "\n",
    "\n",
    "model_names = [\n",
    "    \"DINO s14 2d\", \"DINO b14 2d\", \"CLIP s16 2d\", \"CLIP b32 2d\",\n",
    "    \"DINO s14 2dv0\", \"DINO b14 2dv0\", \"CLIP s16 2dv0\", \"CLIP b32 2dv0\"\n",
    "]\n",
    "\n",
    "model_files = [\n",
    "    dino_s14_2d_files, dino_b14_2d_files, clip_s16_2d_files, clip_b32_2d_files,\n",
    "    dino_s14_2dv0_files, dino_b14_2dv0_files, clip_s16_2dv0_files, clip_b32_2dv0_files\n",
    "]\n",
    "\n",
    "def evaluate_models_for_search(model_names, model_files, load_fn):\n",
    "    rows = []\n",
    "    for name, files in zip(model_names, model_files):\n",
    "        if not files:\n",
    "            rows.append({\"model\": name, \"queries\": 0})\n",
    "            continue\n",
    "\n",
    "        m = eval_object_max(files, load_fn, Ks=(1, 5, 10))\n",
    "        m[\"model\"] = name\n",
    "        rows.append(m)\n",
    "    return rows\n",
    "\n",
    "rows = evaluate_models_for_search(model_names, model_files, load_npz_features)"
   ]
  },
  {
   "cell_type": "code",
   "execution_count": 67,
   "id": "96dce266",
   "metadata": {},
   "outputs": [],
   "source": [
    "\n",
    "from src.modeling.BRepNet.metrics import evaluate_brepnet_faces_object_max\n",
    "\n",
    "out_face_dir = BREPNET_NPZ_DIR / \"embeddings_faces\"\n",
    "out_model_dir = BREPNET_NPZ_DIR / \"embeddings_models\"\n",
    "\n",
    "brep_metrics = evaluate_brepnet_faces_object_max(\n",
    "        faces_dir=out_face_dir,\n",
    "        model_dir=out_model_dir,\n",
    "        Ks=(1,5,10)\n",
    "    )\n",
    "\n"
   ]
  },
  {
   "cell_type": "code",
   "execution_count": null,
   "id": "b22e5a4b",
   "metadata": {},
   "outputs": [
    {
     "name": "stdout",
     "output_type": "stream",
     "text": [
      "        model  queries  recall@1  recall@5  recall@10      mAP   nDCG@5  nDCG@10  pos_mean  neg_mean   margin  cohens_d\n",
      "DINO s14 2dv0     1032  0.897287  0.996124        1.0 0.943849 0.956899 0.958236       1.0  0.639031 0.360969  2.803236\n",
      "  DINO b14 2d     1032  0.892442  0.998062        1.0 0.939470 0.954214 0.954904       1.0  0.827749 0.172251  2.222084\n",
      "DINO b14 2dv0     1032  0.892442  0.998062        1.0 0.939470 0.954214 0.954904       1.0  0.827749 0.172251  2.222084\n",
      "  DINO s14 2d     1032  0.891473  0.998062        1.0 0.939244 0.954075 0.954766       1.0  0.871053 0.128947  2.246197\n",
      "      BRepNet     9895  0.826781  0.996564        1.0 0.901286 0.925219 0.926385       1.0  0.876704 0.123296  0.819113\n",
      "CLIP b32 2dv0     1032  0.891473  0.996124        1.0 0.940215 0.954179 0.955515       1.0  0.894322 0.105678  2.684414\n",
      "CLIP s16 2dv0     1032  0.901163  0.996124        1.0 0.945706 0.958263 0.959599       1.0  0.906414 0.093586  2.748654\n",
      "  CLIP s16 2d     1032  0.975775  1.000000        1.0 0.987403 0.990679 0.990679       1.0  0.911103 0.088897  2.551635\n",
      "  CLIP b32 2d     1032  0.975775  1.000000        1.0 0.987403 0.990679 0.990679       1.0  0.915726 0.084274  2.541060\n"
     ]
    }
   ],
   "source": [
    "import pandas as pd\n",
    "df_metrics = pd.DataFrame(rows)\n",
    "df_brep = pd.DataFrame([{\"model\": \"BRepNet\", **brep_metrics}])\n",
    "# объединяем результаты\n",
    "\n",
    "df_metrics = pd.concat([df_metrics, df_brep], ignore_index=True)\n",
    "\n",
    "cols = [\"model\", \"queries\", \"recall@1\", \"recall@5\", \"recall@10\", \"mAP\", \"nDCG@5\", \"nDCG@10\",\n",
    "        \"pos_mean\", \"neg_mean\", \"margin\", \"cohens_d\"]\n",
    "\n",
    "df_metrics = df_metrics.reindex(columns=cols)\n",
    "df_metrics = df_metrics.sort_values([ \"margin\", \"recall@1\", \"mAP\"], ascending=False)\n",
    "print(df_metrics.to_string(index=False))\n"
   ]
  },
  {
   "cell_type": "code",
   "execution_count": null,
   "id": "a225f4ba",
   "metadata": {},
   "outputs": [],
   "source": []
  },
  {
   "cell_type": "code",
   "execution_count": null,
   "id": "3c48639b",
   "metadata": {},
   "outputs": [
    {
     "name": "stdout",
     "output_type": "stream",
     "text": [
      "Поисковая модель: DINO s14 2d\n"
     ]
    },
    {
     "data": {
      "text/plain": [
       "'                   model     score\\n0    42. Silencer Fix-07  1.000000\\n1    42. Silencer Fix-06  0.984941\\n2    42. Silencer Fix-05  0.974784\\n3    42. Silencer Fix-09  0.932279\\n4    42. Silencer Fix-08  0.921049\\n5    42. Silencer Fix-01  0.920239\\n6    42. Silencer Fix-10  0.917958\\n7       42. Silencer Fix  0.913437\\n8   44. Extractor Pin-09  0.888887\\n9    42. Silencer Fix-02  0.888414\\n10      43. Extractor-04  0.884805\\n11   42. Silencer Fix-03  0.884534\\n12   42. Silencer Fix-04  0.883538\\n13  44. Extractor Pin-10  0.881785\\n14  44. Extractor Pin-08  0.880560\\n15         43. Extractor  0.876203\\n16             Защелка 2  0.875507\\n17      43. Extractor-05  0.871717\\n18             Защелка 9  0.871509\\n19      43. Extractor-03  0.870552'"
      ]
     },
     "execution_count": 83,
     "metadata": {},
     "output_type": "execute_result"
    }
   ],
   "source": [
    "from src.modeling.vit.searcher import vit_topk\n",
    "query_index = 17\n",
    "top = 20\n",
    "print(vit_topk(\"DINO s14 2d\",  dino_s14_2d_files,  query=query_index, k=top).to_string())\n",
    "# vit_topk(\"DINO b14 2d\",  dino_b14_2d_files,  query=query_index, k=top)\n",
    "# vit_topk(\"CLIP s16 2d\",  clip_s16_2d_files,  query=query_index, k=top)\n",
    "# vit_topk(\"CLIP b32 2d\",  clip_b32_2d_files,  query=query_index, k=top)\n",
    "\n",
    "# vit_topk(\"DINO s14 2dv0\", dino_s14_2dv0_files, query=query_index, k=top)\n",
    "# vit_topk(\"DINO b14 2dv0\", dino_b14_2dv0_files, query=query_index, k=top)\n",
    "# vit_topk(\"CLIP s16 2dv0\", clip_s16_2dv0_files, query=query_index, k=top)\n",
    "# vit_topk(\"CLIP b32 2dv0\", clip_b32_2dv0_files, query=query_index, k=top)"
   ]
  }
 ],
 "metadata": {
  "kernelspec": {
   "display_name": "brepnet",
   "language": "python",
   "name": "python3"
  },
  "language_info": {
   "codemirror_mode": {
    "name": "ipython",
    "version": 3
   },
   "file_extension": ".py",
   "mimetype": "text/x-python",
   "name": "python",
   "nbconvert_exporter": "python",
   "pygments_lexer": "ipython3",
   "version": "3.11.13"
  }
 },
 "nbformat": 4,
 "nbformat_minor": 5
}
