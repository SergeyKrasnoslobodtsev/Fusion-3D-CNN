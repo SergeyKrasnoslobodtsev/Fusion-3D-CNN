{
 "cells": [
  {
   "cell_type": "code",
   "execution_count": 1,
   "id": "dd76cd54",
   "metadata": {},
   "outputs": [
    {
     "name": "stderr",
     "output_type": "stream",
     "text": [
      "\u001b[32m2025-09-22 21:11:55.679\u001b[0m | \u001b[1mINFO    \u001b[0m | \u001b[36msrc.config\u001b[0m:\u001b[36m<module>\u001b[0m:\u001b[36m11\u001b[0m - \u001b[1mPROJ_ROOT path is: D:\\workspace\\projects\\freelance\\Fusion3DNet\u001b[0m\n"
     ]
    },
    {
     "name": "stdout",
     "output_type": "stream",
     "text": [
      "Project root added to path: d:\\workspace\\projects\\freelance\\Fusion3DNet\n"
     ]
    }
   ],
   "source": [
    "%load_ext autoreload\n",
    "%autoreload 2\n",
    "import notebook_setup\n",
    "from src.config import PROCESSED_DATA_DIR\n",
    "import os"
   ]
  },
  {
   "cell_type": "code",
   "execution_count": 2,
   "id": "76381da6",
   "metadata": {},
   "outputs": [
    {
     "name": "stdout",
     "output_type": "stream",
     "text": [
      "Количество файлов BrepNet: 129\n",
      "Количество файлов DINO s14 2d: 129\n",
      "Количество файлов DINO b14 2d: 129\n",
      "Количество файлов CLIP s16 2d: 129\n",
      "Количество файлов CLIP b32 2d: 129\n",
      "Количество файлов DINO s14 2dv0: 129\n",
      "Количество файлов DINO b14 2dv0: 129\n",
      "Количество файлов CLIP s16 2dv0: 129\n",
      "Количество файлов CLIP b32 2dv0: 129\n"
     ]
    }
   ],
   "source": [
    "from pathlib import Path\n",
    "FEATURES_DIR = PROCESSED_DATA_DIR / \"dataset_129\" / 'features'\n",
    "BREPNET_NPZ_DIR = FEATURES_DIR / \"brep\"\n",
    "\n",
    "DINOs14_2d_NPZ_DIR = FEATURES_DIR / '2D' / \"dinov2_vits14\"\n",
    "DINOb14_2d_NPZ_DIR = FEATURES_DIR / '2D' / \"dinov2_vitb14\"\n",
    "CLIPs16_2d_NPZ_DIR = FEATURES_DIR / '2D' / \"ViT-B_16\"\n",
    "CLIPb32_2d_NPZ_DIR = FEATURES_DIR / '2D' / \"ViT-B_32\"\n",
    "\n",
    "DINOs14_2dv0_NPZ_DIR = FEATURES_DIR / '2D_v0' / \"dinov2_vits14\"\n",
    "DINOb14_2dv0_NPZ_DIR = FEATURES_DIR / '2D_v0' / \"dinov2_vitb14\"\n",
    "CLIPs16_2dv0_NPZ_DIR = FEATURES_DIR / '2D_v0' / \"ViT-B_16\"\n",
    "CLIPb32_2dv0_NPZ_DIR = FEATURES_DIR / '2D_v0' / \"ViT-B_32\"\n",
    "\n",
    "def get_files(step_path: Path, extensions=(\"stp\", \"step\")):\n",
    "    return [f for ext in extensions for f in step_path.glob(f\"**/*.{ext}\")]\n",
    "\n",
    "brepnet_files = get_files(BREPNET_NPZ_DIR, ('npz',))\n",
    "print(f\"Количество файлов BrepNet: {len(brepnet_files)}\")\n",
    "\n",
    "dino_s14_2d_files = get_files(DINOs14_2d_NPZ_DIR, ('npz',))\n",
    "dino_b14_2d_files = get_files(DINOb14_2d_NPZ_DIR, ('npz',))\n",
    "clip_s16_2d_files = get_files(CLIPs16_2d_NPZ_DIR, ('npz',))\n",
    "clip_b32_2d_files = get_files(CLIPb32_2d_NPZ_DIR, ('npz',))\n",
    "\n",
    "dino_s14_2dv0_files = get_files(DINOs14_2dv0_NPZ_DIR, ('npz',))\n",
    "dino_b14_2dv0_files = get_files(DINOb14_2dv0_NPZ_DIR, ('npz',))\n",
    "clip_s16_2dv0_files = get_files(CLIPs16_2dv0_NPZ_DIR, ('npz',))\n",
    "clip_b32_2dv0_files = get_files(CLIPb32_2dv0_NPZ_DIR, ('npz',))\n",
    "\n",
    "print(f\"Количество файлов DINO s14 2d: {len(dino_s14_2d_files)}\")\n",
    "print(f\"Количество файлов DINO b14 2d: {len(dino_b14_2d_files)}\")\n",
    "print(f\"Количество файлов CLIP s16 2d: {len(clip_s16_2d_files)}\")\n",
    "print(f\"Количество файлов CLIP b32 2d: {len(clip_b32_2d_files)}\")\n",
    "print(f\"Количество файлов DINO s14 2dv0: {len(dino_s14_2dv0_files)}\")\n",
    "print(f\"Количество файлов DINO b14 2dv0: {len(dino_b14_2dv0_files)}\")\n",
    "print(f\"Количество файлов CLIP s16 2dv0: {len(clip_s16_2dv0_files)}\")\n",
    "print(f\"Количество файлов CLIP b32 2dv0: {len(clip_b32_2dv0_files)}\")"
   ]
  },
  {
   "cell_type": "code",
   "execution_count": 3,
   "id": "39f5e617",
   "metadata": {},
   "outputs": [],
   "source": [
    "\n",
    "from src.modeling.vit.metrics import eval_object_max\n",
    "import numpy as np\n",
    "\n",
    "def load_npz_features(npz_path):\n",
    "    data = np.load(npz_path)\n",
    "    features = data['views']\n",
    "    return features\n",
    "\n",
    "\n",
    "model_names = [\n",
    "    \"DINO s14 2d\", \"DINO b14 2d\", \"CLIP s16 2d\", \"CLIP b32 2d\",\n",
    "    \"DINO s14 2dv0\", \"DINO b14 2dv0\", \"CLIP s16 2dv0\", \"CLIP b32 2dv0\"\n",
    "]\n",
    "\n",
    "model_files = [\n",
    "    dino_s14_2d_files, dino_b14_2d_files, clip_s16_2d_files, clip_b32_2d_files,\n",
    "    dino_s14_2dv0_files, dino_b14_2dv0_files, clip_s16_2dv0_files, clip_b32_2dv0_files\n",
    "]\n",
    "\n",
    "def evaluate_models_for_search(model_names, model_files, load_fn):\n",
    "    rows = []\n",
    "    for name, files in zip(model_names, model_files):\n",
    "        if not files:\n",
    "            rows.append({\"model\": name, \"queries\": 0})\n",
    "            continue\n",
    "\n",
    "        m = eval_object_max(files, load_fn)\n",
    "        m[\"model\"] = name\n",
    "        rows.append(m)\n",
    "    return rows\n",
    "\n",
    "rows = evaluate_models_for_search(model_names, model_files, load_npz_features)"
   ]
  },
  {
   "cell_type": "code",
   "execution_count": null,
   "id": "96dce266",
   "metadata": {},
   "outputs": [],
   "source": [
    "\n",
    "from src.modeling.BRepNet.metrics import evaluate_brepnet_faces_object_max\n",
    "\n",
    "out_face_dir = BREPNET_NPZ_DIR / \"embeddings\"\n",
    "\n",
    "\n",
    "brep_metrics = evaluate_brepnet_faces_object_max(\n",
    "        embeddings_dir=out_face_dir,\n",
    "        normalize=True\n",
    "    )"
   ]
  },
  {
   "cell_type": "code",
   "execution_count": null,
   "id": "b22e5a4b",
   "metadata": {},
   "outputs": [
    {
     "name": "stdout",
     "output_type": "stream",
     "text": [
      "        model  queries  recall@1  recall@5  recall@10      mAP   nDCG@5  nDCG@10  pos_mean  neg_mean   margin  cohens_d\n",
      "DINO s14 2dv0     1032  0.897287  0.996124        1.0 0.943849 0.956899 0.958236       1.0  0.639031 0.360969  2.803236\n",
      "  DINO b14 2d     1032  0.892442  0.998062        1.0 0.939470 0.954214 0.954904       1.0  0.827749 0.172251  2.222084\n",
      "DINO b14 2dv0     1032  0.892442  0.998062        1.0 0.939470 0.954214 0.954904       1.0  0.827749 0.172251  2.222084\n",
      "  DINO s14 2d     1032  0.891473  0.998062        1.0 0.939244 0.954075 0.954766       1.0  0.871053 0.128947  2.246197\n",
      "      BRepNet     9895  0.868014  0.999798        1.0 0.927224 0.945822 0.945894       1.0  0.876704 0.123296  0.819112\n",
      "CLIP b32 2dv0     1032  0.890504  0.996124        1.0 0.939731 0.953821 0.955158       1.0  0.894322 0.105678  2.684414\n",
      "CLIP s16 2dv0     1032  0.903101  0.996124        1.0 0.946675 0.958978 0.960314       1.0  0.906414 0.093586  2.748654\n",
      "  CLIP s16 2d     1032  0.975775  1.000000        1.0 0.987403 0.990679 0.990679       1.0  0.911103 0.088897  2.551635\n",
      "  CLIP b32 2d     1032  0.975775  1.000000        1.0 0.987403 0.990679 0.990679       1.0  0.915726 0.084274  2.541060\n"
     ]
    }
   ],
   "source": [
    "import pandas as pd\n",
    "df_metrics = pd.DataFrame(rows)\n",
    "df_brep = pd.DataFrame([{\"model\": \"BRepNet\", **brep_metrics}])\n",
    "# объединяем результаты\n",
    "\n",
    "df_metrics = pd.concat([df_metrics, df_brep], ignore_index=True)\n",
    "\n",
    "cols = [\"model\", \"queries\", \"recall@1\", \"recall@5\", \"recall@10\", \"mAP\", \"nDCG@5\", \"nDCG@10\",\n",
    "        \"pos_mean\", \"neg_mean\", \"margin\", \"cohens_d\"]\n",
    "\n",
    "df_metrics = df_metrics.reindex(columns=cols)\n",
    "df_metrics = df_metrics.sort_values([ \"margin\", \"recall@1\", \"mAP\"], ascending=False)\n",
    "print(df_metrics.to_string(index=False))\n",
    "\n",
    "\n",
    "# У brenet выключена нормализация (на pos_mean и neg_mean можно не смотреть, так как эвкливово расстояние не нормализовано)\n",
    "#         model  queries  recall@1  recall@5  recall@10      mAP   nDCG@5  nDCG@10      pos_mean  neg_mean   margin  cohens_d\n",
    "#       BRepNet     9895  0.868014  0.999798        1.0 0.927224 0.945822 0.945894 -1.000007e-08 -1.614657 1.614657  1.497281\n",
    "# DINO s14 2dv0     1032  0.897287  0.996124        1.0 0.943849 0.956899 0.958236  1.000000e+00  0.639031 0.360969  2.803236\n",
    "#   DINO b14 2d     1032  0.892442  0.998062        1.0 0.939470 0.954214 0.954904  1.000000e+00  0.827749 0.172251  2.222084\n",
    "# DINO b14 2dv0     1032  0.892442  0.998062        1.0 0.939470 0.954214 0.954904  1.000000e+00  0.827749 0.172251  2.222084\n",
    "#   DINO s14 2d     1032  0.891473  0.998062        1.0 0.939244 0.954075 0.954766  1.000000e+00  0.871053 0.128947  2.246197\n",
    "# CLIP b32 2dv0     1032  0.890504  0.996124        1.0 0.939731 0.953821 0.955158  1.000000e+00  0.894322 0.105678  2.684414\n",
    "# CLIP s16 2dv0     1032  0.903101  0.996124        1.0 0.946675 0.958978 0.960314  1.000000e+00  0.906414 0.093586  2.748654\n",
    "#   CLIP s16 2d     1032  0.975775  1.000000        1.0 0.987403 0.990679 0.990679  1.000000e+00  0.911103 0.088897  2.551635\n",
    "#   CLIP b32 2d     1032  0.975775  1.000000        1.0 0.987403 0.990679 0.990679  1.000000e+00  0.915726 0.084274  2.541060\n",
    "\n",
    "\n",
    "# У brenet включена нормализация\n",
    "#         model  queries  recall@1  recall@5  recall@10      mAP   nDCG@5  nDCG@10  pos_mean  neg_mean   margin  cohens_d\n",
    "# DINO s14 2dv0     1032  0.897287  0.996124        1.0 0.943849 0.956899 0.958236       1.0  0.639031 0.360969  2.803236\n",
    "#   DINO b14 2d     1032  0.892442  0.998062        1.0 0.939470 0.954214 0.954904       1.0  0.827749 0.172251  2.222084\n",
    "# DINO b14 2dv0     1032  0.892442  0.998062        1.0 0.939470 0.954214 0.954904       1.0  0.827749 0.172251  2.222084\n",
    "#   DINO s14 2d     1032  0.891473  0.998062        1.0 0.939244 0.954075 0.954766       1.0  0.871053 0.128947  2.246197\n",
    "#       BRepNet     9895  0.868014  0.999798        1.0 0.927224 0.945822 0.945894       1.0  0.876704 0.123296  0.819112\n",
    "# CLIP b32 2dv0     1032  0.890504  0.996124        1.0 0.939731 0.953821 0.955158       1.0  0.894322 0.105678  2.684414\n",
    "# CLIP s16 2dv0     1032  0.903101  0.996124        1.0 0.946675 0.958978 0.960314       1.0  0.906414 0.093586  2.748654\n",
    "#   CLIP s16 2d     1032  0.975775  1.000000        1.0 0.987403 0.990679 0.990679       1.0  0.911103 0.088897  2.551635\n",
    "#   CLIP b32 2d     1032  0.975775  1.000000        1.0 0.987403 0.990679 0.990679       1.0  0.915726 0.084274  2.541060"
   ]
  },
  {
   "cell_type": "code",
   "execution_count": 19,
   "id": "3c48639b",
   "metadata": {},
   "outputs": [
    {
     "name": "stdout",
     "output_type": "stream",
     "text": [
      "Поисковая модель: DINO s14 2dv0\n",
      "                       model     score\n",
      "0    42. Silencer Fix-06.prt  1.000000\n",
      "1    42. Silencer Fix-07.prt  1.000000\n",
      "2    42. Silencer Fix-05.prt  0.965369\n",
      "3    42. Silencer Fix-08.prt  0.951780\n",
      "4    42. Silencer Fix-04.prt  0.951452\n",
      "5       42. Silencer Fix.prt  0.939669\n",
      "6    42. Silencer Fix-03.prt  0.936808\n",
      "7    42. Silencer Fix-01.prt  0.928322\n",
      "8    42. Silencer Fix-09.prt  0.927563\n",
      "9    42. Silencer Fix-10.prt  0.924655\n",
      "10   42. Silencer Fix-02.prt  0.923597\n",
      "11    Колодка приклада 6.prt  0.707258\n",
      "12    Колодка приклада 7.prt  0.706994\n",
      "13    Колодка приклада 9.prt  0.699907\n",
      "14    Колодка приклада 8.prt  0.699887\n",
      "15    Колодка приклада 5.prt  0.697851\n",
      "16    Колодка приклада 4.prt  0.692574\n",
      "17    Колодка приклада 3.prt  0.692472\n",
      "18  44. Extractor Pin-01.prt  0.675459\n",
      "19    Колодка приклада 2.prt  0.664904\n"
     ]
    }
   ],
   "source": [
    "from src.modeling.vit.searcher import vit_topk\n",
    "query_index = 17\n",
    "top = 20\n",
    "# print(vit_topk(\"DINO s14 2d\",  dino_s14_2d_files,  query=query_index, k=top).to_string())\n",
    "# vit_topk(\"DINO b14 2d\",  dino_b14_2d_files,  query=query_index, k=top)\n",
    "# vit_topk(\"CLIP s16 2d\",  clip_s16_2d_files,  query=query_index, k=top)\n",
    "# vit_topk(\"CLIP b32 2d\",  clip_b32_2d_files,  query=query_index, k=top)\n",
    "\n",
    "print(vit_topk(\"DINO s14 2dv0\", dino_s14_2dv0_files, query=query_index, k=top).to_string())\n",
    "# vit_topk(\"DINO b14 2dv0\", dino_b14_2dv0_files, query=query_index, k=top)\n",
    "# vit_topk(\"CLIP s16 2dv0\", clip_s16_2dv0_files, query=query_index, k=top)\n",
    "# vit_topk(\"CLIP b32 2dv0\", clip_b32_2dv0_files, query=query_index, k=top)"
   ]
  },
  {
   "cell_type": "code",
   "execution_count": 35,
   "id": "5c925059",
   "metadata": {},
   "outputs": [
    {
     "name": "stdout",
     "output_type": "stream",
     "text": [
      "Количество файлов STEP: 129\n",
      "Запрос: 42. Silencer Fix-07.prt\n",
      "                        model      score\n",
      "0     42. Silencer Fix-07.prt   0.000000\n",
      "1     42. Silencer Fix-06.prt   0.000000\n",
      "2     42. Silencer Fix-05.prt   4.318653\n",
      "3     42. Silencer Fix-04.prt  10.556989\n",
      "4     42. Silencer Fix-08.prt  10.600834\n",
      "5     42. Silencer Fix-10.prt  16.423070\n",
      "6     42. Silencer Fix-09.prt  19.145785\n",
      "7     42. Silencer Fix-03.prt  20.211120\n",
      "8    Колодка прицельная 9.prt  20.903475\n",
      "9        42. Silencer Fix.prt  21.306449\n",
      "10    42. Silencer Fix-01.prt  22.023930\n",
      "11    42. Silencer Fix-02.prt  22.048089\n",
      "12   Колодка прицельная 1.prt  22.983625\n",
      "13     Колодка прицельная.prt  23.132900\n",
      "14  Колодка прицельная 10.prt  23.417440\n",
      "15                  Кожух.prt  24.220148\n",
      "16                Кожух 6.prt  24.379845\n",
      "17                Кожух 9.prt  24.405034\n",
      "18   Колодка прицельная 7.prt  24.643578\n",
      "19                Кожух 7.prt  24.748889\n"
     ]
    }
   ],
   "source": [
    "from src.modeling.BRepNet.searcher import search_topk\n",
    "step_files = get_files(PROCESSED_DATA_DIR / \"dataset_129\" / 'stp')\n",
    "print(f'Количество файлов STEP: {len(step_files)}')\n",
    "\n",
    "stp_model = step_files[query_index]\n",
    "print(f'Запрос: {stp_model.stem}')\n",
    "\n",
    "df, matches, dmin, interval = search_topk(out_face_dir, query_stem=stp_model.stem, k=top, exclude_self=False)\n",
    "\n",
    "print(df.to_string())\n"
   ]
  },
  {
   "cell_type": "code",
   "execution_count": 47,
   "id": "d47f297e",
   "metadata": {},
   "outputs": [
    {
     "name": "stdout",
     "output_type": "stream",
     "text": [
      "D:\\workspace\\projects\\freelance\\Fusion3DNet\\data\\processed\\dataset_129\\stp\\Колодка прицельная 9.prt.stp\n"
     ]
    },
    {
     "data": {
      "application/vnd.jupyter.widget-view+json": {
       "model_id": "67786b3525d0430c93c1b6275cc539b8",
       "version_major": 2,
       "version_minor": 0
      },
      "text/plain": [
       "HBox(children=(VBox(children=(HBox(children=(Checkbox(value=True, description='Axes', layout=Layout(height='au…"
      ]
     },
     "metadata": {},
     "output_type": "display_data"
    },
    {
     "data": {
      "application/vnd.jupyter.widget-view+json": {
       "model_id": "492340dde088424e8b86b8c38a13dd30",
       "version_major": 2,
       "version_minor": 0
      },
      "text/plain": [
       "HBox(children=(VBox(children=(HBox(children=(Checkbox(value=True, description='Axes', layout=Layout(height='au…"
      ]
     },
     "metadata": {},
     "output_type": "display_data"
    },
    {
     "ename": "TraitError",
     "evalue": "The 'rotation' trait of a GridHelper instance contains an Enum of an Euler which expected any of ['XYZ', 'YZX', 'ZXY', 'XZY', 'YXZ', 'ZYX'], not the str 'xyz'.",
     "output_type": "error",
     "traceback": [
      "\u001b[31m---------------------------------------------------------------------------\u001b[39m",
      "\u001b[31mTraitError\u001b[39m                                Traceback (most recent call last)",
      "\u001b[36mFile \u001b[39m\u001b[32md:\\dev\\.miniconda\\envs\\brepnet\\Lib\\site-packages\\ipywidgets\\widgets\\widget.py:773\u001b[39m, in \u001b[36mWidget._handle_msg\u001b[39m\u001b[34m(self, msg)\u001b[39m\n\u001b[32m    771\u001b[39m         \u001b[38;5;28;01mif\u001b[39;00m \u001b[33m'\u001b[39m\u001b[33mbuffer_paths\u001b[39m\u001b[33m'\u001b[39m \u001b[38;5;129;01min\u001b[39;00m data:\n\u001b[32m    772\u001b[39m             _put_buffers(state, data[\u001b[33m'\u001b[39m\u001b[33mbuffer_paths\u001b[39m\u001b[33m'\u001b[39m], msg[\u001b[33m'\u001b[39m\u001b[33mbuffers\u001b[39m\u001b[33m'\u001b[39m])\n\u001b[32m--> \u001b[39m\u001b[32m773\u001b[39m         \u001b[38;5;28;43mself\u001b[39;49m\u001b[43m.\u001b[49m\u001b[43mset_state\u001b[49m\u001b[43m(\u001b[49m\u001b[43mstate\u001b[49m\u001b[43m)\u001b[49m\n\u001b[32m    775\u001b[39m \u001b[38;5;66;03m# Handle a state request.\u001b[39;00m\n\u001b[32m    776\u001b[39m \u001b[38;5;28;01melif\u001b[39;00m method == \u001b[33m'\u001b[39m\u001b[33mrequest_state\u001b[39m\u001b[33m'\u001b[39m:\n",
      "\u001b[36mFile \u001b[39m\u001b[32md:\\dev\\.miniconda\\envs\\brepnet\\Lib\\site-packages\\ipywidgets\\widgets\\widget.py:655\u001b[39m, in \u001b[36mWidget.set_state\u001b[39m\u001b[34m(self, sync_data)\u001b[39m\n\u001b[32m    652\u001b[39m \u001b[38;5;28;01mif\u001b[39;00m name \u001b[38;5;129;01min\u001b[39;00m \u001b[38;5;28mself\u001b[39m.keys:\n\u001b[32m    653\u001b[39m     from_json = \u001b[38;5;28mself\u001b[39m.trait_metadata(name, \u001b[33m'\u001b[39m\u001b[33mfrom_json\u001b[39m\u001b[33m'\u001b[39m,\n\u001b[32m    654\u001b[39m                                     \u001b[38;5;28mself\u001b[39m._trait_from_json)\n\u001b[32m--> \u001b[39m\u001b[32m655\u001b[39m     \u001b[38;5;28;43mself\u001b[39;49m\u001b[43m.\u001b[49m\u001b[43mset_trait\u001b[49m\u001b[43m(\u001b[49m\u001b[43mname\u001b[49m\u001b[43m,\u001b[49m\u001b[43m \u001b[49m\u001b[43mfrom_json\u001b[49m\u001b[43m(\u001b[49m\u001b[43msync_data\u001b[49m\u001b[43m[\u001b[49m\u001b[43mname\u001b[49m\u001b[43m]\u001b[49m\u001b[43m,\u001b[49m\u001b[43m \u001b[49m\u001b[38;5;28;43mself\u001b[39;49m\u001b[43m)\u001b[49m\u001b[43m)\u001b[49m\n",
      "\u001b[36mFile \u001b[39m\u001b[32md:\\dev\\.miniconda\\envs\\brepnet\\Lib\\site-packages\\traitlets\\traitlets.py:1764\u001b[39m, in \u001b[36mHasTraits.set_trait\u001b[39m\u001b[34m(self, name, value)\u001b[39m\n\u001b[32m   1762\u001b[39m \u001b[38;5;28;01mif\u001b[39;00m \u001b[38;5;129;01mnot\u001b[39;00m \u001b[38;5;28mself\u001b[39m.has_trait(name):\n\u001b[32m   1763\u001b[39m     \u001b[38;5;28;01mraise\u001b[39;00m TraitError(\u001b[33mf\u001b[39m\u001b[33m\"\u001b[39m\u001b[33mClass \u001b[39m\u001b[38;5;132;01m{\u001b[39;00m\u001b[38;5;28mcls\u001b[39m.\u001b[34m__name__\u001b[39m\u001b[38;5;132;01m}\u001b[39;00m\u001b[33m does not have a trait named \u001b[39m\u001b[38;5;132;01m{\u001b[39;00mname\u001b[38;5;132;01m}\u001b[39;00m\u001b[33m\"\u001b[39m)\n\u001b[32m-> \u001b[39m\u001b[32m1764\u001b[39m \u001b[38;5;28;43mgetattr\u001b[39;49m\u001b[43m(\u001b[49m\u001b[38;5;28;43mcls\u001b[39;49m\u001b[43m,\u001b[49m\u001b[43m \u001b[49m\u001b[43mname\u001b[49m\u001b[43m)\u001b[49m\u001b[43m.\u001b[49m\u001b[43mset\u001b[49m\u001b[43m(\u001b[49m\u001b[38;5;28;43mself\u001b[39;49m\u001b[43m,\u001b[49m\u001b[43m \u001b[49m\u001b[43mvalue\u001b[49m\u001b[43m)\u001b[49m\n",
      "\u001b[36mFile \u001b[39m\u001b[32md:\\dev\\.miniconda\\envs\\brepnet\\Lib\\site-packages\\traitlets\\traitlets.py:690\u001b[39m, in \u001b[36mTraitType.set\u001b[39m\u001b[34m(self, obj, value)\u001b[39m\n\u001b[32m    689\u001b[39m \u001b[38;5;28;01mdef\u001b[39;00m\u001b[38;5;250m \u001b[39m\u001b[34mset\u001b[39m(\u001b[38;5;28mself\u001b[39m, obj: HasTraits, value: S) -> \u001b[38;5;28;01mNone\u001b[39;00m:\n\u001b[32m--> \u001b[39m\u001b[32m690\u001b[39m     new_value = \u001b[38;5;28;43mself\u001b[39;49m\u001b[43m.\u001b[49m\u001b[43m_validate\u001b[49m\u001b[43m(\u001b[49m\u001b[43mobj\u001b[49m\u001b[43m,\u001b[49m\u001b[43m \u001b[49m\u001b[43mvalue\u001b[49m\u001b[43m)\u001b[49m\n\u001b[32m    691\u001b[39m     \u001b[38;5;28;01massert\u001b[39;00m \u001b[38;5;28mself\u001b[39m.name \u001b[38;5;129;01mis\u001b[39;00m \u001b[38;5;129;01mnot\u001b[39;00m \u001b[38;5;28;01mNone\u001b[39;00m\n\u001b[32m    692\u001b[39m     \u001b[38;5;28;01mtry\u001b[39;00m:\n",
      "\u001b[36mFile \u001b[39m\u001b[32md:\\dev\\.miniconda\\envs\\brepnet\\Lib\\site-packages\\traitlets\\traitlets.py:722\u001b[39m, in \u001b[36mTraitType._validate\u001b[39m\u001b[34m(self, obj, value)\u001b[39m\n\u001b[32m    720\u001b[39m     \u001b[38;5;28;01mreturn\u001b[39;00m value\n\u001b[32m    721\u001b[39m \u001b[38;5;28;01mif\u001b[39;00m \u001b[38;5;28mhasattr\u001b[39m(\u001b[38;5;28mself\u001b[39m, \u001b[33m\"\u001b[39m\u001b[33mvalidate\u001b[39m\u001b[33m\"\u001b[39m):\n\u001b[32m--> \u001b[39m\u001b[32m722\u001b[39m     value = \u001b[38;5;28;43mself\u001b[39;49m\u001b[43m.\u001b[49m\u001b[43mvalidate\u001b[49m\u001b[43m(\u001b[49m\u001b[43mobj\u001b[49m\u001b[43m,\u001b[49m\u001b[43m \u001b[49m\u001b[43mvalue\u001b[49m\u001b[43m)\u001b[49m\n\u001b[32m    723\u001b[39m \u001b[38;5;28;01mif\u001b[39;00m obj._cross_validation_lock \u001b[38;5;129;01mis\u001b[39;00m \u001b[38;5;28;01mFalse\u001b[39;00m:\n\u001b[32m    724\u001b[39m     value = \u001b[38;5;28mself\u001b[39m._cross_validate(obj, value)\n",
      "\u001b[36mFile \u001b[39m\u001b[32md:\\dev\\.miniconda\\envs\\brepnet\\Lib\\site-packages\\traitlets\\traitlets.py:3482\u001b[39m, in \u001b[36mContainer.validate\u001b[39m\u001b[34m(self, obj, value)\u001b[39m\n\u001b[32m   3479\u001b[39m \u001b[38;5;28;01mif\u001b[39;00m value \u001b[38;5;129;01mis\u001b[39;00m \u001b[38;5;28;01mNone\u001b[39;00m:\n\u001b[32m   3480\u001b[39m     \u001b[38;5;28;01mreturn\u001b[39;00m value\n\u001b[32m-> \u001b[39m\u001b[32m3482\u001b[39m value = \u001b[38;5;28;43mself\u001b[39;49m\u001b[43m.\u001b[49m\u001b[43mvalidate_elements\u001b[49m\u001b[43m(\u001b[49m\u001b[43mobj\u001b[49m\u001b[43m,\u001b[49m\u001b[43m \u001b[49m\u001b[43mvalue\u001b[49m\u001b[43m)\u001b[49m\n\u001b[32m   3484\u001b[39m \u001b[38;5;28;01mreturn\u001b[39;00m t.cast(T, value)\n",
      "\u001b[36mFile \u001b[39m\u001b[32md:\\dev\\.miniconda\\envs\\brepnet\\Lib\\site-packages\\traitlets\\traitlets.py:3823\u001b[39m, in \u001b[36mTuple.validate_elements\u001b[39m\u001b[34m(self, obj, value)\u001b[39m\n\u001b[32m   3821\u001b[39m     v = trait._validate(obj, v)\n\u001b[32m   3822\u001b[39m \u001b[38;5;28;01mexcept\u001b[39;00m TraitError \u001b[38;5;28;01mas\u001b[39;00m error:\n\u001b[32m-> \u001b[39m\u001b[32m3823\u001b[39m     \u001b[38;5;28;43mself\u001b[39;49m\u001b[43m.\u001b[49m\u001b[43merror\u001b[49m\u001b[43m(\u001b[49m\u001b[43mobj\u001b[49m\u001b[43m,\u001b[49m\u001b[43m \u001b[49m\u001b[43mv\u001b[49m\u001b[43m,\u001b[49m\u001b[43m \u001b[49m\u001b[43merror\u001b[49m\u001b[43m)\u001b[49m\n\u001b[32m   3824\u001b[39m \u001b[38;5;28;01melse\u001b[39;00m:\n\u001b[32m   3825\u001b[39m     validated.append(v)\n",
      "\u001b[36mFile \u001b[39m\u001b[32md:\\dev\\.miniconda\\envs\\brepnet\\Lib\\site-packages\\traitlets\\traitlets.py:810\u001b[39m, in \u001b[36mTraitType.error\u001b[39m\u001b[34m(self, obj, value, error, info)\u001b[39m\n\u001b[32m    801\u001b[39m         \u001b[38;5;28;01melse\u001b[39;00m:\n\u001b[32m    802\u001b[39m             error.args = (\n\u001b[32m    803\u001b[39m                 \u001b[33m\"\u001b[39m\u001b[33mThe \u001b[39m\u001b[33m'\u001b[39m\u001b[38;5;132;01m{}\u001b[39;00m\u001b[33m'\u001b[39m\u001b[33m trait contains \u001b[39m\u001b[38;5;132;01m{}\u001b[39;00m\u001b[33m which \u001b[39m\u001b[33m\"\u001b[39m \u001b[33m\"\u001b[39m\u001b[33mexpected \u001b[39m\u001b[38;5;132;01m{}\u001b[39;00m\u001b[33m, not \u001b[39m\u001b[38;5;132;01m{}\u001b[39;00m\u001b[33m.\u001b[39m\u001b[33m\"\u001b[39m.format(\n\u001b[32m    804\u001b[39m                     \u001b[38;5;28mself\u001b[39m.name,\n\u001b[32m   (...)\u001b[39m\u001b[32m    808\u001b[39m                 ),\n\u001b[32m    809\u001b[39m             )\n\u001b[32m--> \u001b[39m\u001b[32m810\u001b[39m     \u001b[38;5;28;01mraise\u001b[39;00m error\n\u001b[32m    812\u001b[39m \u001b[38;5;66;03m# this trait caused an error\u001b[39;00m\n\u001b[32m    813\u001b[39m \u001b[38;5;28;01mif\u001b[39;00m \u001b[38;5;28mself\u001b[39m.name \u001b[38;5;129;01mis\u001b[39;00m \u001b[38;5;28;01mNone\u001b[39;00m:\n\u001b[32m    814\u001b[39m     \u001b[38;5;66;03m# this is not the root trait\u001b[39;00m\n",
      "\u001b[36mFile \u001b[39m\u001b[32md:\\dev\\.miniconda\\envs\\brepnet\\Lib\\site-packages\\traitlets\\traitlets.py:3821\u001b[39m, in \u001b[36mTuple.validate_elements\u001b[39m\u001b[34m(self, obj, value)\u001b[39m\n\u001b[32m   3819\u001b[39m \u001b[38;5;28;01mfor\u001b[39;00m trait, v \u001b[38;5;129;01min\u001b[39;00m \u001b[38;5;28mzip\u001b[39m(\u001b[38;5;28mself\u001b[39m._traits, value):\n\u001b[32m   3820\u001b[39m     \u001b[38;5;28;01mtry\u001b[39;00m:\n\u001b[32m-> \u001b[39m\u001b[32m3821\u001b[39m         v = \u001b[43mtrait\u001b[49m\u001b[43m.\u001b[49m\u001b[43m_validate\u001b[49m\u001b[43m(\u001b[49m\u001b[43mobj\u001b[49m\u001b[43m,\u001b[49m\u001b[43m \u001b[49m\u001b[43mv\u001b[49m\u001b[43m)\u001b[49m\n\u001b[32m   3822\u001b[39m     \u001b[38;5;28;01mexcept\u001b[39;00m TraitError \u001b[38;5;28;01mas\u001b[39;00m error:\n\u001b[32m   3823\u001b[39m         \u001b[38;5;28mself\u001b[39m.error(obj, v, error)\n",
      "\u001b[36mFile \u001b[39m\u001b[32md:\\dev\\.miniconda\\envs\\brepnet\\Lib\\site-packages\\traitlets\\traitlets.py:722\u001b[39m, in \u001b[36mTraitType._validate\u001b[39m\u001b[34m(self, obj, value)\u001b[39m\n\u001b[32m    720\u001b[39m     \u001b[38;5;28;01mreturn\u001b[39;00m value\n\u001b[32m    721\u001b[39m \u001b[38;5;28;01mif\u001b[39;00m \u001b[38;5;28mhasattr\u001b[39m(\u001b[38;5;28mself\u001b[39m, \u001b[33m\"\u001b[39m\u001b[33mvalidate\u001b[39m\u001b[33m\"\u001b[39m):\n\u001b[32m--> \u001b[39m\u001b[32m722\u001b[39m     value = \u001b[38;5;28;43mself\u001b[39;49m\u001b[43m.\u001b[49m\u001b[43mvalidate\u001b[49m\u001b[43m(\u001b[49m\u001b[43mobj\u001b[49m\u001b[43m,\u001b[49m\u001b[43m \u001b[49m\u001b[43mvalue\u001b[49m\u001b[43m)\u001b[49m\n\u001b[32m    723\u001b[39m \u001b[38;5;28;01mif\u001b[39;00m obj._cross_validation_lock \u001b[38;5;129;01mis\u001b[39;00m \u001b[38;5;28;01mFalse\u001b[39;00m:\n\u001b[32m    724\u001b[39m     value = \u001b[38;5;28mself\u001b[39m._cross_validate(obj, value)\n",
      "\u001b[36mFile \u001b[39m\u001b[32md:\\dev\\.miniconda\\envs\\brepnet\\Lib\\site-packages\\traitlets\\traitlets.py:3224\u001b[39m, in \u001b[36mEnum.validate\u001b[39m\u001b[34m(self, obj, value)\u001b[39m\n\u001b[32m   3222\u001b[39m \u001b[38;5;28;01mif\u001b[39;00m \u001b[38;5;28mself\u001b[39m.values \u001b[38;5;129;01mand\u001b[39;00m value \u001b[38;5;129;01min\u001b[39;00m \u001b[38;5;28mself\u001b[39m.values:\n\u001b[32m   3223\u001b[39m     \u001b[38;5;28;01mreturn\u001b[39;00m t.cast(G, value)\n\u001b[32m-> \u001b[39m\u001b[32m3224\u001b[39m \u001b[38;5;28;43mself\u001b[39;49m\u001b[43m.\u001b[49m\u001b[43merror\u001b[49m\u001b[43m(\u001b[49m\u001b[43mobj\u001b[49m\u001b[43m,\u001b[49m\u001b[43m \u001b[49m\u001b[43mvalue\u001b[49m\u001b[43m)\u001b[49m\n",
      "\u001b[36mFile \u001b[39m\u001b[32md:\\dev\\.miniconda\\envs\\brepnet\\Lib\\site-packages\\traitlets\\traitlets.py:815\u001b[39m, in \u001b[36mTraitType.error\u001b[39m\u001b[34m(self, obj, value, error, info)\u001b[39m\n\u001b[32m    812\u001b[39m \u001b[38;5;66;03m# this trait caused an error\u001b[39;00m\n\u001b[32m    813\u001b[39m \u001b[38;5;28;01mif\u001b[39;00m \u001b[38;5;28mself\u001b[39m.name \u001b[38;5;129;01mis\u001b[39;00m \u001b[38;5;28;01mNone\u001b[39;00m:\n\u001b[32m    814\u001b[39m     \u001b[38;5;66;03m# this is not the root trait\u001b[39;00m\n\u001b[32m--> \u001b[39m\u001b[32m815\u001b[39m     \u001b[38;5;28;01mraise\u001b[39;00m TraitError(value, info \u001b[38;5;129;01mor\u001b[39;00m \u001b[38;5;28mself\u001b[39m.info(), \u001b[38;5;28mself\u001b[39m)\n\u001b[32m    817\u001b[39m \u001b[38;5;66;03m# this is the root trait\u001b[39;00m\n\u001b[32m    818\u001b[39m \u001b[38;5;28;01mif\u001b[39;00m obj \u001b[38;5;129;01mis\u001b[39;00m \u001b[38;5;129;01mnot\u001b[39;00m \u001b[38;5;28;01mNone\u001b[39;00m:\n",
      "\u001b[31mTraitError\u001b[39m: The 'rotation' trait of a GridHelper instance contains an Enum of an Euler which expected any of ['XYZ', 'YZX', 'ZXY', 'XZY', 'YXZ', 'ZYX'], not the str 'xyz'."
     ]
    },
    {
     "ename": "TraitError",
     "evalue": "The 'rotation' trait of a GridHelper instance contains an Enum of an Euler which expected any of ['XYZ', 'YZX', 'ZXY', 'XZY', 'YXZ', 'ZYX'], not the str 'xyz'.",
     "output_type": "error",
     "traceback": [
      "\u001b[31m---------------------------------------------------------------------------\u001b[39m",
      "\u001b[31mTraitError\u001b[39m                                Traceback (most recent call last)",
      "\u001b[36mFile \u001b[39m\u001b[32md:\\dev\\.miniconda\\envs\\brepnet\\Lib\\site-packages\\ipywidgets\\widgets\\widget.py:773\u001b[39m, in \u001b[36mWidget._handle_msg\u001b[39m\u001b[34m(self, msg)\u001b[39m\n\u001b[32m    771\u001b[39m         \u001b[38;5;28;01mif\u001b[39;00m \u001b[33m'\u001b[39m\u001b[33mbuffer_paths\u001b[39m\u001b[33m'\u001b[39m \u001b[38;5;129;01min\u001b[39;00m data:\n\u001b[32m    772\u001b[39m             _put_buffers(state, data[\u001b[33m'\u001b[39m\u001b[33mbuffer_paths\u001b[39m\u001b[33m'\u001b[39m], msg[\u001b[33m'\u001b[39m\u001b[33mbuffers\u001b[39m\u001b[33m'\u001b[39m])\n\u001b[32m--> \u001b[39m\u001b[32m773\u001b[39m         \u001b[38;5;28;43mself\u001b[39;49m\u001b[43m.\u001b[49m\u001b[43mset_state\u001b[49m\u001b[43m(\u001b[49m\u001b[43mstate\u001b[49m\u001b[43m)\u001b[49m\n\u001b[32m    775\u001b[39m \u001b[38;5;66;03m# Handle a state request.\u001b[39;00m\n\u001b[32m    776\u001b[39m \u001b[38;5;28;01melif\u001b[39;00m method == \u001b[33m'\u001b[39m\u001b[33mrequest_state\u001b[39m\u001b[33m'\u001b[39m:\n",
      "\u001b[36mFile \u001b[39m\u001b[32md:\\dev\\.miniconda\\envs\\brepnet\\Lib\\site-packages\\ipywidgets\\widgets\\widget.py:655\u001b[39m, in \u001b[36mWidget.set_state\u001b[39m\u001b[34m(self, sync_data)\u001b[39m\n\u001b[32m    652\u001b[39m \u001b[38;5;28;01mif\u001b[39;00m name \u001b[38;5;129;01min\u001b[39;00m \u001b[38;5;28mself\u001b[39m.keys:\n\u001b[32m    653\u001b[39m     from_json = \u001b[38;5;28mself\u001b[39m.trait_metadata(name, \u001b[33m'\u001b[39m\u001b[33mfrom_json\u001b[39m\u001b[33m'\u001b[39m,\n\u001b[32m    654\u001b[39m                                     \u001b[38;5;28mself\u001b[39m._trait_from_json)\n\u001b[32m--> \u001b[39m\u001b[32m655\u001b[39m     \u001b[38;5;28;43mself\u001b[39;49m\u001b[43m.\u001b[49m\u001b[43mset_trait\u001b[49m\u001b[43m(\u001b[49m\u001b[43mname\u001b[49m\u001b[43m,\u001b[49m\u001b[43m \u001b[49m\u001b[43mfrom_json\u001b[49m\u001b[43m(\u001b[49m\u001b[43msync_data\u001b[49m\u001b[43m[\u001b[49m\u001b[43mname\u001b[49m\u001b[43m]\u001b[49m\u001b[43m,\u001b[49m\u001b[43m \u001b[49m\u001b[38;5;28;43mself\u001b[39;49m\u001b[43m)\u001b[49m\u001b[43m)\u001b[49m\n",
      "\u001b[36mFile \u001b[39m\u001b[32md:\\dev\\.miniconda\\envs\\brepnet\\Lib\\site-packages\\traitlets\\traitlets.py:1764\u001b[39m, in \u001b[36mHasTraits.set_trait\u001b[39m\u001b[34m(self, name, value)\u001b[39m\n\u001b[32m   1762\u001b[39m \u001b[38;5;28;01mif\u001b[39;00m \u001b[38;5;129;01mnot\u001b[39;00m \u001b[38;5;28mself\u001b[39m.has_trait(name):\n\u001b[32m   1763\u001b[39m     \u001b[38;5;28;01mraise\u001b[39;00m TraitError(\u001b[33mf\u001b[39m\u001b[33m\"\u001b[39m\u001b[33mClass \u001b[39m\u001b[38;5;132;01m{\u001b[39;00m\u001b[38;5;28mcls\u001b[39m.\u001b[34m__name__\u001b[39m\u001b[38;5;132;01m}\u001b[39;00m\u001b[33m does not have a trait named \u001b[39m\u001b[38;5;132;01m{\u001b[39;00mname\u001b[38;5;132;01m}\u001b[39;00m\u001b[33m\"\u001b[39m)\n\u001b[32m-> \u001b[39m\u001b[32m1764\u001b[39m \u001b[38;5;28;43mgetattr\u001b[39;49m\u001b[43m(\u001b[49m\u001b[38;5;28;43mcls\u001b[39;49m\u001b[43m,\u001b[49m\u001b[43m \u001b[49m\u001b[43mname\u001b[49m\u001b[43m)\u001b[49m\u001b[43m.\u001b[49m\u001b[43mset\u001b[49m\u001b[43m(\u001b[49m\u001b[38;5;28;43mself\u001b[39;49m\u001b[43m,\u001b[49m\u001b[43m \u001b[49m\u001b[43mvalue\u001b[49m\u001b[43m)\u001b[49m\n",
      "\u001b[36mFile \u001b[39m\u001b[32md:\\dev\\.miniconda\\envs\\brepnet\\Lib\\site-packages\\traitlets\\traitlets.py:690\u001b[39m, in \u001b[36mTraitType.set\u001b[39m\u001b[34m(self, obj, value)\u001b[39m\n\u001b[32m    689\u001b[39m \u001b[38;5;28;01mdef\u001b[39;00m\u001b[38;5;250m \u001b[39m\u001b[34mset\u001b[39m(\u001b[38;5;28mself\u001b[39m, obj: HasTraits, value: S) -> \u001b[38;5;28;01mNone\u001b[39;00m:\n\u001b[32m--> \u001b[39m\u001b[32m690\u001b[39m     new_value = \u001b[38;5;28;43mself\u001b[39;49m\u001b[43m.\u001b[49m\u001b[43m_validate\u001b[49m\u001b[43m(\u001b[49m\u001b[43mobj\u001b[49m\u001b[43m,\u001b[49m\u001b[43m \u001b[49m\u001b[43mvalue\u001b[49m\u001b[43m)\u001b[49m\n\u001b[32m    691\u001b[39m     \u001b[38;5;28;01massert\u001b[39;00m \u001b[38;5;28mself\u001b[39m.name \u001b[38;5;129;01mis\u001b[39;00m \u001b[38;5;129;01mnot\u001b[39;00m \u001b[38;5;28;01mNone\u001b[39;00m\n\u001b[32m    692\u001b[39m     \u001b[38;5;28;01mtry\u001b[39;00m:\n",
      "\u001b[36mFile \u001b[39m\u001b[32md:\\dev\\.miniconda\\envs\\brepnet\\Lib\\site-packages\\traitlets\\traitlets.py:722\u001b[39m, in \u001b[36mTraitType._validate\u001b[39m\u001b[34m(self, obj, value)\u001b[39m\n\u001b[32m    720\u001b[39m     \u001b[38;5;28;01mreturn\u001b[39;00m value\n\u001b[32m    721\u001b[39m \u001b[38;5;28;01mif\u001b[39;00m \u001b[38;5;28mhasattr\u001b[39m(\u001b[38;5;28mself\u001b[39m, \u001b[33m\"\u001b[39m\u001b[33mvalidate\u001b[39m\u001b[33m\"\u001b[39m):\n\u001b[32m--> \u001b[39m\u001b[32m722\u001b[39m     value = \u001b[38;5;28;43mself\u001b[39;49m\u001b[43m.\u001b[49m\u001b[43mvalidate\u001b[49m\u001b[43m(\u001b[49m\u001b[43mobj\u001b[49m\u001b[43m,\u001b[49m\u001b[43m \u001b[49m\u001b[43mvalue\u001b[49m\u001b[43m)\u001b[49m\n\u001b[32m    723\u001b[39m \u001b[38;5;28;01mif\u001b[39;00m obj._cross_validation_lock \u001b[38;5;129;01mis\u001b[39;00m \u001b[38;5;28;01mFalse\u001b[39;00m:\n\u001b[32m    724\u001b[39m     value = \u001b[38;5;28mself\u001b[39m._cross_validate(obj, value)\n",
      "\u001b[36mFile \u001b[39m\u001b[32md:\\dev\\.miniconda\\envs\\brepnet\\Lib\\site-packages\\traitlets\\traitlets.py:3482\u001b[39m, in \u001b[36mContainer.validate\u001b[39m\u001b[34m(self, obj, value)\u001b[39m\n\u001b[32m   3479\u001b[39m \u001b[38;5;28;01mif\u001b[39;00m value \u001b[38;5;129;01mis\u001b[39;00m \u001b[38;5;28;01mNone\u001b[39;00m:\n\u001b[32m   3480\u001b[39m     \u001b[38;5;28;01mreturn\u001b[39;00m value\n\u001b[32m-> \u001b[39m\u001b[32m3482\u001b[39m value = \u001b[38;5;28;43mself\u001b[39;49m\u001b[43m.\u001b[49m\u001b[43mvalidate_elements\u001b[49m\u001b[43m(\u001b[49m\u001b[43mobj\u001b[49m\u001b[43m,\u001b[49m\u001b[43m \u001b[49m\u001b[43mvalue\u001b[49m\u001b[43m)\u001b[49m\n\u001b[32m   3484\u001b[39m \u001b[38;5;28;01mreturn\u001b[39;00m t.cast(T, value)\n",
      "\u001b[36mFile \u001b[39m\u001b[32md:\\dev\\.miniconda\\envs\\brepnet\\Lib\\site-packages\\traitlets\\traitlets.py:3823\u001b[39m, in \u001b[36mTuple.validate_elements\u001b[39m\u001b[34m(self, obj, value)\u001b[39m\n\u001b[32m   3821\u001b[39m     v = trait._validate(obj, v)\n\u001b[32m   3822\u001b[39m \u001b[38;5;28;01mexcept\u001b[39;00m TraitError \u001b[38;5;28;01mas\u001b[39;00m error:\n\u001b[32m-> \u001b[39m\u001b[32m3823\u001b[39m     \u001b[38;5;28;43mself\u001b[39;49m\u001b[43m.\u001b[49m\u001b[43merror\u001b[49m\u001b[43m(\u001b[49m\u001b[43mobj\u001b[49m\u001b[43m,\u001b[49m\u001b[43m \u001b[49m\u001b[43mv\u001b[49m\u001b[43m,\u001b[49m\u001b[43m \u001b[49m\u001b[43merror\u001b[49m\u001b[43m)\u001b[49m\n\u001b[32m   3824\u001b[39m \u001b[38;5;28;01melse\u001b[39;00m:\n\u001b[32m   3825\u001b[39m     validated.append(v)\n",
      "\u001b[36mFile \u001b[39m\u001b[32md:\\dev\\.miniconda\\envs\\brepnet\\Lib\\site-packages\\traitlets\\traitlets.py:810\u001b[39m, in \u001b[36mTraitType.error\u001b[39m\u001b[34m(self, obj, value, error, info)\u001b[39m\n\u001b[32m    801\u001b[39m         \u001b[38;5;28;01melse\u001b[39;00m:\n\u001b[32m    802\u001b[39m             error.args = (\n\u001b[32m    803\u001b[39m                 \u001b[33m\"\u001b[39m\u001b[33mThe \u001b[39m\u001b[33m'\u001b[39m\u001b[38;5;132;01m{}\u001b[39;00m\u001b[33m'\u001b[39m\u001b[33m trait contains \u001b[39m\u001b[38;5;132;01m{}\u001b[39;00m\u001b[33m which \u001b[39m\u001b[33m\"\u001b[39m \u001b[33m\"\u001b[39m\u001b[33mexpected \u001b[39m\u001b[38;5;132;01m{}\u001b[39;00m\u001b[33m, not \u001b[39m\u001b[38;5;132;01m{}\u001b[39;00m\u001b[33m.\u001b[39m\u001b[33m\"\u001b[39m.format(\n\u001b[32m    804\u001b[39m                     \u001b[38;5;28mself\u001b[39m.name,\n\u001b[32m   (...)\u001b[39m\u001b[32m    808\u001b[39m                 ),\n\u001b[32m    809\u001b[39m             )\n\u001b[32m--> \u001b[39m\u001b[32m810\u001b[39m     \u001b[38;5;28;01mraise\u001b[39;00m error\n\u001b[32m    812\u001b[39m \u001b[38;5;66;03m# this trait caused an error\u001b[39;00m\n\u001b[32m    813\u001b[39m \u001b[38;5;28;01mif\u001b[39;00m \u001b[38;5;28mself\u001b[39m.name \u001b[38;5;129;01mis\u001b[39;00m \u001b[38;5;28;01mNone\u001b[39;00m:\n\u001b[32m    814\u001b[39m     \u001b[38;5;66;03m# this is not the root trait\u001b[39;00m\n",
      "\u001b[36mFile \u001b[39m\u001b[32md:\\dev\\.miniconda\\envs\\brepnet\\Lib\\site-packages\\traitlets\\traitlets.py:3821\u001b[39m, in \u001b[36mTuple.validate_elements\u001b[39m\u001b[34m(self, obj, value)\u001b[39m\n\u001b[32m   3819\u001b[39m \u001b[38;5;28;01mfor\u001b[39;00m trait, v \u001b[38;5;129;01min\u001b[39;00m \u001b[38;5;28mzip\u001b[39m(\u001b[38;5;28mself\u001b[39m._traits, value):\n\u001b[32m   3820\u001b[39m     \u001b[38;5;28;01mtry\u001b[39;00m:\n\u001b[32m-> \u001b[39m\u001b[32m3821\u001b[39m         v = \u001b[43mtrait\u001b[49m\u001b[43m.\u001b[49m\u001b[43m_validate\u001b[49m\u001b[43m(\u001b[49m\u001b[43mobj\u001b[49m\u001b[43m,\u001b[49m\u001b[43m \u001b[49m\u001b[43mv\u001b[49m\u001b[43m)\u001b[49m\n\u001b[32m   3822\u001b[39m     \u001b[38;5;28;01mexcept\u001b[39;00m TraitError \u001b[38;5;28;01mas\u001b[39;00m error:\n\u001b[32m   3823\u001b[39m         \u001b[38;5;28mself\u001b[39m.error(obj, v, error)\n",
      "\u001b[36mFile \u001b[39m\u001b[32md:\\dev\\.miniconda\\envs\\brepnet\\Lib\\site-packages\\traitlets\\traitlets.py:722\u001b[39m, in \u001b[36mTraitType._validate\u001b[39m\u001b[34m(self, obj, value)\u001b[39m\n\u001b[32m    720\u001b[39m     \u001b[38;5;28;01mreturn\u001b[39;00m value\n\u001b[32m    721\u001b[39m \u001b[38;5;28;01mif\u001b[39;00m \u001b[38;5;28mhasattr\u001b[39m(\u001b[38;5;28mself\u001b[39m, \u001b[33m\"\u001b[39m\u001b[33mvalidate\u001b[39m\u001b[33m\"\u001b[39m):\n\u001b[32m--> \u001b[39m\u001b[32m722\u001b[39m     value = \u001b[38;5;28;43mself\u001b[39;49m\u001b[43m.\u001b[49m\u001b[43mvalidate\u001b[49m\u001b[43m(\u001b[49m\u001b[43mobj\u001b[49m\u001b[43m,\u001b[49m\u001b[43m \u001b[49m\u001b[43mvalue\u001b[49m\u001b[43m)\u001b[49m\n\u001b[32m    723\u001b[39m \u001b[38;5;28;01mif\u001b[39;00m obj._cross_validation_lock \u001b[38;5;129;01mis\u001b[39;00m \u001b[38;5;28;01mFalse\u001b[39;00m:\n\u001b[32m    724\u001b[39m     value = \u001b[38;5;28mself\u001b[39m._cross_validate(obj, value)\n",
      "\u001b[36mFile \u001b[39m\u001b[32md:\\dev\\.miniconda\\envs\\brepnet\\Lib\\site-packages\\traitlets\\traitlets.py:3224\u001b[39m, in \u001b[36mEnum.validate\u001b[39m\u001b[34m(self, obj, value)\u001b[39m\n\u001b[32m   3222\u001b[39m \u001b[38;5;28;01mif\u001b[39;00m \u001b[38;5;28mself\u001b[39m.values \u001b[38;5;129;01mand\u001b[39;00m value \u001b[38;5;129;01min\u001b[39;00m \u001b[38;5;28mself\u001b[39m.values:\n\u001b[32m   3223\u001b[39m     \u001b[38;5;28;01mreturn\u001b[39;00m t.cast(G, value)\n\u001b[32m-> \u001b[39m\u001b[32m3224\u001b[39m \u001b[38;5;28;43mself\u001b[39;49m\u001b[43m.\u001b[49m\u001b[43merror\u001b[49m\u001b[43m(\u001b[49m\u001b[43mobj\u001b[49m\u001b[43m,\u001b[49m\u001b[43m \u001b[49m\u001b[43mvalue\u001b[49m\u001b[43m)\u001b[49m\n",
      "\u001b[36mFile \u001b[39m\u001b[32md:\\dev\\.miniconda\\envs\\brepnet\\Lib\\site-packages\\traitlets\\traitlets.py:815\u001b[39m, in \u001b[36mTraitType.error\u001b[39m\u001b[34m(self, obj, value, error, info)\u001b[39m\n\u001b[32m    812\u001b[39m \u001b[38;5;66;03m# this trait caused an error\u001b[39;00m\n\u001b[32m    813\u001b[39m \u001b[38;5;28;01mif\u001b[39;00m \u001b[38;5;28mself\u001b[39m.name \u001b[38;5;129;01mis\u001b[39;00m \u001b[38;5;28;01mNone\u001b[39;00m:\n\u001b[32m    814\u001b[39m     \u001b[38;5;66;03m# this is not the root trait\u001b[39;00m\n\u001b[32m--> \u001b[39m\u001b[32m815\u001b[39m     \u001b[38;5;28;01mraise\u001b[39;00m TraitError(value, info \u001b[38;5;129;01mor\u001b[39;00m \u001b[38;5;28mself\u001b[39m.info(), \u001b[38;5;28mself\u001b[39m)\n\u001b[32m    817\u001b[39m \u001b[38;5;66;03m# this is the root trait\u001b[39;00m\n\u001b[32m    818\u001b[39m \u001b[38;5;28;01mif\u001b[39;00m obj \u001b[38;5;129;01mis\u001b[39;00m \u001b[38;5;129;01mnot\u001b[39;00m \u001b[38;5;28;01mNone\u001b[39;00m:\n",
      "\u001b[31mTraitError\u001b[39m: The 'rotation' trait of a GridHelper instance contains an Enum of an Euler which expected any of ['XYZ', 'YZX', 'ZXY', 'XZY', 'YXZ', 'ZYX'], not the str 'xyz'."
     ]
    }
   ],
   "source": [
    "from src.visualization.jupyter_segmentation_viewer import JupyterSegmentationViewer\n",
    "\n",
    "def find_step_path_by_stem(step_files: list[Path], stem_name: str):\n",
    "    for f in step_files:\n",
    "        if f.stem == stem_name:\n",
    "            return f\n",
    "\n",
    "query_index_top = 8\n",
    "\n",
    "model_name = df.iloc[query_index_top][\"model\"]\n",
    "step_path = find_step_path_by_stem(step_files, model_name)\n",
    "print(step_path)\n",
    "viewer_query = JupyterSegmentationViewer(stp_model)\n",
    "viewer_query.view_solid()\n",
    "\n",
    "if step_path is not None: \n",
    "    viewer_pairs = JupyterSegmentationViewer(step_path)\n",
    "    \n",
    "    # Извлекаем совпадения для лучшего результата по индексу\n",
    "    best_match_data = matches[query_index_top] \n",
    "    \n",
    "    # Создаем массив расстояний для целевой модели\n",
    "    num_target_faces = len(list(viewer_pairs.solid.faces())) \n",
    "    target_dists = np.full(num_target_faces, np.inf) # Заполняем inf, чтобы ненайденные грани были видны\n",
    "    \n",
    "    target_indices = best_match_data[:, 1].astype(int)\n",
    "    distances = best_match_data[:, 2]\n",
    "    \n",
    "    # Для каждой целевой грани сохраняем минимальное расстояние от любой из граней запроса\n",
    "    np.minimum.at(target_dists, target_indices, distances)\n",
    "    \n",
    "    # Заменяем inf на максимальное значение в интервале для корректного отображения\n",
    "    target_dists[target_dists == np.inf] = interval[1]\n",
    "\n",
    "    viewer_pairs.display_faces_with_heatmap(target_dists, interval)\n"
   ]
  }
 ],
 "metadata": {
  "kernelspec": {
   "display_name": "brepnet",
   "language": "python",
   "name": "python3"
  },
  "language_info": {
   "codemirror_mode": {
    "name": "ipython",
    "version": 3
   },
   "file_extension": ".py",
   "mimetype": "text/x-python",
   "name": "python",
   "nbconvert_exporter": "python",
   "pygments_lexer": "ipython3",
   "version": "3.11.13"
  }
 },
 "nbformat": 4,
 "nbformat_minor": 5
}
