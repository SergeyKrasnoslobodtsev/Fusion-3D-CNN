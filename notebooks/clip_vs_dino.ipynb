{
 "cells": [
  {
   "cell_type": "code",
   "execution_count": 94,
   "id": "dd76cd54",
   "metadata": {},
   "outputs": [
    {
     "name": "stdout",
     "output_type": "stream",
     "text": [
      "The autoreload extension is already loaded. To reload it, use:\n",
      "  %reload_ext autoreload\n"
     ]
    }
   ],
   "source": [
    "%load_ext autoreload\n",
    "%autoreload 2\n",
    "import notebook_setup\n",
    "from src.config import PROCESSED_DATA_DIR\n",
    "import os"
   ]
  },
  {
   "cell_type": "code",
   "execution_count": 40,
   "id": "76381da6",
   "metadata": {},
   "outputs": [
    {
     "name": "stdout",
     "output_type": "stream",
     "text": [
      "Количество файлов BrepNet: 129\n",
      "Количество файлов DINO s14 2d: 129\n",
      "Количество файлов DINO b14 2d: 129\n",
      "Количество файлов CLIP s16 2d: 129\n",
      "Количество файлов CLIP b32 2d: 129\n",
      "Количество файлов DINO s14 2dv0: 129\n",
      "Количество файлов DINO b14 2dv0: 129\n",
      "Количество файлов CLIP s16 2dv0: 129\n",
      "Количество файлов CLIP b32 2dv0: 129\n"
     ]
    }
   ],
   "source": [
    "from pathlib import Path\n",
    "FEATURES_DIR = PROCESSED_DATA_DIR / \"dataset_129\" / 'features'\n",
    "BREPNET_NPZ_DIR = FEATURES_DIR / \"brep\"\n",
    "\n",
    "DINOs14_2d_NPZ_DIR = FEATURES_DIR / '2D' / \"dinov2_vits14\"\n",
    "DINOb14_2d_NPZ_DIR = FEATURES_DIR / '2D' / \"dinov2_vitb14\"\n",
    "CLIPs16_2d_NPZ_DIR = FEATURES_DIR / '2D' / \"ViT-B_16\"\n",
    "CLIPb32_2d_NPZ_DIR = FEATURES_DIR / '2D' / \"ViT-B_32\"\n",
    "\n",
    "DINOs14_2dv0_NPZ_DIR = FEATURES_DIR / '2D_v0' / \"dinov2_vits14\"\n",
    "DINOb14_2dv0_NPZ_DIR = FEATURES_DIR / '2D_v0' / \"dinov2_vitb14\"\n",
    "CLIPs16_2dv0_NPZ_DIR = FEATURES_DIR / '2D_v0' / \"ViT-B_16\"\n",
    "CLIPb32_2dv0_NPZ_DIR = FEATURES_DIR / '2D_v0' / \"ViT-B_32\"\n",
    "\n",
    "def get_files(step_path: Path, extensions=(\"stp\", \"step\")):\n",
    "    return [f for ext in extensions for f in step_path.glob(f\"**/*.{ext}\")]\n",
    "\n",
    "brepnet_files = get_files(BREPNET_NPZ_DIR, ('npz',))\n",
    "print(f\"Количество файлов BrepNet: {len(brepnet_files)}\")\n",
    "\n",
    "dino_s14_2d_files = get_files(DINOs14_2d_NPZ_DIR, ('npz',))\n",
    "dino_b14_2d_files = get_files(DINOb14_2d_NPZ_DIR, ('npz',))\n",
    "clip_s16_2d_files = get_files(CLIPs16_2d_NPZ_DIR, ('npz',))\n",
    "clip_b32_2d_files = get_files(CLIPb32_2d_NPZ_DIR, ('npz',))\n",
    "\n",
    "dino_s14_2dv0_files = get_files(DINOs14_2dv0_NPZ_DIR, ('npz',))\n",
    "dino_b14_2dv0_files = get_files(DINOb14_2dv0_NPZ_DIR, ('npz',))\n",
    "clip_s16_2dv0_files = get_files(CLIPs16_2dv0_NPZ_DIR, ('npz',))\n",
    "clip_b32_2dv0_files = get_files(CLIPb32_2dv0_NPZ_DIR, ('npz',))\n",
    "\n",
    "print(f\"Количество файлов DINO s14 2d: {len(dino_s14_2d_files)}\")\n",
    "print(f\"Количество файлов DINO b14 2d: {len(dino_b14_2d_files)}\")\n",
    "print(f\"Количество файлов CLIP s16 2d: {len(clip_s16_2d_files)}\")\n",
    "print(f\"Количество файлов CLIP b32 2d: {len(clip_b32_2d_files)}\")\n",
    "print(f\"Количество файлов DINO s14 2dv0: {len(dino_s14_2dv0_files)}\")\n",
    "print(f\"Количество файлов DINO b14 2dv0: {len(dino_b14_2dv0_files)}\")\n",
    "print(f\"Количество файлов CLIP s16 2dv0: {len(clip_s16_2dv0_files)}\")\n",
    "print(f\"Количество файлов CLIP b32 2dv0: {len(clip_b32_2dv0_files)}\")"
   ]
  },
  {
   "cell_type": "code",
   "execution_count": 66,
   "id": "39f5e617",
   "metadata": {},
   "outputs": [],
   "source": [
    "\n",
    "from src.modeling.vit.metrics import eval_object_max\n",
    "import numpy as np\n",
    "\n",
    "def load_npz_features(npz_path):\n",
    "    data = np.load(npz_path)\n",
    "    features = data['views']\n",
    "    return features\n",
    "\n",
    "\n",
    "model_names = [\n",
    "    \"DINO s14 2d\", \"DINO b14 2d\", \"CLIP s16 2d\", \"CLIP b32 2d\",\n",
    "    \"DINO s14 2dv0\", \"DINO b14 2dv0\", \"CLIP s16 2dv0\", \"CLIP b32 2dv0\"\n",
    "]\n",
    "\n",
    "model_files = [\n",
    "    dino_s14_2d_files, dino_b14_2d_files, clip_s16_2d_files, clip_b32_2d_files,\n",
    "    dino_s14_2dv0_files, dino_b14_2dv0_files, clip_s16_2dv0_files, clip_b32_2dv0_files\n",
    "]\n",
    "\n",
    "def evaluate_models_for_search(model_names, model_files, load_fn):\n",
    "    rows = []\n",
    "    for name, files in zip(model_names, model_files):\n",
    "        if not files:\n",
    "            rows.append({\"model\": name, \"queries\": 0})\n",
    "            continue\n",
    "\n",
    "        m = eval_object_max(files, load_fn, Ks=(1, 5, 10))\n",
    "        m[\"model\"] = name\n",
    "        rows.append(m)\n",
    "    return rows\n",
    "\n",
    "rows = evaluate_models_for_search(model_names, model_files, load_npz_features)"
   ]
  },
  {
   "cell_type": "code",
   "execution_count": 95,
   "id": "96dce266",
   "metadata": {},
   "outputs": [],
   "source": [
    "\n",
    "from src.modeling.BRepNet.metrics import evaluate_brepnet_faces_object_max\n",
    "\n",
    "out_face_dir = BREPNET_NPZ_DIR / \"embeddings_faces\"\n",
    "out_model_dir = BREPNET_NPZ_DIR / \"embeddings_models\"\n",
    "\n",
    "brep_metrics = evaluate_brepnet_faces_object_max(\n",
    "        faces_dir=out_face_dir,\n",
    "        model_dir=out_model_dir,\n",
    "        Ks=(1,5,10)\n",
    "    )"
   ]
  },
  {
   "cell_type": "code",
   "execution_count": 96,
   "id": "b22e5a4b",
   "metadata": {},
   "outputs": [
    {
     "name": "stdout",
     "output_type": "stream",
     "text": [
      "        model  queries  recall@1  recall@5  recall@10      mAP   nDCG@5  nDCG@10  pos_mean  neg_mean   margin  cohens_d\n",
      "DINO s14 2dv0     1032  0.897287  0.996124        1.0 0.943849 0.956899 0.958236       1.0  0.639031 0.360969  2.803236\n",
      "  DINO b14 2d     1032  0.892442  0.998062        1.0 0.939470 0.954214 0.954904       1.0  0.827749 0.172251  2.222084\n",
      "DINO b14 2dv0     1032  0.892442  0.998062        1.0 0.939470 0.954214 0.954904       1.0  0.827749 0.172251  2.222084\n",
      "  DINO s14 2d     1032  0.891473  0.998062        1.0 0.939244 0.954075 0.954766       1.0  0.871053 0.128947  2.246197\n",
      "      BRepNet     9895  0.826781  0.996564        1.0 0.901286 0.925219 0.926385       1.0  0.876704 0.123296  0.819113\n",
      "CLIP b32 2dv0     1032  0.891473  0.996124        1.0 0.940215 0.954179 0.955515       1.0  0.894322 0.105678  2.684414\n",
      "CLIP s16 2dv0     1032  0.901163  0.996124        1.0 0.945706 0.958263 0.959599       1.0  0.906414 0.093586  2.748654\n",
      "  CLIP s16 2d     1032  0.975775  1.000000        1.0 0.987403 0.990679 0.990679       1.0  0.911103 0.088897  2.551635\n",
      "  CLIP b32 2d     1032  0.975775  1.000000        1.0 0.987403 0.990679 0.990679       1.0  0.915726 0.084274  2.541060\n"
     ]
    }
   ],
   "source": [
    "import pandas as pd\n",
    "df_metrics = pd.DataFrame(rows)\n",
    "df_brep = pd.DataFrame([{\"model\": \"BRepNet\", **brep_metrics}])\n",
    "# объединяем результаты\n",
    "\n",
    "df_metrics = pd.concat([df_metrics, df_brep], ignore_index=True)\n",
    "\n",
    "cols = [\"model\", \"queries\", \"recall@1\", \"recall@5\", \"recall@10\", \"mAP\", \"nDCG@5\", \"nDCG@10\",\n",
    "        \"pos_mean\", \"neg_mean\", \"margin\", \"cohens_d\"]\n",
    "\n",
    "df_metrics = df_metrics.reindex(columns=cols)\n",
    "df_metrics = df_metrics.sort_values([ \"margin\", \"recall@1\", \"mAP\"], ascending=False)\n",
    "print(df_metrics.to_string(index=False))\n"
   ]
  },
  {
   "cell_type": "code",
   "execution_count": 102,
   "id": "3c48639b",
   "metadata": {},
   "outputs": [
    {
     "name": "stdout",
     "output_type": "stream",
     "text": [
      "Поисковая модель: DINO s14 2dv0\n",
      "                               model     score\n",
      "0    Зацеп трубки направляющий 3.prt  1.000000\n",
      "1    Зацеп трубки направляющий 4.prt  0.990592\n",
      "2    Зацеп трубки направляющий 2.prt  0.974641\n",
      "3    Зацеп трубки направляющий 5.prt  0.974102\n",
      "4    Зацеп трубки направляющий 6.prt  0.961694\n",
      "5    Зацеп трубки направляющий 1.prt  0.946608\n",
      "6      Зацеп трубки направляющий.prt  0.922435\n",
      "7    Зацеп трубки направляющий 7.prt  0.816310\n",
      "8               Камера газовая 8.prt  0.770106\n",
      "9              Камера газовая 10.prt  0.768642\n",
      "10              Камера газовая 9.prt  0.762634\n",
      "11   Зацеп трубки направляющий 9.prt  0.747310\n",
      "12                42. Ejector-03.prt  0.745427\n",
      "13                42. Ejector-04.prt  0.744396\n",
      "14                    42. Ejector-02  0.744301\n",
      "15                   42. Ejector.prt  0.743181\n",
      "16  Зацеп трубки направляющий 10.prt  0.742906\n",
      "17                42. Ejector-01.prt  0.742786\n",
      "18                42. Ejector-05.prt  0.742602\n",
      "19   Зацеп трубки направляющий 8.prt  0.741486\n"
     ]
    }
   ],
   "source": [
    "from src.modeling.vit.searcher import vit_topk\n",
    "query_index = 57\n",
    "top = 20\n",
    "# print(vit_topk(\"DINO s14 2d\",  dino_s14_2d_files,  query=query_index, k=top).to_string())\n",
    "# vit_topk(\"DINO b14 2d\",  dino_b14_2d_files,  query=query_index, k=top)\n",
    "# vit_topk(\"CLIP s16 2d\",  clip_s16_2d_files,  query=query_index, k=top)\n",
    "# vit_topk(\"CLIP b32 2d\",  clip_b32_2d_files,  query=query_index, k=top)\n",
    "\n",
    "print(vit_topk(\"DINO s14 2dv0\", dino_s14_2dv0_files, query=query_index, k=top).to_string())\n",
    "# vit_topk(\"DINO b14 2dv0\", dino_b14_2dv0_files, query=query_index, k=top)\n",
    "# vit_topk(\"CLIP s16 2dv0\", clip_s16_2dv0_files, query=query_index, k=top)\n",
    "# vit_topk(\"CLIP b32 2dv0\", clip_b32_2dv0_files, query=query_index, k=top)"
   ]
  }
 ],
 "metadata": {
  "kernelspec": {
   "display_name": "brepnet",
   "language": "python",
   "name": "python3"
  },
  "language_info": {
   "codemirror_mode": {
    "name": "ipython",
    "version": 3
   },
   "file_extension": ".py",
   "mimetype": "text/x-python",
   "name": "python",
   "nbconvert_exporter": "python",
   "pygments_lexer": "ipython3",
   "version": "3.11.13"
  }
 },
 "nbformat": 4,
 "nbformat_minor": 5
}
