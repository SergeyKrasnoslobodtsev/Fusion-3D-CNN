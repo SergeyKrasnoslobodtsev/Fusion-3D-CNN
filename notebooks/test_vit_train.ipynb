{
 "cells": [
  {
   "cell_type": "code",
   "execution_count": 1,
   "id": "fc1ecd9b",
   "metadata": {},
   "outputs": [
    {
     "name": "stderr",
     "output_type": "stream",
     "text": [
      "\u001b[32m2025-09-18 19:13:31.879\u001b[0m | \u001b[1mINFO    \u001b[0m | \u001b[36msrc.config\u001b[0m:\u001b[36m<module>\u001b[0m:\u001b[36m11\u001b[0m - \u001b[1mPROJ_ROOT path is: D:\\workspace\\projects\\freelance\\Fusion3DNet\u001b[0m\n"
     ]
    },
    {
     "name": "stdout",
     "output_type": "stream",
     "text": [
      "Project root added to path: d:\\workspace\\projects\\freelance\\Fusion3DNet\n"
     ]
    }
   ],
   "source": [
    "%load_ext autoreload\n",
    "%autoreload 2\n",
    "import notebook_setup\n",
    "from src.config import INTERIM_DATA_DIR, PROCESSED_DATA_DIR, REPORTS_DIR, EXTERNAL_DATA_DIR, MODELS_DIR\n",
    "import os\n",
    "os.environ[\"KMP_DUPLICATE_LIB_OK\"] = \"TRUE\"\n",
    "os.environ[\"OMP_NUM_THREADS\"] = \"4\"\n",
    "os.environ[\"MKL_NUM_THREADS\"] = \"4\"\n",
    "\n",
    "BREPNET_NPZ_DIR = INTERIM_DATA_DIR / \"features\" / \"brepnet\""
   ]
  },
  {
   "cell_type": "code",
   "execution_count": 2,
   "id": "0441a3a5",
   "metadata": {},
   "outputs": [
    {
     "name": "stdout",
     "output_type": "stream",
     "text": [
      "D:\\workspace\\projects\\freelance\\Fusion3DNet\\data\\interim\\features\\brepnet\\42. Ejector-01.prt.npz ['face_features', 'face_point_grids', 'edge_features', 'coedge_point_grids', 'coedge_features', 'coedge_lcs', 'coedge_scale_factors', 'coedge_reverse_flags', 'next', 'mate', 'face', 'edge']\n",
      "face_features (9, 7) float64\n",
      "face_point_grids (9, 7, 10, 10) float64\n",
      "edge_features (16, 10) float64\n",
      "coedge_point_grids (31, 12, 10) float64\n",
      "coedge_features (31, 1) float64\n",
      "coedge_lcs (31, 4, 4) float64\n",
      "coedge_scale_factors (31,) float64\n",
      "coedge_reverse_flags (31,) float64\n",
      "next (31,) uint32\n",
      "mate (31,) uint32\n",
      "face (31,) uint32\n",
      "edge (31,) uint32\n"
     ]
    }
   ],
   "source": [
    "import numpy as np, pathlib as p\n",
    "f = next(p.Path(INTERIM_DATA_DIR/'features/brepnet').glob('*.npz'))  # подставьте конкретный файл, на котором падает\n",
    "with np.load(f) as z:\n",
    "    print(f, z.files)\n",
    "    for k in z.files:\n",
    "        print(k, z[k].shape, z[k].dtype)"
   ]
  },
  {
   "cell_type": "code",
   "execution_count": 3,
   "id": "5029ea25",
   "metadata": {},
   "outputs": [
    {
     "name": "stdout",
     "output_type": "stream",
     "text": [
      "Всего файлов BREP: 129\n",
      "Всего файлов DINO: 129\n",
      "Найдено 128 общих элементов.\n",
      "Вычисление статистики на основе тренировочных данных...\n"
     ]
    },
    {
     "name": "stderr",
     "output_type": "stream",
     "text": [
      "Вычисление статистики: 100%|██████████| 102/102 [00:01<00:00, 51.42it/s]\n"
     ]
    },
    {
     "name": "stdout",
     "output_type": "stream",
     "text": [
      "Сохранение статистики в D:\\workspace\\projects\\freelance\\Fusion3DNet\\data\\interim\\features\\pooled_brep.json...\n",
      "Загрузка статистики из D:\\workspace\\projects\\freelance\\Fusion3DNet\\data\\interim\\features\\pooled_brep.json\n",
      "Размер обучающего датасета: 102\n",
      "Размер валидационного датасета: 26\n",
      "Shape dino features: torch.Size([8, 384])\n",
      "Ключи в батче: ['views', 'face_matrix', 'item_id']\n",
      "Размер 'views': torch.Size([102, 8, 384])\n",
      "'face_matrix' - это список из 102 тензоров.\n",
      "Размер первого 'face_matrix' в батче: torch.Size([8, 7])\n",
      "ID элементов: ['42. Ejector-09', '43. Extractor-06', '42. Ejector-06', 'Защелка 3', '43. Extractor-03', 'Защелка АК', 'Зацеп трубки направляющий 2', '42. Silencer Fix-07', '42. Silencer Fix-01', 'Камера газовая 3', 'Зацеп трубки направляющий 8', '44. Extractor Pin-10', '42. Silencer Fix-09', '43. Extractor-01', 'Затвор', '44. Extractor Pin-06', 'Защелка 4', 'Зацеп трубки направляющий 4', 'Камера газовая', '44. Extractor Pin-05', '44. Extractor Pin-01', '43. Extractor-10', 'Камера газовая 7', '42. Ejector-10', 'Защелка АК 8', 'Затвор 7', 'Кожух 10', 'Защелка 8', 'Защелка 5', 'Защелка', 'Защелка 10', 'Зацеп трубки направляющий 7', 'Зацеп трубки направляющий 3', '43. Extractor', 'Защелка 9', 'Защелка АК 1', '44. Extractor Pin-09', 'Затвор 8', 'Защелка АК 7', '42. Ejector-08', '43. Extractor-02', '42. Silencer Fix-10', 'Затвор 5', '44. Extractor Pin-03', 'Кожух 4', 'Зацеп трубки направляющий 10', 'Затвор 1', '42. Ejector-07', 'Защелка АК 2', 'Защелка АК 3', '42. Ejector', '42. Silencer Fix', '44. Extractor Pin-04', 'Зацеп трубки направляющий', 'Зацеп трубки направляющий 5', 'Защелка 2', '42. Silencer Fix-08', '43. Extractor-05', '42. Silencer Fix-03', 'Защелка АК 6', '42. Ejector-05', '42. Silencer Fix-06', 'Затвор 3', '42. Ejector-03', 'Затвор 9', 'Камера газовая 6', 'Камера газовая 8', 'Камера газовая 9', '42. Ejector-04', '44. Extractor Pin-07', 'Защелка 1', '42. Ejector-01', '43. Extractor-08', 'Защелка 6', 'Камера газовая 4', 'Кожух', 'Кожух 2', 'Камера газовая 1', 'Зацеп трубки направляющий 6', '44. Extractor Pin-08', 'Затвор 2', 'Защелка АК 5', 'Затвор 4', '42. Silencer Fix-05', '42. Silencer Fix-02', 'Кожух 3', '43. Extractor-07', 'Камера газовая 2', '43. Extractor-09', 'Зацеп трубки направляющий 1', '44. Extractor Pin-02', 'Защелка АК 9', 'Зацеп трубки направляющий 9', 'Защелка АК 4', '42. Silencer Fix-04', 'Затвор 6', 'Защелка 7', 'Камера газовая 10', '43. Extractor-04', 'Кожух 1', 'Камера газовая 5', '44. Extractor Pin']\n"
     ]
    }
   ],
   "source": [
    "from pathlib import Path\n",
    "import torch\n",
    "from torch.utils.data import DataLoader\n",
    "from typing import List\n",
    "\n",
    "\n",
    "# Импортируем классы из вашего файла\n",
    "from src.modeling.vit_brep_ensemble.data_module.dataset import (\n",
    "    CADItem,\n",
    "    FusionCADDataset,\n",
    "    build_brep_standardizer,\n",
    "    save_stats,\n",
    "    load_stats,\n",
    ")\n",
    "\n",
    "def get_clean_id(filename: str):\n",
    "    name = Path(filename).stem\n",
    "    if name.endswith('.prt'):\n",
    "        name = name[:-4]\n",
    "    return name\n",
    "\n",
    "brep_features_dir = Path(INTERIM_DATA_DIR / \"features/brepnet\")\n",
    "dino_features_dir = Path(INTERIM_DATA_DIR / \"features/dino\")\n",
    "stats_path = Path(INTERIM_DATA_DIR / \"features/pooled_brep.json\")\n",
    "\n",
    "# 2. Собираем объекты CADItem, находя общие файлы\n",
    "brep_files = {p.stem: p for p in brep_features_dir.glob(\"*.npz\")}\n",
    "dino_files = {p.stem: p for p in dino_features_dir.glob(\"*.npz\")}\n",
    "\n",
    "# очистим id от лишних суффиксов\n",
    "brep_files = {get_clean_id(k): v for k, v in brep_files.items()}\n",
    "\n",
    "common_ids = sorted(brep_files.keys() & dino_files.keys())\n",
    "\n",
    "print(f\"Всего файлов BREP: {len(brep_files)}\")\n",
    "print(f\"Всего файлов DINO: {len(dino_files)}\")\n",
    "\n",
    "all_items: List[CADItem] = []\n",
    "for item_id in common_ids:\n",
    "    item = CADItem(\n",
    "        item_id=item_id,\n",
    "        brep_npz_path=brep_files[item_id],\n",
    "        dino_path=dino_files[item_id],\n",
    "    )\n",
    "    all_items.append(item)\n",
    "\n",
    "print(f\"Найдено {len(all_items)} общих элементов.\")\n",
    "\n",
    "# 3. Разделяем на обучающую и валидационную выборки (например, 80/20)\n",
    "train_size = int(0.8 * len(all_items))\n",
    "train_items = all_items[:train_size]\n",
    "val_items = all_items[train_size:]\n",
    "\n",
    "print(\"Вычисление статистики на основе тренировочных данных...\")\n",
    "standardizer = build_brep_standardizer(train_items)\n",
    "print(f\"Сохранение статистики в {stats_path}...\")\n",
    "save_stats(standardizer, stats_path)\n",
    "\n",
    "if stats_path.exists():\n",
    "    print(f\"Загрузка статистики из {stats_path}\")\n",
    "    standardizer = load_stats(stats_path)\n",
    "else:\n",
    "    print(\"Создание и сохранение статистики...\")\n",
    "    standardizer = build_brep_standardizer(train_items)\n",
    "    save_stats(standardizer, stats_path)\n",
    "\n",
    "# 5. Создаем экземпляры датасета\n",
    "train_dataset = FusionCADDataset(\n",
    "    items=train_items,\n",
    "    standardizer=standardizer\n",
    ")\n",
    "val_dataset = FusionCADDataset(\n",
    "    items=val_items,\n",
    "    standardizer=standardizer\n",
    ")\n",
    "\n",
    "print(f\"Размер обучающего датасета: {len(train_dataset)}\")\n",
    "print(f\"Размер валидационного датасета: {len(val_dataset)}\")\n",
    "\n",
    "def custom_collate_fn(batch):\n",
    "    \"\"\"\n",
    "    Собирает батч, оставляя тензоры переменной длины (face_matrix) в виде списка.\n",
    "    \"\"\"\n",
    "    views_list = [item['views'] for item in batch]\n",
    "    face_matrix_list = [item['face_matrix'] for item in batch]\n",
    "    item_id_list = [item['item_id'] for item in batch]\n",
    "\n",
    "    \n",
    "    views_batch = torch.stack(views_list, dim=0)\n",
    "\n",
    "    return {\n",
    "        'views': views_batch,\n",
    "        'face_matrix': face_matrix_list,\n",
    "        'item_id': item_id_list\n",
    "    }\n",
    "\n",
    "# 6. Используем DataLoader для итерации по данным\n",
    "train_loader = DataLoader(train_dataset, batch_size=128, shuffle=True, collate_fn=custom_collate_fn)\n",
    "val_loader = DataLoader(val_dataset, batch_size=32, shuffle=False, collate_fn=custom_collate_fn)\n",
    "\n",
    "print(f'Shape dino features: {train_dataset[1][\"views\"].shape}')\n",
    "\n",
    "batch = next(iter(train_loader))\n",
    "print(\"Ключи в батче:\", list(batch.keys()))\n",
    "print(\"Размер 'views':\", batch[\"views\"].shape)\n",
    "# 'face_matrix' теперь - это список, выведем размер первого элемента\n",
    "print(\"'face_matrix' - это список из\", len(batch[\"face_matrix\"]), \"тензоров.\")\n",
    "print(\"Размер первого 'face_matrix' в батче:\", batch[\"face_matrix\"][0].shape)\n",
    "print(\"ID элементов:\", batch[\"item_id\"])"
   ]
  },
  {
   "cell_type": "code",
   "execution_count": 4,
   "id": "912e4437",
   "metadata": {},
   "outputs": [
    {
     "name": "stderr",
     "output_type": "stream",
     "text": [
      "d:\\dev\\.miniconda\\envs\\brepnet\\Lib\\site-packages\\torchvision\\io\\image.py:13: UserWarning: Failed to load image Python extension: '[WinError 127] Не найдена указанная процедура'If you don't plan on using image functionality from `torchvision.io`, you can ignore this warning. Otherwise, there might be something wrong with your environment. Did you have `libjpeg` or `libpng` installed before building `torchvision` from source?\n",
      "  warn(\n"
     ]
    },
    {
     "name": "stdout",
     "output_type": "stream",
     "text": [
      "Загрузка статистики из D:\\workspace\\projects\\freelance\\Fusion3DNet\\data\\interim\\features\\pooled_brep.json\n",
      "dino: torch.Size([32, 256]) brep: torch.Size([32, 256])\n"
     ]
    }
   ],
   "source": [
    "from src.modeling.vit_brep_ensemble.models.ensemble import ContrastiveFusionModel\n",
    "from src.modeling.vit_brep_ensemble.data_module.data_loader import FusionDataModule \n",
    "\n",
    "data_module = FusionDataModule(\n",
    "    brep_features_dir=brep_features_dir,\n",
    "    dino_features_dir=dino_features_dir,\n",
    "    stats_path=stats_path,\n",
    "    batch_size=32,    \n",
    ")\n",
    "data_module.setup()\n",
    "batch = next(iter(data_module.train_dataloader()))\n",
    "model = ContrastiveFusionModel(embed_dim=256, learning_rate=1e-4)\n",
    "\n",
    "with torch.no_grad():\n",
    "    embeddings = model(batch)  \n",
    "    dino_embed = embeddings[\"dino_embed\"]\n",
    "    brep_embed = embeddings[\"brep_embed\"]\n",
    "    print(\"dino:\", dino_embed.shape, \"brep:\", brep_embed.shape)"
   ]
  },
  {
   "cell_type": "code",
   "execution_count": 5,
   "id": "f617d721",
   "metadata": {},
   "outputs": [
    {
     "name": "stderr",
     "output_type": "stream",
     "text": [
      "GPU available: False, used: False\n",
      "TPU available: False, using: 0 TPU cores\n",
      "HPU available: False, using: 0 HPUs\n",
      "d:\\dev\\.miniconda\\envs\\brepnet\\Lib\\site-packages\\pytorch_lightning\\callbacks\\model_checkpoint.py:701: Checkpoint directory D:\\workspace\\projects\\freelance\\Fusion3DNet\\models\\vit_brep_ensemble exists and is not empty.\n",
      "\n",
      "  | Name         | Type        | Params | Mode \n",
      "-----------------------------------------------------\n",
      "0 | dino_encoder | DINOEncoder | 362 K  | train\n",
      "1 | brep_encoder | BRepEncoder | 3.2 M  | train\n",
      "-----------------------------------------------------\n",
      "3.5 M     Trainable params\n",
      "0         Non-trainable params\n",
      "3.5 M     Total params\n",
      "14.096    Total estimated model params size (MB)\n",
      "50        Modules in train mode\n",
      "0         Modules in eval mode\n"
     ]
    },
    {
     "name": "stdout",
     "output_type": "stream",
     "text": [
      "Загрузка статистики из D:\\workspace\\projects\\freelance\\Fusion3DNet\\data\\interim\\features\\pooled_brep.json\n"
     ]
    },
    {
     "data": {
      "application/vnd.jupyter.widget-view+json": {
       "model_id": "ab44404478ea4b8cb9fa17e4ca7ec109",
       "version_major": 2,
       "version_minor": 0
      },
      "text/plain": [
       "Sanity Checking: |          | 0/? [00:00<?, ?it/s]"
      ]
     },
     "metadata": {},
     "output_type": "display_data"
    },
    {
     "name": "stderr",
     "output_type": "stream",
     "text": [
      "d:\\dev\\.miniconda\\envs\\brepnet\\Lib\\site-packages\\pytorch_lightning\\trainer\\connectors\\data_connector.py:433: The 'val_dataloader' does not have many workers which may be a bottleneck. Consider increasing the value of the `num_workers` argument` to `num_workers=7` in the `DataLoader` to improve performance.\n",
      "d:\\dev\\.miniconda\\envs\\brepnet\\Lib\\site-packages\\pytorch_lightning\\utilities\\data.py:79: Trying to infer the `batch_size` from an ambiguous collection. The batch size we found is 26. To avoid any miscalculations, use `self.log(..., batch_size=batch_size)`.\n",
      "d:\\dev\\.miniconda\\envs\\brepnet\\Lib\\site-packages\\pytorch_lightning\\trainer\\connectors\\data_connector.py:433: The 'train_dataloader' does not have many workers which may be a bottleneck. Consider increasing the value of the `num_workers` argument` to `num_workers=7` in the `DataLoader` to improve performance.\n",
      "d:\\dev\\.miniconda\\envs\\brepnet\\Lib\\site-packages\\pytorch_lightning\\loops\\fit_loop.py:310: The number of training batches (4) is smaller than the logging interval Trainer(log_every_n_steps=50). Set a lower value for log_every_n_steps if you want to see logs for the training epoch.\n"
     ]
    },
    {
     "data": {
      "application/vnd.jupyter.widget-view+json": {
       "model_id": "d227c5d166c24486b8f08073b57fe867",
       "version_major": 2,
       "version_minor": 0
      },
      "text/plain": [
       "Training: |          | 0/? [00:00<?, ?it/s]"
      ]
     },
     "metadata": {},
     "output_type": "display_data"
    },
    {
     "data": {
      "application/vnd.jupyter.widget-view+json": {
       "model_id": "abb67e2460094df18d4954d5a4131624",
       "version_major": 2,
       "version_minor": 0
      },
      "text/plain": [
       "Validation: |          | 0/? [00:00<?, ?it/s]"
      ]
     },
     "metadata": {},
     "output_type": "display_data"
    },
    {
     "data": {
      "application/vnd.jupyter.widget-view+json": {
       "model_id": "3d900e922450412ebf16a40f383667a4",
       "version_major": 2,
       "version_minor": 0
      },
      "text/plain": [
       "Validation: |          | 0/? [00:00<?, ?it/s]"
      ]
     },
     "metadata": {},
     "output_type": "display_data"
    },
    {
     "data": {
      "application/vnd.jupyter.widget-view+json": {
       "model_id": "c0f3aa18b33f4b7eb4400f122704688d",
       "version_major": 2,
       "version_minor": 0
      },
      "text/plain": [
       "Validation: |          | 0/? [00:00<?, ?it/s]"
      ]
     },
     "metadata": {},
     "output_type": "display_data"
    },
    {
     "data": {
      "application/vnd.jupyter.widget-view+json": {
       "model_id": "f719885de8cb423b9e5131b38d1745cb",
       "version_major": 2,
       "version_minor": 0
      },
      "text/plain": [
       "Validation: |          | 0/? [00:00<?, ?it/s]"
      ]
     },
     "metadata": {},
     "output_type": "display_data"
    },
    {
     "data": {
      "application/vnd.jupyter.widget-view+json": {
       "model_id": "9a2628468822461e87de45afb1014b3c",
       "version_major": 2,
       "version_minor": 0
      },
      "text/plain": [
       "Validation: |          | 0/? [00:00<?, ?it/s]"
      ]
     },
     "metadata": {},
     "output_type": "display_data"
    },
    {
     "data": {
      "application/vnd.jupyter.widget-view+json": {
       "model_id": "554e9790e3fd49209b6b18591330c4c0",
       "version_major": 2,
       "version_minor": 0
      },
      "text/plain": [
       "Validation: |          | 0/? [00:00<?, ?it/s]"
      ]
     },
     "metadata": {},
     "output_type": "display_data"
    },
    {
     "data": {
      "application/vnd.jupyter.widget-view+json": {
       "model_id": "67461fa1c81b4e7cb93be7d8547a9569",
       "version_major": 2,
       "version_minor": 0
      },
      "text/plain": [
       "Validation: |          | 0/? [00:00<?, ?it/s]"
      ]
     },
     "metadata": {},
     "output_type": "display_data"
    },
    {
     "data": {
      "application/vnd.jupyter.widget-view+json": {
       "model_id": "414afc76e3eb4f3c8ac84d393a774dde",
       "version_major": 2,
       "version_minor": 0
      },
      "text/plain": [
       "Validation: |          | 0/? [00:00<?, ?it/s]"
      ]
     },
     "metadata": {},
     "output_type": "display_data"
    },
    {
     "data": {
      "application/vnd.jupyter.widget-view+json": {
       "model_id": "4b3b4eb329634720b3bcde9309d8d67c",
       "version_major": 2,
       "version_minor": 0
      },
      "text/plain": [
       "Validation: |          | 0/? [00:00<?, ?it/s]"
      ]
     },
     "metadata": {},
     "output_type": "display_data"
    },
    {
     "data": {
      "application/vnd.jupyter.widget-view+json": {
       "model_id": "b9806f15ae114ecdbc9cc7aa680b2d9b",
       "version_major": 2,
       "version_minor": 0
      },
      "text/plain": [
       "Validation: |          | 0/? [00:00<?, ?it/s]"
      ]
     },
     "metadata": {},
     "output_type": "display_data"
    },
    {
     "data": {
      "application/vnd.jupyter.widget-view+json": {
       "model_id": "40d52897c34f40ecb23d981666e07311",
       "version_major": 2,
       "version_minor": 0
      },
      "text/plain": [
       "Validation: |          | 0/? [00:00<?, ?it/s]"
      ]
     },
     "metadata": {},
     "output_type": "display_data"
    },
    {
     "data": {
      "application/vnd.jupyter.widget-view+json": {
       "model_id": "69abeaa32d1c46b0baa93613d768052e",
       "version_major": 2,
       "version_minor": 0
      },
      "text/plain": [
       "Validation: |          | 0/? [00:00<?, ?it/s]"
      ]
     },
     "metadata": {},
     "output_type": "display_data"
    },
    {
     "data": {
      "application/vnd.jupyter.widget-view+json": {
       "model_id": "663202c030db4e86be2f1f5aa6b07050",
       "version_major": 2,
       "version_minor": 0
      },
      "text/plain": [
       "Validation: |          | 0/? [00:00<?, ?it/s]"
      ]
     },
     "metadata": {},
     "output_type": "display_data"
    },
    {
     "data": {
      "application/vnd.jupyter.widget-view+json": {
       "model_id": "a7425c5ced21460abf5e6bca422978da",
       "version_major": 2,
       "version_minor": 0
      },
      "text/plain": [
       "Validation: |          | 0/? [00:00<?, ?it/s]"
      ]
     },
     "metadata": {},
     "output_type": "display_data"
    },
    {
     "data": {
      "application/vnd.jupyter.widget-view+json": {
       "model_id": "3adf324ba3df43108776be2b04c081f2",
       "version_major": 2,
       "version_minor": 0
      },
      "text/plain": [
       "Validation: |          | 0/? [00:00<?, ?it/s]"
      ]
     },
     "metadata": {},
     "output_type": "display_data"
    },
    {
     "data": {
      "application/vnd.jupyter.widget-view+json": {
       "model_id": "d644db408d4343248cc604edbe65c85c",
       "version_major": 2,
       "version_minor": 0
      },
      "text/plain": [
       "Validation: |          | 0/? [00:00<?, ?it/s]"
      ]
     },
     "metadata": {},
     "output_type": "display_data"
    },
    {
     "data": {
      "application/vnd.jupyter.widget-view+json": {
       "model_id": "1db27ee019eb4e7e99c43e9a967bc62d",
       "version_major": 2,
       "version_minor": 0
      },
      "text/plain": [
       "Validation: |          | 0/? [00:00<?, ?it/s]"
      ]
     },
     "metadata": {},
     "output_type": "display_data"
    },
    {
     "data": {
      "application/vnd.jupyter.widget-view+json": {
       "model_id": "225a8e2861d24248b1d1338a34fccd0e",
       "version_major": 2,
       "version_minor": 0
      },
      "text/plain": [
       "Validation: |          | 0/? [00:00<?, ?it/s]"
      ]
     },
     "metadata": {},
     "output_type": "display_data"
    },
    {
     "data": {
      "application/vnd.jupyter.widget-view+json": {
       "model_id": "78a219cf9b1445c79092e63271e52c63",
       "version_major": 2,
       "version_minor": 0
      },
      "text/plain": [
       "Validation: |          | 0/? [00:00<?, ?it/s]"
      ]
     },
     "metadata": {},
     "output_type": "display_data"
    },
    {
     "data": {
      "application/vnd.jupyter.widget-view+json": {
       "model_id": "4fcd28b0e70142e98e7d0c486dfe8de8",
       "version_major": 2,
       "version_minor": 0
      },
      "text/plain": [
       "Validation: |          | 0/? [00:00<?, ?it/s]"
      ]
     },
     "metadata": {},
     "output_type": "display_data"
    },
    {
     "data": {
      "application/vnd.jupyter.widget-view+json": {
       "model_id": "748067d123954e5cbaa3970121bbf1d3",
       "version_major": 2,
       "version_minor": 0
      },
      "text/plain": [
       "Validation: |          | 0/? [00:00<?, ?it/s]"
      ]
     },
     "metadata": {},
     "output_type": "display_data"
    },
    {
     "data": {
      "application/vnd.jupyter.widget-view+json": {
       "model_id": "b4793b8909d84d6fbe5dcb5a7516bb55",
       "version_major": 2,
       "version_minor": 0
      },
      "text/plain": [
       "Validation: |          | 0/? [00:00<?, ?it/s]"
      ]
     },
     "metadata": {},
     "output_type": "display_data"
    },
    {
     "data": {
      "application/vnd.jupyter.widget-view+json": {
       "model_id": "71b0ba454262433790b9b0b225005b16",
       "version_major": 2,
       "version_minor": 0
      },
      "text/plain": [
       "Validation: |          | 0/? [00:00<?, ?it/s]"
      ]
     },
     "metadata": {},
     "output_type": "display_data"
    },
    {
     "data": {
      "application/vnd.jupyter.widget-view+json": {
       "model_id": "e5910edc3f7d412b8a307c4fa2abf0aa",
       "version_major": 2,
       "version_minor": 0
      },
      "text/plain": [
       "Validation: |          | 0/? [00:00<?, ?it/s]"
      ]
     },
     "metadata": {},
     "output_type": "display_data"
    },
    {
     "data": {
      "application/vnd.jupyter.widget-view+json": {
       "model_id": "adda1ebd0d4c49309618fcba31e229de",
       "version_major": 2,
       "version_minor": 0
      },
      "text/plain": [
       "Validation: |          | 0/? [00:00<?, ?it/s]"
      ]
     },
     "metadata": {},
     "output_type": "display_data"
    },
    {
     "data": {
      "application/vnd.jupyter.widget-view+json": {
       "model_id": "6669e54833134ea79bbf6e4ee2c925d3",
       "version_major": 2,
       "version_minor": 0
      },
      "text/plain": [
       "Validation: |          | 0/? [00:00<?, ?it/s]"
      ]
     },
     "metadata": {},
     "output_type": "display_data"
    },
    {
     "data": {
      "application/vnd.jupyter.widget-view+json": {
       "model_id": "4de14f3e72d14c1eb0d488a9d8e4381c",
       "version_major": 2,
       "version_minor": 0
      },
      "text/plain": [
       "Validation: |          | 0/? [00:00<?, ?it/s]"
      ]
     },
     "metadata": {},
     "output_type": "display_data"
    },
    {
     "data": {
      "application/vnd.jupyter.widget-view+json": {
       "model_id": "3be0a39a591d4f228e1db1c3aac1fc0e",
       "version_major": 2,
       "version_minor": 0
      },
      "text/plain": [
       "Validation: |          | 0/? [00:00<?, ?it/s]"
      ]
     },
     "metadata": {},
     "output_type": "display_data"
    },
    {
     "data": {
      "application/vnd.jupyter.widget-view+json": {
       "model_id": "aadc42680ad7454da8c2d111dcf28f14",
       "version_major": 2,
       "version_minor": 0
      },
      "text/plain": [
       "Validation: |          | 0/? [00:00<?, ?it/s]"
      ]
     },
     "metadata": {},
     "output_type": "display_data"
    },
    {
     "data": {
      "application/vnd.jupyter.widget-view+json": {
       "model_id": "979f39138e9f4a0babd823e89fbbc0e2",
       "version_major": 2,
       "version_minor": 0
      },
      "text/plain": [
       "Validation: |          | 0/? [00:00<?, ?it/s]"
      ]
     },
     "metadata": {},
     "output_type": "display_data"
    },
    {
     "data": {
      "application/vnd.jupyter.widget-view+json": {
       "model_id": "d0ffd20a378e4e769530d591a1539d6c",
       "version_major": 2,
       "version_minor": 0
      },
      "text/plain": [
       "Validation: |          | 0/? [00:00<?, ?it/s]"
      ]
     },
     "metadata": {},
     "output_type": "display_data"
    },
    {
     "data": {
      "application/vnd.jupyter.widget-view+json": {
       "model_id": "052e23eaa5524e1dbdcd49a39502c40e",
       "version_major": 2,
       "version_minor": 0
      },
      "text/plain": [
       "Validation: |          | 0/? [00:00<?, ?it/s]"
      ]
     },
     "metadata": {},
     "output_type": "display_data"
    },
    {
     "data": {
      "application/vnd.jupyter.widget-view+json": {
       "model_id": "b3f45a8a225a4344aaec03b4d9b54daa",
       "version_major": 2,
       "version_minor": 0
      },
      "text/plain": [
       "Validation: |          | 0/? [00:00<?, ?it/s]"
      ]
     },
     "metadata": {},
     "output_type": "display_data"
    },
    {
     "data": {
      "application/vnd.jupyter.widget-view+json": {
       "model_id": "d2a5cfb770434a6293768f75864e802e",
       "version_major": 2,
       "version_minor": 0
      },
      "text/plain": [
       "Validation: |          | 0/? [00:00<?, ?it/s]"
      ]
     },
     "metadata": {},
     "output_type": "display_data"
    },
    {
     "data": {
      "application/vnd.jupyter.widget-view+json": {
       "model_id": "de4775b8e1f745c8aac4762cde1437df",
       "version_major": 2,
       "version_minor": 0
      },
      "text/plain": [
       "Validation: |          | 0/? [00:00<?, ?it/s]"
      ]
     },
     "metadata": {},
     "output_type": "display_data"
    },
    {
     "data": {
      "application/vnd.jupyter.widget-view+json": {
       "model_id": "084c236e59a440309ac35c0c9f1731a5",
       "version_major": 2,
       "version_minor": 0
      },
      "text/plain": [
       "Validation: |          | 0/? [00:00<?, ?it/s]"
      ]
     },
     "metadata": {},
     "output_type": "display_data"
    },
    {
     "data": {
      "application/vnd.jupyter.widget-view+json": {
       "model_id": "23e7e13c7f3b45c0a036b1b54691da06",
       "version_major": 2,
       "version_minor": 0
      },
      "text/plain": [
       "Validation: |          | 0/? [00:00<?, ?it/s]"
      ]
     },
     "metadata": {},
     "output_type": "display_data"
    },
    {
     "data": {
      "application/vnd.jupyter.widget-view+json": {
       "model_id": "8db362acc92a4f2f891be38fb02da6cb",
       "version_major": 2,
       "version_minor": 0
      },
      "text/plain": [
       "Validation: |          | 0/? [00:00<?, ?it/s]"
      ]
     },
     "metadata": {},
     "output_type": "display_data"
    },
    {
     "data": {
      "application/vnd.jupyter.widget-view+json": {
       "model_id": "27ccda32ef894f29b49d995f8f7bb398",
       "version_major": 2,
       "version_minor": 0
      },
      "text/plain": [
       "Validation: |          | 0/? [00:00<?, ?it/s]"
      ]
     },
     "metadata": {},
     "output_type": "display_data"
    },
    {
     "data": {
      "application/vnd.jupyter.widget-view+json": {
       "model_id": "f2d7f063c3f2432ea98e3973c2cb9889",
       "version_major": 2,
       "version_minor": 0
      },
      "text/plain": [
       "Validation: |          | 0/? [00:00<?, ?it/s]"
      ]
     },
     "metadata": {},
     "output_type": "display_data"
    },
    {
     "data": {
      "application/vnd.jupyter.widget-view+json": {
       "model_id": "af6a250bdfc94bb3bb3e4881c118b0f6",
       "version_major": 2,
       "version_minor": 0
      },
      "text/plain": [
       "Validation: |          | 0/? [00:00<?, ?it/s]"
      ]
     },
     "metadata": {},
     "output_type": "display_data"
    },
    {
     "data": {
      "application/vnd.jupyter.widget-view+json": {
       "model_id": "f8bacdac9d37416b83818d83d625957a",
       "version_major": 2,
       "version_minor": 0
      },
      "text/plain": [
       "Validation: |          | 0/? [00:00<?, ?it/s]"
      ]
     },
     "metadata": {},
     "output_type": "display_data"
    },
    {
     "data": {
      "application/vnd.jupyter.widget-view+json": {
       "model_id": "c306acb0cf154e77a3ee90856e6ea8a4",
       "version_major": 2,
       "version_minor": 0
      },
      "text/plain": [
       "Validation: |          | 0/? [00:00<?, ?it/s]"
      ]
     },
     "metadata": {},
     "output_type": "display_data"
    },
    {
     "data": {
      "application/vnd.jupyter.widget-view+json": {
       "model_id": "64f2fed7c7e84afeaca8a4aa12d99b6f",
       "version_major": 2,
       "version_minor": 0
      },
      "text/plain": [
       "Validation: |          | 0/? [00:00<?, ?it/s]"
      ]
     },
     "metadata": {},
     "output_type": "display_data"
    },
    {
     "data": {
      "application/vnd.jupyter.widget-view+json": {
       "model_id": "c77d3838cdc14bc493a2884ae4ffe54d",
       "version_major": 2,
       "version_minor": 0
      },
      "text/plain": [
       "Validation: |          | 0/? [00:00<?, ?it/s]"
      ]
     },
     "metadata": {},
     "output_type": "display_data"
    },
    {
     "data": {
      "application/vnd.jupyter.widget-view+json": {
       "model_id": "88d3f5177fdd492795054f20a6ca6323",
       "version_major": 2,
       "version_minor": 0
      },
      "text/plain": [
       "Validation: |          | 0/? [00:00<?, ?it/s]"
      ]
     },
     "metadata": {},
     "output_type": "display_data"
    },
    {
     "data": {
      "application/vnd.jupyter.widget-view+json": {
       "model_id": "f05525d3b427416bbf017cad445b284e",
       "version_major": 2,
       "version_minor": 0
      },
      "text/plain": [
       "Validation: |          | 0/? [00:00<?, ?it/s]"
      ]
     },
     "metadata": {},
     "output_type": "display_data"
    },
    {
     "data": {
      "application/vnd.jupyter.widget-view+json": {
       "model_id": "c092b5b8b725441d94a27d8551b94948",
       "version_major": 2,
       "version_minor": 0
      },
      "text/plain": [
       "Validation: |          | 0/? [00:00<?, ?it/s]"
      ]
     },
     "metadata": {},
     "output_type": "display_data"
    },
    {
     "data": {
      "application/vnd.jupyter.widget-view+json": {
       "model_id": "bf12432c99dc4d259c386845d2ead5cc",
       "version_major": 2,
       "version_minor": 0
      },
      "text/plain": [
       "Validation: |          | 0/? [00:00<?, ?it/s]"
      ]
     },
     "metadata": {},
     "output_type": "display_data"
    },
    {
     "data": {
      "application/vnd.jupyter.widget-view+json": {
       "model_id": "099416a2a89241a990fd23cfdcf7653c",
       "version_major": 2,
       "version_minor": 0
      },
      "text/plain": [
       "Validation: |          | 0/? [00:00<?, ?it/s]"
      ]
     },
     "metadata": {},
     "output_type": "display_data"
    },
    {
     "data": {
      "application/vnd.jupyter.widget-view+json": {
       "model_id": "babfe2469d1c46028350ca83a34e028b",
       "version_major": 2,
       "version_minor": 0
      },
      "text/plain": [
       "Validation: |          | 0/? [00:00<?, ?it/s]"
      ]
     },
     "metadata": {},
     "output_type": "display_data"
    },
    {
     "data": {
      "application/vnd.jupyter.widget-view+json": {
       "model_id": "0e96c10464db4160bb367e6b7db48486",
       "version_major": 2,
       "version_minor": 0
      },
      "text/plain": [
       "Validation: |          | 0/? [00:00<?, ?it/s]"
      ]
     },
     "metadata": {},
     "output_type": "display_data"
    },
    {
     "data": {
      "application/vnd.jupyter.widget-view+json": {
       "model_id": "703c8117a268487d8297091d67981a42",
       "version_major": 2,
       "version_minor": 0
      },
      "text/plain": [
       "Validation: |          | 0/? [00:00<?, ?it/s]"
      ]
     },
     "metadata": {},
     "output_type": "display_data"
    },
    {
     "data": {
      "application/vnd.jupyter.widget-view+json": {
       "model_id": "de64e882ea394daf9e00cc3672fa5f8e",
       "version_major": 2,
       "version_minor": 0
      },
      "text/plain": [
       "Validation: |          | 0/? [00:00<?, ?it/s]"
      ]
     },
     "metadata": {},
     "output_type": "display_data"
    },
    {
     "data": {
      "application/vnd.jupyter.widget-view+json": {
       "model_id": "c40c0d26409445d39070d94be6c41a38",
       "version_major": 2,
       "version_minor": 0
      },
      "text/plain": [
       "Validation: |          | 0/? [00:00<?, ?it/s]"
      ]
     },
     "metadata": {},
     "output_type": "display_data"
    },
    {
     "data": {
      "application/vnd.jupyter.widget-view+json": {
       "model_id": "b924426b701f4bd0857e9c1d59025f34",
       "version_major": 2,
       "version_minor": 0
      },
      "text/plain": [
       "Validation: |          | 0/? [00:00<?, ?it/s]"
      ]
     },
     "metadata": {},
     "output_type": "display_data"
    },
    {
     "data": {
      "application/vnd.jupyter.widget-view+json": {
       "model_id": "4581b35e33214df68a1d9d8b96e02bdc",
       "version_major": 2,
       "version_minor": 0
      },
      "text/plain": [
       "Validation: |          | 0/? [00:00<?, ?it/s]"
      ]
     },
     "metadata": {},
     "output_type": "display_data"
    },
    {
     "data": {
      "application/vnd.jupyter.widget-view+json": {
       "model_id": "fea5cd27a1e84e748af6e9df907d4c78",
       "version_major": 2,
       "version_minor": 0
      },
      "text/plain": [
       "Validation: |          | 0/? [00:00<?, ?it/s]"
      ]
     },
     "metadata": {},
     "output_type": "display_data"
    },
    {
     "data": {
      "application/vnd.jupyter.widget-view+json": {
       "model_id": "bee5579953eb417e9e43f10f5f8846c5",
       "version_major": 2,
       "version_minor": 0
      },
      "text/plain": [
       "Validation: |          | 0/? [00:00<?, ?it/s]"
      ]
     },
     "metadata": {},
     "output_type": "display_data"
    },
    {
     "data": {
      "application/vnd.jupyter.widget-view+json": {
       "model_id": "8341682828974dda85d24a875ff94e92",
       "version_major": 2,
       "version_minor": 0
      },
      "text/plain": [
       "Validation: |          | 0/? [00:00<?, ?it/s]"
      ]
     },
     "metadata": {},
     "output_type": "display_data"
    },
    {
     "data": {
      "application/vnd.jupyter.widget-view+json": {
       "model_id": "cba853cff9c24f388e24b1e468504466",
       "version_major": 2,
       "version_minor": 0
      },
      "text/plain": [
       "Validation: |          | 0/? [00:00<?, ?it/s]"
      ]
     },
     "metadata": {},
     "output_type": "display_data"
    },
    {
     "data": {
      "application/vnd.jupyter.widget-view+json": {
       "model_id": "a061ae9c4d164946bdc3d8f65e410774",
       "version_major": 2,
       "version_minor": 0
      },
      "text/plain": [
       "Validation: |          | 0/? [00:00<?, ?it/s]"
      ]
     },
     "metadata": {},
     "output_type": "display_data"
    },
    {
     "data": {
      "application/vnd.jupyter.widget-view+json": {
       "model_id": "c13daf915a3948a3844f08038350018a",
       "version_major": 2,
       "version_minor": 0
      },
      "text/plain": [
       "Validation: |          | 0/? [00:00<?, ?it/s]"
      ]
     },
     "metadata": {},
     "output_type": "display_data"
    },
    {
     "data": {
      "application/vnd.jupyter.widget-view+json": {
       "model_id": "be9d51fa1555490fa1a1b8ecbc1a1829",
       "version_major": 2,
       "version_minor": 0
      },
      "text/plain": [
       "Validation: |          | 0/? [00:00<?, ?it/s]"
      ]
     },
     "metadata": {},
     "output_type": "display_data"
    },
    {
     "data": {
      "application/vnd.jupyter.widget-view+json": {
       "model_id": "ad8d624ce6ad4454af291e999920317a",
       "version_major": 2,
       "version_minor": 0
      },
      "text/plain": [
       "Validation: |          | 0/? [00:00<?, ?it/s]"
      ]
     },
     "metadata": {},
     "output_type": "display_data"
    },
    {
     "data": {
      "application/vnd.jupyter.widget-view+json": {
       "model_id": "a0b9fe0a479a43e38775b4b0ce241a06",
       "version_major": 2,
       "version_minor": 0
      },
      "text/plain": [
       "Validation: |          | 0/? [00:00<?, ?it/s]"
      ]
     },
     "metadata": {},
     "output_type": "display_data"
    },
    {
     "name": "stderr",
     "output_type": "stream",
     "text": [
      "\n",
      "Detected KeyboardInterrupt, attempting graceful shutdown ...\n"
     ]
    },
    {
     "ename": "SystemExit",
     "evalue": "1",
     "output_type": "error",
     "traceback": [
      "An exception has occurred, use %tb to see the full traceback.\n",
      "\u001b[31mSystemExit\u001b[39m\u001b[31m:\u001b[39m 1\n"
     ]
    },
    {
     "name": "stderr",
     "output_type": "stream",
     "text": [
      "d:\\dev\\.miniconda\\envs\\brepnet\\Lib\\site-packages\\IPython\\core\\interactiveshell.py:3707: UserWarning: To exit: use 'exit', 'quit', or Ctrl-D.\n",
      "  warn(\"To exit: use 'exit', 'quit', or Ctrl-D.\", stacklevel=1)\n"
     ]
    }
   ],
   "source": [
    "from src.modeling.vit_brep_ensemble import train\n",
    "\n",
    "train.main()"
   ]
  },
  {
   "cell_type": "code",
   "execution_count": null,
   "id": "38222bc6",
   "metadata": {},
   "outputs": [],
   "source": []
  }
 ],
 "metadata": {
  "kernelspec": {
   "display_name": "brepnet",
   "language": "python",
   "name": "python3"
  },
  "language_info": {
   "codemirror_mode": {
    "name": "ipython",
    "version": 3
   },
   "file_extension": ".py",
   "mimetype": "text/x-python",
   "name": "python",
   "nbconvert_exporter": "python",
   "pygments_lexer": "ipython3",
   "version": "3.11.13"
  }
 },
 "nbformat": 4,
 "nbformat_minor": 5
}
