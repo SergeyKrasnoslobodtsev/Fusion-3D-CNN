{
 "cells": [
  {
   "cell_type": "code",
   "execution_count": 1,
   "id": "bf543257",
   "metadata": {},
   "outputs": [
    {
     "name": "stderr",
     "output_type": "stream",
     "text": [
      "\u001b[32m2025-09-17 15:04:57.894\u001b[0m | \u001b[1mINFO    \u001b[0m | \u001b[36msrc.config\u001b[0m:\u001b[36m<module>\u001b[0m:\u001b[36m11\u001b[0m - \u001b[1mPROJ_ROOT path is: D:\\workspace\\projects\\freelance\\Fusion3DNet\u001b[0m\n"
     ]
    },
    {
     "name": "stdout",
     "output_type": "stream",
     "text": [
      "Project root added to path: d:\\workspace\\projects\\freelance\\Fusion3DNet\n"
     ]
    }
   ],
   "source": [
    "%load_ext autoreload\n",
    "%autoreload 2\n",
    "import notebook_setup\n",
    "from src.config import INTERIM_DATA_DIR, PROCESSED_DATA_DIR, REPORTS_DIR, EXTERNAL_DATA_DIR, MODELS_DIR\n",
    "import os\n",
    "os.environ[\"KMP_DUPLICATE_LIB_OK\"] = \"TRUE\"\n",
    "os.environ[\"OMP_NUM_THREADS\"] = \"4\"\n",
    "os.environ[\"MKL_NUM_THREADS\"] = \"4\""
   ]
  },
  {
   "cell_type": "code",
   "execution_count": 60,
   "id": "e68c6735",
   "metadata": {},
   "outputs": [],
   "source": [
    "BREPNET_NPZ_DIR = INTERIM_DATA_DIR / \"features\" / \"brepnet\"\n",
    "DINO_NPZ_DIR = INTERIM_DATA_DIR / \"features\" / \"dino\"\n",
    "STEP_DIR = PROCESSED_DATA_DIR / \"dataset_129\" / \"stp\"\n",
    "STATS_BREPNET = INTERIM_DATA_DIR / 'features' / \"brepnet_feature_standard.json\""
   ]
  },
  {
   "cell_type": "code",
   "execution_count": 3,
   "id": "fa6048b6",
   "metadata": {},
   "outputs": [
    {
     "name": "stdout",
     "output_type": "stream",
     "text": [
      "face_features (9, 7)\n",
      "face_point_grids (9, 7, 10, 10)\n",
      "edge_features (16, 10)\n",
      "coedge_point_grids (31, 12, 10)\n",
      "coedge_features (31, 1)\n",
      "coedge_lcs (31, 4, 4)\n",
      "coedge_scale_factors (31,)\n",
      "coedge_reverse_flags (31,)\n",
      "next (31,)\n",
      "mate (31,)\n",
      "face (31,)\n",
      "edge (31,)\n"
     ]
    }
   ],
   "source": [
    "import numpy as np\n",
    "from pathlib import Path\n",
    "files = list(Path(BREPNET_NPZ_DIR).glob(\"*.npz\"))\n",
    "\n",
    "feats = np.load(files[0], allow_pickle=True)\n",
    "\n",
    "for k, v in feats.items():\n",
    "    print(k, v.shape)\n"
   ]
  },
  {
   "cell_type": "code",
   "execution_count": 4,
   "id": "4d03d98e",
   "metadata": {},
   "outputs": [
    {
     "name": "stderr",
     "output_type": "stream",
     "text": [
      "Loading dataset: 100%|██████████| 129/129 [00:03<00:00, 33.96it/s]"
     ]
    },
    {
     "name": "stdout",
     "output_type": "stream",
     "text": [
      "Dataset length: 129\n"
     ]
    },
    {
     "name": "stderr",
     "output_type": "stream",
     "text": [
      "\n"
     ]
    }
   ],
   "source": [
    "from src.data_loader.custom_dataset_v2 import CustomDataset\n",
    "\n",
    "dataset = CustomDataset(\n",
    "    step_data=STEP_DIR,\n",
    "    brepnet_data=BREPNET_NPZ_DIR,\n",
    "    dino_data=DINO_NPZ_DIR,\n",
    "    compute_stats=True,\n",
    "    apply_standardization=True,\n",
    ")\n",
    "\n",
    "print(f\"Dataset length: {len(dataset)}\")\n"
   ]
  },
  {
   "cell_type": "code",
   "execution_count": 5,
   "id": "a40e3e78",
   "metadata": {},
   "outputs": [],
   "source": [
    "from typing import Tuple\n",
    "import torch\n",
    "from torch import nn\n",
    "\n",
    "class FaceEncoder(nn.Module):\n",
    "    \"\"\"\n",
    "    Кодирует UV‑сигнал грани: [B, 7, U, V] -> [B, D]\n",
    "    \"\"\"\n",
    "    def __init__(self, in_ch: int = 7, out_dim: int = 128) -> None:\n",
    "        super().__init__()\n",
    "        self.net = nn.Sequential(\n",
    "            nn.Conv2d(in_ch, 32, 3, padding=1),\n",
    "            nn.ReLU(inplace=True),\n",
    "            nn.Conv2d(32, 64, 3, padding=1),\n",
    "            nn.ReLU(inplace=True),\n",
    "            nn.AdaptiveAvgPool2d(1),\n",
    "            nn.Flatten(),\n",
    "            nn.Linear(64, out_dim),\n",
    "        )\n",
    "\n",
    "    def forward(self, x: torch.Tensor) -> torch.Tensor:\n",
    "        return self.net(x)  # [B, out_dim]\n",
    "\n",
    "class CoedgeEncoder(nn.Module):\n",
    "    \"\"\"\n",
    "    Кодирует 1D‑сигнал коэджа: [B, 12, U] -> [B, D]\n",
    "    \"\"\"\n",
    "    def __init__(self, in_ch: int = 12, out_dim: int = 128) -> None:\n",
    "        super().__init__()\n",
    "        self.net = nn.Sequential(\n",
    "            nn.Conv1d(in_ch, 64, 5, padding=2),\n",
    "            nn.ReLU(inplace=True),\n",
    "            nn.Conv1d(64, 64, 5, padding=2),\n",
    "            nn.ReLU(inplace=True),\n",
    "            nn.AdaptiveAvgPool1d(1),\n",
    "            nn.Flatten(),\n",
    "            nn.Linear(64, out_dim),\n",
    "        )\n",
    "\n",
    "    def forward(self, x: torch.Tensor) -> torch.Tensor:\n",
    "        return self.net(x)  # [B, out_dim]"
   ]
  },
  {
   "cell_type": "code",
   "execution_count": 6,
   "id": "3b38bc4f",
   "metadata": {},
   "outputs": [],
   "source": [
    "from __future__ import annotations\n",
    "from typing import Optional\n",
    "import torch\n",
    "from torch import Tensor\n",
    "from torch_geometric.data import HeteroData\n",
    "\n",
    "\n",
    "class CoedgeLCSNormalize:\n",
    "    \"\"\"\n",
    "    Нормализация coedge.grid в локальной системе коэджа с учётом масштаба и reverse-флага.\n",
    "    Ожидаемые поля:\n",
    "      - data['coedge'].grid:  [C, 12, U]  (xyz | t | nL | nR)\n",
    "      - data['coedge'].lcs:   [C,  4, 4]  (гомогенная матрица)\n",
    "      - data['coedge'].scale: [C]\n",
    "      - data['coedge'].reverse: [C] bool\n",
    "    Возвращает обновлённый data с grid в LCS.\n",
    "    \"\"\"\n",
    "    def __init__(self, apply_reverse: bool = True, renorm_vectors: bool = False) -> None:\n",
    "        self.apply_reverse = apply_reverse\n",
    "        self.renorm_vectors = renorm_vectors\n",
    "\n",
    "    @torch.no_grad()\n",
    "    def __call__(self, data: HeteroData) -> HeteroData:\n",
    "        grid: Tensor = data[\"coedge\"].grid           # [C,12,U]\n",
    "        lcs: Tensor = data[\"coedge\"].lcs            # [C,4,4]\n",
    "        scale: Tensor = data[\"coedge\"].scale        # [C]\n",
    "        rev: Tensor = data[\"coedge\"].reverse        # [C] bool\n",
    "\n",
    "        assert grid.dim() == 3 and grid.size(1) == 12, f\"grid shape {tuple(grid.shape)}\"  # [C,12,U]\n",
    "        C, _, U = grid.shape\n",
    "        assert lcs.shape == (C, 4, 4), f\"lcs shape {tuple(lcs.shape)}\"\n",
    "        assert scale.shape == (C,), f\"scale shape {tuple(scale.shape)}\"\n",
    "        assert rev.shape == (C,), f\"reverse shape {tuple(rev.shape)}\"\n",
    "\n",
    "        # Разбор каналов: работаем в [C,3,U]\n",
    "        xyz = grid[:, 0:3, :]    # [C,3,U]\n",
    "        tng = grid[:, 3:6, :]    # [C,3,U]\n",
    "        nL  = grid[:, 6:9, :]    # [C,3,U]\n",
    "        nR  = grid[:, 9:12, :]   # [C,3,U]\n",
    "\n",
    "        # Из LCS берём R и t, и сразу строим R^{-1}, t^{-1}\n",
    "        R = lcs[:, :3, :3]                     # [C,3,3]\n",
    "        t = lcs[:, :3,  3]                     # [C,3]\n",
    "        R_inv = R.transpose(1, 2).contiguous() # [C,3,3]\n",
    "        t_inv = -(R_inv @ t.unsqueeze(-1)).squeeze(-1)  # [C,3]\n",
    "\n",
    "        # Перенос в начало LCS: xyz' = R^{-1} (xyz - t)\n",
    "        xyz_local = xyz - t.unsqueeze(-1)                      # [C,3,U]\n",
    "        xyz_local = torch.einsum('cij,cju->ciu', R_inv, xyz_local)  # [C,3,U]\n",
    "\n",
    "        # Поворот направлений (нормали/касательные не масштабируем по длине)\n",
    "        tng_local = torch.einsum('cij,cju->ciu', R_inv, tng)   # [C,3,U]\n",
    "        nL_local  = torch.einsum('cij,cju->ciu', R_inv, nL)    # [C,3,U]\n",
    "        nR_local  = torch.einsum('cij,cju->ciu', R_inv, nR)    # [C,3,U]\n",
    "\n",
    "        # Масштаб (делим координаты, векторы оставляем единичными)\n",
    "        s = scale.view(C, 1, 1).clamp_min(1e-8)                # [C,1,1]\n",
    "        xyz_local = xyz_local / s\n",
    "\n",
    "        # Опциональная нормализация направлений\n",
    "        if self.renorm_vectors:\n",
    "            def _renorm(v: Tensor) -> Tensor:\n",
    "                n = torch.linalg.norm(v, dim=1, keepdim=True).clamp_min(1e-8)\n",
    "                return v / n\n",
    "            tng_local = _renorm(tng_local)\n",
    "            nL_local  = _renorm(nL_local)\n",
    "            nR_local  = _renorm(nR_local)\n",
    "\n",
    "        # Обработка реверса: разворот вдоль U, смена знака касательной, перестановка nL/nR\n",
    "        if self.apply_reverse and rev.any():\n",
    "            idx = torch.nonzero(rev, as_tuple=False).flatten()\n",
    "            xyz_local[idx] = torch.flip(xyz_local[idx], dims=[-1])\n",
    "            tng_local[idx] = -torch.flip(tng_local[idx], dims=[-1])\n",
    "            nL_flip = torch.flip(nR_local[idx], dims=[-1])\n",
    "            nR_flip = torch.flip(nL_local[idx], dims=[-1])\n",
    "            nL_local[idx], nR_local[idx] = nL_flip, nR_flip\n",
    "\n",
    "        data[\"coedge\"].grid = torch.cat([xyz_local, tng_local, nL_local, nR_local], dim=1).contiguous()  # [C,12,U]\n",
    "        return data"
   ]
  },
  {
   "cell_type": "code",
   "execution_count": 7,
   "id": "2412cb17",
   "metadata": {},
   "outputs": [],
   "source": [
    "import torch\n",
    "from torch import nn\n",
    "from torch_geometric.nn import HeteroConv, SAGEConv\n",
    "\n",
    "class BRepHeteroGNN(nn.Module):\n",
    "    \"\"\"\n",
    "    Гетерограф: узлы 'face'/'edge'/'coedge'; ребра:\n",
    "      ('coedge','next','coedge'), ('coedge','mate','coedge'),\n",
    "      ('coedge','to_face','face'), ('coedge','to_edge','edge').\n",
    "    \"\"\"\n",
    "    def __init__(self, hidden: int = 128, out_dim: int = 256) -> None:\n",
    "        super().__init__()\n",
    "        self.conv1 = HeteroConv({\n",
    "            ('coedge', 'next', 'coedge'): SAGEConv((-1, -1), hidden),\n",
    "            ('coedge', 'mate', 'coedge'): SAGEConv((-1, -1), hidden),\n",
    "            ('coedge', 'to_face', 'face'): SAGEConv((-1, -1), hidden),\n",
    "            ('coedge', 'to_edge', 'edge'): SAGEConv((-1, -1), hidden),\n",
    "        }, aggr='sum')\n",
    "        self.conv2 = HeteroConv({\n",
    "            ('coedge', 'next', 'coedge'): SAGEConv((-1, -1), hidden),\n",
    "            ('coedge', 'mate', 'coedge'): SAGEConv((-1, -1), hidden),\n",
    "            ('coedge', 'to_face', 'face'): SAGEConv((-1, -1), hidden),\n",
    "            ('coedge', 'to_edge', 'edge'): SAGEConv((-1, -1), hidden),\n",
    "        }, aggr='sum')\n",
    "        self.readout = nn.ModuleDict({\n",
    "            'coedge': nn.Linear(hidden, out_dim),\n",
    "            'face': nn.Linear(hidden, out_dim),\n",
    "            'edge': nn.Linear(hidden, out_dim),\n",
    "        })\n",
    "\n",
    "    def forward(self, x_dict, edge_index_dict):\n",
    "        x_dict = self.conv1(x_dict, edge_index_dict)\n",
    "        x_dict = {k: torch.relu(v) for k, v in x_dict.items()}\n",
    "        x_dict = self.conv2(x_dict, edge_index_dict)\n",
    "        x_dict = {k: torch.relu(v) for k, v in x_dict.items()}\n",
    "        z_dict = {k: self.readout[k](v) for k, v in x_dict.items()}\n",
    "        return z_dict  # per-type embeddings"
   ]
  },
  {
   "cell_type": "code",
   "execution_count": 8,
   "id": "8fa7f511",
   "metadata": {},
   "outputs": [],
   "source": [
    "from __future__ import annotations\n",
    "from typing import Tuple\n",
    "import torch\n",
    "from torch import Tensor\n",
    "from torch_geometric.data import HeteroData\n",
    "\n",
    "\n",
    "def dropout_attrs(data: HeteroData, p: float = 0.1) -> HeteroData:\n",
    "    \"\"\"\n",
    "    Простейшая атрибутивная аугментация: зануляем случайные элементы в grid/uv.\n",
    "    Безопасно для топологии (edge_index не трогаем).\n",
    "    \"\"\"\n",
    "    out = data.clone()\n",
    "    if \"uv\" in out[\"face\"]:\n",
    "        uv = out[\"face\"].uv\n",
    "        mask = torch.rand_like(uv) < p\n",
    "        out[\"face\"].uv = uv.masked_fill(mask, 0.0)\n",
    "    grid = out[\"coedge\"].grid\n",
    "    mask = torch.rand_like(grid) < p\n",
    "    out[\"coedge\"].grid = grid.masked_fill(mask, 0.0)\n",
    "    return out\n",
    "\n",
    "\n",
    "def two_views(data: HeteroData, p: float = 0.1) -> Tuple[HeteroData, HeteroData]:\n",
    "    return dropout_attrs(data, p), dropout_attrs(data, p)"
   ]
  },
  {
   "cell_type": "code",
   "execution_count": null,
   "id": "fcccaf17",
   "metadata": {},
   "outputs": [],
   "source": [
    "# losses/topo_pointer.py\n",
    "from __future__ import annotations\n",
    "from typing import Tuple\n",
    "import torch\n",
    "from torch import Tensor, nn\n",
    "import torch.nn.functional as F\n",
    "\n",
    "\n",
    "class BilinearScorer(nn.Module):\n",
    "    \"\"\"\n",
    "    Билинейный скорер s(i,j)=zi^T W zj для коэджей, учит различать целевые next/mate среди узлов того же графа.\n",
    "    \"\"\"\n",
    "    def __init__(self, dim: int) -> None:\n",
    "        super().__init__()\n",
    "        self.W = nn.Parameter(torch.eye(dim))\n",
    "\n",
    "    def forward(self, z_i: Tensor, z_j: Tensor) -> Tensor:\n",
    "        # z_i: [N, D], z_j: [M, D] -> scores: [N, M]\n",
    "        return z_i @ self.W @ z_j.t()\n",
    "\n",
    "\n",
    "@torch.no_grad()\n",
    "def build_target_from_edge_index(edge_index: Tensor, num_nodes: int) -> Tensor:\n",
    "    \"\"\"\n",
    "    Превращает edge_index [2, C] (дуга из i в j для каждого i) в target: target[i]=j для всех источников i.\n",
    "    Предполагается по одному выходу из каждого i (как у next/mate). \n",
    "    \"\"\"\n",
    "    src, dst = edge_index[0], edge_index[1]\n",
    "    target = torch.full((num_nodes,), -1, dtype=torch.long, device=edge_index.device)\n",
    "    target[src] = dst\n",
    "    return target\n",
    "\n",
    "def graph_pointer_ce(\n",
    "    z: Tensor,\n",
    "    batch_vec: Tensor,\n",
    "    target_global: Tensor,\n",
    "    scorer: BilinearScorer,\n",
    "    temperature: float = 0.2,\n",
    ") -> Tuple[Tensor, Tensor]:\n",
    "    \"\"\"\n",
    "    Cross-entropy по указателю внутри каждого графа: для узла i выбираем класс как ближайший узел в своём графе.\n",
    "    Возвращает (loss, acc_top1).\n",
    "    \"\"\"\n",
    "    z = nn.functional.normalize(z, dim=-1)\n",
    "    loss_sum: Tensor = z.new_zeros(())\n",
    "    correct = 0\n",
    "    total = 0\n",
    "    for g in batch_vec.unique():\n",
    "        idx = (batch_vec == g).nonzero(as_tuple=False).flatten()       # узлы текущего графа\n",
    "        if idx.numel() < 2:\n",
    "            continue\n",
    "        zg = z.index_select(0, idx)                                    # [Ng, D]\n",
    "        tg = target_global.index_select(0, idx)                         # [Ng]\n",
    "        # игнорируем узлы без целевого (на полюсах сфер и т.п.)\n",
    "        mask = tg.ge(0)\n",
    "        if mask.sum() == 0:\n",
    "            continue\n",
    "        zg_q = zg[mask]                                                 # источники\n",
    "        # логиты по всем j внутри графа\n",
    "        logits = scorer(zg_q, zg) / temperature                         # [Nq, Ng]\n",
    "        # таргеты в локальных индексах графа\n",
    "        tgt_idx = tg[mask]\n",
    "        # сопоставим глобальные индексы целевых с локальными\n",
    "        map_local = {int(idx[k]): k for k in range(idx.numel())}\n",
    "        tgt_local = torch.tensor([map_local[int(j)] for j in tgt_idx.tolist()],\n",
    "                                 device=z.device, dtype=torch.long)\n",
    "        loss_sum = loss_sum + nn.functional.cross_entropy(logits, tgt_local)\n",
    "\n",
    "        pred = logits.argmax(dim=1)\n",
    "        correct += (pred == tgt_local).sum().item()\n",
    "        total += tgt_local.numel()\n",
    "    avg_loss = loss_sum / max(total, 1)\n",
    "    acc = z.new_tensor(correct / max(total, 1))\n",
    "    return avg_loss, acc"
   ]
  },
  {
   "cell_type": "code",
   "execution_count": 10,
   "id": "5bde7186",
   "metadata": {},
   "outputs": [],
   "source": [
    "from __future__ import annotations\n",
    "from typing import Dict, Tuple\n",
    "import torch\n",
    "from torch import Tensor\n",
    "\n",
    "\n",
    "@torch.no_grad()\n",
    "def alignment(z1: Tensor, z2: Tensor) -> Tensor:\n",
    "    \"\"\"\n",
    "    Средняя квадратичная дистанция между эмбеддингами позитивных пар (чем меньше, тем лучше).\n",
    "    Ожидает z1,z2 нормализованными по L2. [ICML'20 alignment] \n",
    "    \"\"\"\n",
    "    z1n = torch.nn.functional.normalize(z1, dim=-1)\n",
    "    z2n = torch.nn.functional.normalize(z2, dim=-1)\n",
    "    return ((z1n - z2n) ** 2).sum(dim=-1).mean()\n",
    "\n",
    "\n",
    "@torch.no_grad()\n",
    "def uniformity(z: Tensor, t: float = 2.0, max_points: int = 2048) -> Tensor:\n",
    "    \"\"\"\n",
    "    Оценка равномерности на сфере: E[exp(-t * ||zi - zj||^2)], меньше — равномернее.\n",
    "    Используем случайную подвыборку для квадратичной части. [ICML'20 uniformity]\n",
    "    \"\"\"\n",
    "    z = torch.nn.functional.normalize(z, dim=-1)\n",
    "    n = z.size(0)\n",
    "    if n > max_points:\n",
    "        idx = torch.randperm(n, device=z.device)[:max_points]\n",
    "        z = z[idx]\n",
    "        n = z.size(0)\n",
    "    # попарные расстояния без диагонали\n",
    "    sim = z @ z.t()\n",
    "    d2 = (2 - 2 * sim).clamp_min(0)  # ||zi - zj||^2 = 2 - 2 cos\n",
    "    d2 = d2 + torch.eye(n, device=z.device) * 1e6\n",
    "    val = torch.exp(-t * d2)\n",
    "    return (val.sum() - n * torch.exp(torch.tensor(-t * 1e6, device=z.device))) / (n * (n - 1))\n",
    "\n",
    "\n",
    "@torch.no_grad()\n",
    "def info_nce_top1_accuracy(z1: Tensor, z2: Tensor, tau: float = 0.2) -> Tensor:\n",
    "    \"\"\"\n",
    "    Accuracy: для каждого i, позитивный j=i должен быть argmax среди всех z2. [SimCLR kNN/linear eval практика]\n",
    "    \"\"\"\n",
    "    q = torch.nn.functional.normalize(z1, dim=-1)\n",
    "    k = torch.nn.functional.normalize(z2, dim=-1)\n",
    "    logits = (q @ k.t()) / tau\n",
    "    pred = logits.argmax(dim=1)\n",
    "    labels = torch.arange(q.size(0), device=q.device)\n",
    "    return (pred == labels).float().mean()\n",
    "\n",
    "\n",
    "@torch.no_grad()\n",
    "def build_target_from_edge_index(edge_index: Tensor, num_nodes: int) -> Tensor:\n",
    "    \"\"\"\n",
    "    Превращает edge_index вида [2, C] (уникальная дуга на коэдж) в вектор таргетов длины C:\n",
    "    target[i] = j, куда ведёт ребро из i. [используем для mate/next]\n",
    "    \"\"\"\n",
    "    assert edge_index.dim() == 2 and edge_index.size(0) == 2\n",
    "    src, dst = edge_index[0], edge_index[1]\n",
    "    target = torch.full((num_nodes,), -1, dtype=torch.long, device=edge_index.device)\n",
    "    target[src] = dst\n",
    "    return target\n",
    "\n",
    "\n",
    "@torch.no_grad()\n",
    "def top1_retrieval_accuracy_within_graphs(\n",
    "    z: Tensor,\n",
    "    edge_index: Tensor,\n",
    "    batch_vec: Tensor,\n",
    ") -> Tensor:\n",
    "    \"\"\"\n",
    "    Для каждого узла находим ближайшего соседа по косинусу в пределах своего графа (исключая себя)\n",
    "    и сравниваем с таргетом из edge_index (mate или next). Возвращаем среднюю точность. \n",
    "    \"\"\"\n",
    "    z = torch.nn.functional.normalize(z, dim=-1)\n",
    "    num_nodes = z.size(0)\n",
    "    target = build_target_from_edge_index(edge_index, num_nodes)\n",
    "    assert target.ge(0).all(), \"edge_index должен покрывать все источники\"\n",
    "    acc_sum, cnt = 0.0, 0\n",
    "    for g in batch_vec.unique():\n",
    "        mask = batch_vec == g\n",
    "        idx = mask.nonzero(as_tuple=False).flatten()\n",
    "        if idx.numel() < 2:\n",
    "            continue\n",
    "        zg = z.index_select(0, idx)\n",
    "        sim = zg @ zg.t()\n",
    "        sim.fill_diagonal_(-1.0)  # исключаем себя\n",
    "        nn_local = sim.argmax(dim=1)                      # локальные индексы\n",
    "        nn_global = idx[nn_local]                         # обратно в глобальные\n",
    "        tgt_global = target.index_select(0, idx)          # таргеты для этой группы\n",
    "        acc_sum += (nn_global == tgt_global).float().sum().item()\n",
    "        cnt += idx.numel()\n",
    "    return torch.tensor(acc_sum / max(cnt, 1), device=z.device)"
   ]
  },
  {
   "cell_type": "code",
   "execution_count": 11,
   "id": "ef127205",
   "metadata": {},
   "outputs": [],
   "source": [
    "from __future__ import annotations\n",
    "import torch\n",
    "from torch_geometric.data import HeteroData\n",
    "\n",
    "def num_graphs_in_batch(batch: HeteroData) -> int:\n",
    "    \"\"\"\n",
    "    Возвращает число графов в HeteroDataBatch через ptr любого типа узла.\n",
    "    По умолчанию используем 'coedge', иначе пробуем другие типы.\n",
    "    \"\"\"\n",
    "    for node_type in [\"coedge\", \"face\", \"edge\"]:\n",
    "        if node_type in batch and hasattr(batch[node_type], \"ptr\") and batch[node_type].ptr is not None:\n",
    "            return int(batch[node_type].ptr.numel() - 1)\n",
    "    return 1"
   ]
  },
  {
   "cell_type": "code",
   "execution_count": 112,
   "id": "6890a8ef",
   "metadata": {},
   "outputs": [],
   "source": [
    "# ssl/improved_augment.py\n",
    "from __future__ import annotations\n",
    "import torch\n",
    "from torch import Tensor\n",
    "from torch_geometric.data import HeteroData\n",
    "import numpy as np\n",
    "from typing import Tuple\n",
    "\n",
    "\n",
    "def mask_faces_randomly(data: HeteroData, p: float = 0.15) -> HeteroData:\n",
    "    \"\"\"\n",
    "    Маскирует случайные грани целиком - более структурная аугментация\n",
    "    \"\"\"\n",
    "    data = data.clone()\n",
    "    num_faces = data[\"face\"].x.size(0) if \"x\" in data[\"face\"] else data[\"face\"].uv.size(0)\n",
    "    \n",
    "    # Выбираем какие грани маскировать\n",
    "    mask_faces = torch.rand(num_faces) < p\n",
    "    \n",
    "    if mask_faces.any():\n",
    "        # Маскируем UV решётки граней\n",
    "        if \"uv\" in data[\"face\"]:\n",
    "            data[\"face\"].uv[mask_faces] = 0.0\n",
    "        if \"x\" in data[\"face\"]:\n",
    "            data[\"face\"].x[mask_faces] = 0.0\n",
    "            \n",
    "        # Маскируем связанные с этими гранями коэджи\n",
    "        if (\"coedge\", \"to_face\", \"face\") in data.edge_index_dict:\n",
    "            c2f_edges = data[(\"coedge\", \"to_face\", \"face\")].edge_index\n",
    "            coedges_to_mask = c2f_edges[0][mask_faces[c2f_edges[1]]]\n",
    "            if coedges_to_mask.numel() > 0:\n",
    "                data[\"coedge\"].grid[coedges_to_mask] *= 0.5  # частично маскируем\n",
    "    \n",
    "    return data\n",
    "\n",
    "\n",
    "def dropout_topology(data: HeteroData, p: float = 0.1) -> HeteroData:\n",
    "    \"\"\"\n",
    "    Дропаут связей next/mate - учит устойчивость к топологическим изменениям\n",
    "    \"\"\"\n",
    "    data = data.clone()\n",
    "    \n",
    "    # Дропаут next связей\n",
    "    if (\"coedge\", \"next\", \"coedge\") in data.edge_index_dict:\n",
    "        next_edges = data[(\"coedge\", \"next\", \"coedge\")].edge_index\n",
    "        keep_mask = torch.rand(next_edges.size(1)) > p\n",
    "        data[(\"coedge\", \"next\", \"coedge\")].edge_index = next_edges[:, keep_mask]\n",
    "    \n",
    "    # Дропаут mate связей  \n",
    "    if (\"coedge\", \"mate\", \"coedge\") in data.edge_index_dict:\n",
    "        mate_edges = data[(\"coedge\", \"mate\", \"coedge\")].edge_index\n",
    "        keep_mask = torch.rand(mate_edges.size(1)) > p\n",
    "        data[(\"coedge\", \"mate\", \"coedge\")].edge_index = mate_edges[:, keep_mask]\n",
    "    \n",
    "    return data\n",
    "\n",
    "\n",
    "def spatial_masking(data: HeteroData, p: float = 0.2) -> HeteroData:\n",
    "    \"\"\"\n",
    "    Пространственное маскирование - скрываем случайные области модели\n",
    "    \"\"\"\n",
    "    data = data.clone()\n",
    "    \n",
    "    if \"grid\" in data[\"coedge\"]:\n",
    "        # Маскируем участки по пространственным координатам\n",
    "        grid = data[\"coedge\"].grid  # [C, 12, U]\n",
    "        xyz = grid[:, 0:3, :]       # координаты\n",
    "        \n",
    "        # Находим центр и радиус для сферической маски\n",
    "        center = xyz.mean(dim=[0, 2], keepdim=True)  # [1, 3, 1]\n",
    "        distances = torch.norm(xyz - center, dim=1)   # [C, U]\n",
    "        \n",
    "        # Маскируем случайный радиальный слой\n",
    "        radius_threshold = torch.quantile(distances.flatten(), torch.rand(1) * 0.5 + 0.25)\n",
    "        spatial_mask = distances < radius_threshold # [C, U]\n",
    "        \n",
    "        # Применяем маску с вероятностью p\n",
    "        if torch.rand(1) < p:\n",
    "            # --- ИСПРАВЛЕНИЕ ---\n",
    "            # Расширяем 2D маску [C, U] до 3D [C, 1, U]\n",
    "            expanded_mask = spatial_mask.unsqueeze(1) # -> [C, 1, U]\n",
    "            # Явно транслируем маску до полного размера тензора grid [C, 12, U]\n",
    "            full_mask = expanded_mask.expand_as(data[\"coedge\"].grid)\n",
    "            \n",
    "            # Теперь формы полностью совпадают, и индексация работает\n",
    "            data[\"coedge\"].grid[full_mask] *= 0.3\n",
    "    \n",
    "    return data\n",
    "\n",
    "\n",
    "def advanced_attribute_masking(data: HeteroData, p_uv: float = 0.15, p_grid: float = 0.15) -> HeteroData:\n",
    "    \"\"\"\n",
    "    Более умное маскирование атрибутов по каналам\n",
    "    \"\"\"\n",
    "    data = data.clone()\n",
    "    \n",
    "    # Маскирование UV по патчам\n",
    "    if \"uv\" in data[\"face\"]:\n",
    "        uv = data[\"face\"].uv  # [F, 7, 10, 10]\n",
    "        F, C, H, W = uv.shape\n",
    "        \n",
    "        # Патчевое маскирование вместо случайного\n",
    "        patch_size = 3\n",
    "        for f in range(F):\n",
    "            if torch.rand(1) < p_uv:\n",
    "                # Случайный патч\n",
    "                h_start = torch.randint(0, H - patch_size + 1, (1,)).item()\n",
    "                w_start = torch.randint(0, W - patch_size + 1, (1,)).item()\n",
    "                uv[f, :, h_start:h_start+patch_size, w_start:w_start+patch_size] = 0.0\n",
    "    \n",
    "    # Селективное маскирование каналов коэджей\n",
    "    if \"grid\" in data[\"coedge\"]:\n",
    "        grid = data[\"coedge\"].grid  # [C, 12, U]\n",
    "        \n",
    "        # Маскируем разные каналы с разной вероятностью\n",
    "        if torch.rand(1) < p_grid:\n",
    "            # Касательные (каналы 3-6)\n",
    "            tangent_mask = torch.rand_like(grid[:, 3:6, :]) < 0.3\n",
    "            grid[:, 3:6, :] = grid[:, 3:6, :] * (~tangent_mask).float()\n",
    "        \n",
    "        if torch.rand(1) < p_grid * 0.5:\n",
    "            # Нормали (каналы 6-12) - маскируем реже, они важнее\n",
    "            normal_mask = torch.rand_like(grid[:, 6:12, :]) < 0.2  \n",
    "            grid[:, 6:12, :] = grid[:, 6:12, :] * (~normal_mask).float()\n",
    "    \n",
    "    return data\n",
    "\n",
    "\n",
    "def improved_two_views(data: HeteroData, \n",
    "                      p_face_mask: float = 0.15,\n",
    "                      p_topo_drop: float = 0.08, \n",
    "                      p_spatial: float = 0.2,\n",
    "                      p_attr: float = 0.12) -> Tuple[HeteroData, HeteroData]:\n",
    "    \"\"\"\n",
    "    Комбинированная стратегия аугментаций для двух view\n",
    "    \"\"\"\n",
    "    # Первый view - больше структурных изменений\n",
    "    v1 = mask_faces_randomly(data, p=p_face_mask)\n",
    "    v1 = dropout_topology(v1, p=p_topo_drop)\n",
    "    v1 = advanced_attribute_masking(v1, p_uv=p_attr, p_grid=p_attr)\n",
    "    \n",
    "    # Второй view - больше пространственных и атрибутивных\n",
    "    v2 = spatial_masking(data, p=p_spatial)\n",
    "    v2 = advanced_attribute_masking(v2, p_uv=p_attr * 1.2, p_grid=p_attr * 1.2)\n",
    "    if torch.rand(1) < 0.5:  # иногда добавляем топологический дропаут\n",
    "        v2 = dropout_topology(v2, p=p_topo_drop * 0.5)\n",
    "    \n",
    "    return v1, v2"
   ]
  },
  {
   "cell_type": "code",
   "execution_count": 106,
   "id": "6ca72dd0",
   "metadata": {},
   "outputs": [],
   "source": [
    "# models/mae_decoder.py\n",
    "from __future__ import annotations\n",
    "import torch\n",
    "from torch import nn, Tensor\n",
    "from torch_geometric.data import HeteroData\n",
    "from typing import Dict, Tuple\n",
    "\n",
    "\n",
    "class BRepMAEDecoder(nn.Module):\n",
    "    \"\"\"\n",
    "    Декодер для восстановления замаскированных частей B-Rep\n",
    "    \"\"\"\n",
    "    def __init__(self, hidden_dim: int = 128, face_channels: int = 7, coedge_channels: int = 12):\n",
    "        super().__init__()\n",
    "        \n",
    "        # Декодеры для разных типов узлов\n",
    "        self.face_decoder = nn.Sequential(\n",
    "            nn.Linear(hidden_dim, hidden_dim * 2),\n",
    "            nn.ReLU(),\n",
    "            nn.Linear(hidden_dim * 2, face_channels * 10 * 10),  # UV решётка\n",
    "        )\n",
    "        \n",
    "        self.coedge_decoder = nn.Sequential(\n",
    "            nn.Linear(hidden_dim, hidden_dim * 2), \n",
    "            nn.ReLU(),\n",
    "            nn.Linear(hidden_dim * 2, coedge_channels * 10),  # grid решётка\n",
    "        )\n",
    "        \n",
    "        self.face_channels = face_channels\n",
    "        self.coedge_channels = coedge_channels\n",
    "    \n",
    "    def forward(self, z_dict: Dict[str, Tensor], target_shapes: Dict[str, torch.Size]) -> Dict[str, Tensor]:\n",
    "        reconstructed = {}\n",
    "        \n",
    "        # Восстанавливаем UV грани\n",
    "        if \"face\" in z_dict:\n",
    "            face_flat = self.face_decoder(z_dict[\"face\"])  # [F, 7*10*10]\n",
    "            F = face_flat.size(0)\n",
    "            reconstructed[\"face_uv\"] = face_flat.view(F, self.face_channels, 10, 10)\n",
    "        \n",
    "        # Восстанавливаем коэдж решётки  \n",
    "        if \"coedge\" in z_dict:\n",
    "            coedge_flat = self.coedge_decoder(z_dict[\"coedge\"])  # [C, 12*10]\n",
    "            C = coedge_flat.size(0)\n",
    "            reconstructed[\"coedge_grid\"] = coedge_flat.view(C, self.coedge_channels, 10)\n",
    "            \n",
    "        return reconstructed\n",
    "\n",
    "\n",
    "def compute_reconstruction_loss(pred: Dict[str, Tensor], \n",
    "                               target: Dict[str, Tensor],\n",
    "                               mask: Dict[str, Tensor]) -> Tensor:\n",
    "    \"\"\"\n",
    "    Считает reconstruction loss только для замаскированных областей\n",
    "    \"\"\"\n",
    "    total_loss = 0.0\n",
    "    count = 0\n",
    "    \n",
    "    # Loss для UV граней\n",
    "    if \"face_uv\" in pred and \"face_uv\" in target and \"face_mask\" in mask:\n",
    "        face_mask_tensor = mask[\"face_mask\"]\n",
    "        # Проверяем, есть ли что-то в маске\n",
    "        if face_mask_tensor.any():\n",
    "            face_loss = nn.functional.mse_loss(\n",
    "                torch.masked_select(pred[\"face_uv\"], face_mask_tensor), \n",
    "                torch.masked_select(target[\"face_uv\"], face_mask_tensor)\n",
    "            )\n",
    "            total_loss += face_loss\n",
    "            count += 1\n",
    "    \n",
    "    # Loss для коэдж решёток\n",
    "    if \"coedge_grid\" in pred and \"coedge_grid\" in target and \"coedge_mask\" in mask:\n",
    "        coedge_mask_tensor = mask[\"coedge_mask\"]\n",
    "        # Проверяем, есть ли что-то в маске\n",
    "        if coedge_mask_tensor.any():\n",
    "            pred_masked = torch.masked_select(pred[\"coedge_grid\"], coedge_mask_tensor)\n",
    "            target_masked = torch.masked_select(target[\"coedge_grid\"], coedge_mask_tensor)\n",
    "\n",
    "            coedge_loss = nn.functional.mse_loss(\n",
    "                pred_masked,\n",
    "                target_masked\n",
    "            )\n",
    "            total_loss += coedge_loss  \n",
    "            count += 1\n",
    "    \n",
    "    return total_loss / max(count, 1) # type: ignore"
   ]
  },
  {
   "cell_type": "code",
   "execution_count": 108,
   "id": "97335a21",
   "metadata": {},
   "outputs": [],
   "source": [
    "from __future__ import annotations\n",
    "from typing import Dict, Tuple\n",
    "import torch\n",
    "from torch import nn, Tensor\n",
    "import pytorch_lightning as pl\n",
    "from torch_geometric.data import HeteroData\n",
    "\n",
    "class SSLBRepModule(pl.LightningModule):\n",
    "    \"\"\"\n",
    "    SSL‑модуль без «магических» чисел: tau/aug_p/lambda_topo берутся из атрибутов.\n",
    "    \"\"\"\n",
    "    def __init__(\n",
    "        self,\n",
    "        proj_dim: int = 128,\n",
    "        lr: float = 1e-3,\n",
    "        hidden: int = 128,\n",
    "        tau: float = 0.1,\n",
    "        lambda_topo_mate: float = 1.5,\n",
    "        lambda_topo_next: float = 1.5,\n",
    "        aug_p: float = 0.15,\n",
    "        topo_tau: float | None = 0.07, \n",
    "        weight_decay: float = 1e-4,\n",
    "\n",
    "        use_mae_decoder: bool = True,\n",
    "        lambda_recon: float = 0.5,\n",
    "    ) -> None:\n",
    "        super().__init__()\n",
    "        # модели\n",
    "        self.face_enc = FaceEncoder(in_ch=7, out_dim=hidden)\n",
    "        self.coedge_enc = CoedgeEncoder(in_ch=12, out_dim=hidden)\n",
    "        self.edge_lin = nn.Linear(10, hidden)\n",
    "        self.gnn = BRepHeteroGNN(hidden=hidden, out_dim=2 * hidden)\n",
    "        self.projector = nn.Sequential(\n",
    "            nn.Linear(2 * hidden, 2 * hidden),\n",
    "            nn.ReLU(inplace=True),\n",
    "            nn.Linear(2 * hidden, proj_dim),\n",
    "        )\n",
    "        self.norm = CoedgeLCSNormalize(apply_reverse=True, renorm_vectors=False)\n",
    "        self.scorer_next = BilinearScorer(dim=2 * hidden)\n",
    "        self.scorer_mate = BilinearScorer(dim=2 * hidden)\n",
    "\n",
    "        # гиперпараметры\n",
    "        self.lr = lr\n",
    "        self.weight_decay = weight_decay\n",
    "        self.tau = float(tau)\n",
    "        self.topo_tau = float(topo_tau) if topo_tau is not None else float(tau)\n",
    "        self.lambda_topo_mate = lambda_topo_mate\n",
    "        self.lambda_topo_next = lambda_topo_next\n",
    "        self.aug_p = float(aug_p)\n",
    "\n",
    "        self.use_mae_decoder = use_mae_decoder\n",
    "        self.lambda_recon = lambda_recon\n",
    "        \n",
    "        if use_mae_decoder:\n",
    "            self.mae_decoder = BRepMAEDecoder(hidden_dim=2*hidden)\n",
    "\n",
    "\n",
    "        self.save_hyperparameters() \n",
    "\n",
    "    # ===== общие подфункции =====\n",
    "    def _embed(self, batch: HeteroData) -> Dict[str, Tensor]:\n",
    "        batch = self.norm(batch)\n",
    "        x_dict = {\n",
    "            \"face\": self.face_enc(batch[\"face\"].uv),\n",
    "            \"coedge\": self.coedge_enc(batch[\"coedge\"].grid),\n",
    "            \"edge\": self.edge_lin(batch[\"edge\"].x.float()),\n",
    "        }\n",
    "        z_dict = self.gnn(x_dict, {\n",
    "            (\"coedge\",\"next\",\"coedge\"): batch[(\"coedge\",\"next\",\"coedge\")].edge_index,\n",
    "            (\"coedge\",\"mate\",\"coedge\"): batch[(\"coedge\",\"mate\",\"coedge\")].edge_index,\n",
    "            (\"coedge\",\"to_face\",\"face\"): batch[(\"coedge\",\"to_face\",\"face\")].edge_index,\n",
    "            (\"coedge\",\"to_edge\",\"edge\"): batch[(\"coedge\",\"to_edge\",\"edge\")].edge_index,\n",
    "        })\n",
    "        return z_dict\n",
    "\n",
    "    def _contrastive_loss(self, z1: Tensor, z2: Tensor) -> Tensor:\n",
    "        # единая реализация NT‑Xent с настраиваемой температурой\n",
    "        p1 = nn.functional.normalize(self.projector(z1), dim=-1)\n",
    "        p2 = nn.functional.normalize(self.projector(z2), dim=-1)\n",
    "        logits = (p1 @ p2.t()) / self.tau\n",
    "        labels = torch.arange(p1.size(0), device=p1.device)\n",
    "        return nn.functional.cross_entropy(logits, labels)\n",
    "\n",
    "    # ===== обучение/валидация =====\n",
    "    def training_step(self, batch: HeteroData, _: int) -> Tensor:\n",
    "        # аугментации берут вероятность\n",
    "        \n",
    "        # v1, v2 = two_views(batch, p=self.aug_p)\n",
    "        v1, v2 = improved_two_views(batch, \n",
    "                                   p_face_mask=0.15,\n",
    "                                   p_topo_drop=0.08, \n",
    "                                   p_spatial=0.2,\n",
    "                                   p_attr=self.aug_p)\n",
    "        \n",
    "        z1d = self._embed(v1)\n",
    "        z2d = self._embed(v2)\n",
    "\n",
    "        # контраст\n",
    "        loss_con = self._contrastive_loss(z1d[\"coedge\"], z2d[\"coedge\"])\n",
    "        p1 = torch.nn.functional.normalize(self.projector(z1d[\"coedge\"]), dim=-1)\n",
    "        p2 = torch.nn.functional.normalize(self.projector(z2d[\"coedge\"]), dim=-1)\n",
    "        logits = (p1 @ p2.t()) / self.tau\n",
    "        labels = torch.arange(p1.size(0), device=p1.device)\n",
    "        info_acc = (logits.argmax(dim=1) == labels).float().mean()\n",
    "\n",
    "        # топологические предтексты с настраиваемой температурой\n",
    "        co_batch = batch[\"coedge\"].batch\n",
    "        next_ei = batch[(\"coedge\",\"next\",\"coedge\")].edge_index\n",
    "        mate_ei = batch[(\"coedge\",\"mate\",\"coedge\")].edge_index\n",
    "        tgt_next = build_target_from_edge_index(next_ei, z1d[\"coedge\"].size(0))\n",
    "        tgt_mate = build_target_from_edge_index(mate_ei, z1d[\"coedge\"].size(0))\n",
    "\n",
    "        loss_next, acc_next = graph_pointer_ce(\n",
    "            z1d[\"coedge\"], co_batch, tgt_next, self.scorer_next, temperature=self.topo_tau\n",
    "        )\n",
    "        loss_mate, acc_mate = graph_pointer_ce(\n",
    "            z1d[\"coedge\"], co_batch, tgt_mate, self.scorer_mate, temperature=self.topo_tau\n",
    "        )\n",
    "        loss_recon = 0.0\n",
    "        if self.use_mae_decoder:\n",
    "            # Восстанавливаем оригинальные данные из аугментированного представления v1\n",
    "            reconstructed = self.mae_decoder(z1d, {\"face\": batch[\"face\"].uv.shape, \"coedge\": batch[\"coedge\"].grid.shape})\n",
    "            \n",
    "            # --- НАЧАЛО ИЗМЕНЕНИЙ ---\n",
    "            # Убедимся, что тензоры имеют одинаковую форму перед isclose\n",
    "            v1_grid = v1[\"coedge\"].grid\n",
    "            orig_grid = batch[\"coedge\"].grid\n",
    "            min_u = min(v1_grid.shape[-1], orig_grid.shape[-1])\n",
    "            \n",
    "            # Создаем маски, используя срезы одинакового размера\n",
    "            face_mask = ~torch.isclose(v1[\"face\"].uv, batch[\"face\"].uv)\n",
    "            coedge_mask = ~torch.isclose(v1_grid[:, :, :min_u], orig_grid[:, :, :min_u])\n",
    "\n",
    "            recon_targets = {\n",
    "                \"face_uv\": batch[\"face\"].uv, \n",
    "                \"coedge_grid\": orig_grid[:, :, :min_u] # Используем тот же срез\n",
    "            }\n",
    "            recon_preds = {\n",
    "                \"face_uv\": reconstructed[\"face_uv\"],\n",
    "                \"coedge_grid\": reconstructed[\"coedge_grid\"][:, :, :min_u] # и здесь\n",
    "            }\n",
    "            recon_masks = {\"face_mask\": face_mask, \"coedge_mask\": coedge_mask}\n",
    "            \n",
    "            loss_recon = compute_reconstruction_loss(recon_preds, recon_targets, recon_masks)\n",
    "\n",
    "        loss = (\n",
    "        \n",
    "            loss_con \n",
    "                + self.lambda_topo_next * loss_next \n",
    "                + self.lambda_topo_mate * loss_mate\n",
    "                + self.lambda_recon * loss_recon\n",
    "        )\n",
    "\n",
    "        bsz = num_graphs_in_batch(batch)\n",
    "        self.log_dict({\n",
    "            \"train_loss\": loss,\n",
    "            \"train_loss_con\": loss_con,\n",
    "            \"train_loss_next\": loss_next,\n",
    "            \"train_loss_mate\": loss_mate,\n",
    "            \"train_infoNCE_acc\": info_acc,\n",
    "            \"train_topo_next_top1\": acc_next,\n",
    "            \"train_topo_mate_top1\": acc_mate,\n",
    "        }, on_step=False, on_epoch=True, prog_bar=True, logger=True, batch_size=bsz) \n",
    "        return loss\n",
    "\n",
    "    @torch.no_grad()\n",
    "    def validation_step(self, batch: HeteroData, _: int) -> None:\n",
    "        # Аугментации: такие же, как в train (или p=0.0 для «чистой» оценки)\n",
    "        # v1, v2 = two_views(batch, p=self.aug_p)\n",
    "        v1, v2 = improved_two_views(batch, \n",
    "                                   p_face_mask=0.15,\n",
    "                                   p_topo_drop=0.08, \n",
    "                                   p_spatial=0.2,\n",
    "                                   p_attr=self.aug_p)\n",
    "\n",
    "        # Эмбеддинги\n",
    "        z1d = self._embed(v1)\n",
    "        z2d = self._embed(v2)\n",
    "\n",
    "        # Контрастная часть (val/loss_con) и accuracy\n",
    "        val_loss_con = self._contrastive_loss(z1d[\"coedge\"], z2d[\"coedge\"])\n",
    "        p1 = torch.nn.functional.normalize(self.projector(z1d[\"coedge\"]), dim=-1)\n",
    "        p2 = torch.nn.functional.normalize(self.projector(z2d[\"coedge\"]), dim=-1)\n",
    "        logits = (p1 @ p2.t()) / self.tau\n",
    "        labels = torch.arange(p1.size(0), device=p1.device)\n",
    "        val_info_acc = (logits.argmax(dim=1) == labels).float().mean()\n",
    "\n",
    "        # Топологические предтексты (val/loss_next, val/loss_mate) и topo@1\n",
    "        co_batch = batch[\"coedge\"].batch\n",
    "        next_ei = batch[(\"coedge\",\"next\",\"coedge\")].edge_index\n",
    "        mate_ei = batch[(\"coedge\",\"mate\",\"coedge\")].edge_index\n",
    "        tgt_next = build_target_from_edge_index(next_ei, z1d[\"coedge\"].size(0))\n",
    "        tgt_mate = build_target_from_edge_index(mate_ei, z1d[\"coedge\"].size(0))\n",
    "\n",
    "        val_loss_next, val_topo_next = graph_pointer_ce(\n",
    "            z1d[\"coedge\"], co_batch, tgt_next, self.scorer_next, temperature=self.topo_tau\n",
    "        )\n",
    "        val_loss_mate, val_topo_mate = graph_pointer_ce(\n",
    "            z1d[\"coedge\"], co_batch, tgt_mate, self.scorer_mate, temperature=self.topo_tau\n",
    "        )\n",
    "\n",
    "        loss_recon = 0.0\n",
    "\n",
    "        if self.use_mae_decoder:\n",
    "\n",
    "            # Восстанавливаем оригинальные данные из аугментированного представления v1\n",
    "            reconstructed = self.mae_decoder(z1d, {\"face\": batch[\"face\"].uv.shape, \"coedge\": batch[\"coedge\"].grid.shape})\n",
    "            \n",
    "            # --- НАЧАЛО ИЗМЕНЕНИЙ ---\n",
    "            # Убедимся, что тензоры имеют одинаковую форму перед isclose\n",
    "            v1_grid = v1[\"coedge\"].grid\n",
    "            orig_grid = batch[\"coedge\"].grid\n",
    "            min_u = min(v1_grid.shape[-1], orig_grid.shape[-1])\n",
    "            \n",
    "            # Создаем маски, используя срезы одинакового размера\n",
    "            face_mask = ~torch.isclose(v1[\"face\"].uv, batch[\"face\"].uv)\n",
    "            coedge_mask = ~torch.isclose(v1_grid[:, :, :min_u], orig_grid[:, :, :min_u])\n",
    "\n",
    "            recon_targets = {\n",
    "                \"face_uv\": batch[\"face\"].uv, \n",
    "                \"coedge_grid\": orig_grid[:, :, :min_u] # Используем тот же срез\n",
    "            }\n",
    "            recon_preds = {\n",
    "                \"face_uv\": reconstructed[\"face_uv\"],\n",
    "                \"coedge_grid\": reconstructed[\"coedge_grid\"][:, :, :min_u] # и здесь\n",
    "            }\n",
    "            recon_masks = {\"face_mask\": face_mask, \"coedge_mask\": coedge_mask}\n",
    "            \n",
    "            loss_recon = compute_reconstruction_loss(recon_preds, recon_targets, recon_masks)\n",
    "\n",
    "        # Итоговая val/loss (по той же формуле, что в train)\n",
    "        val_loss = (\n",
    "\n",
    "            val_loss_con\n",
    "                + self.lambda_topo_next * val_loss_next\n",
    "                + self.lambda_topo_mate * val_loss_mate\n",
    "                + self.lambda_recon * loss_recon\n",
    "        )\n",
    "\n",
    "        # 6) Логирование на уровне эпохи\n",
    "        bsz = num_graphs_in_batch(batch)\n",
    "        self.log_dict({\n",
    "            \"val_loss\": val_loss,\n",
    "            \"val_loss_con\": val_loss_con,\n",
    "            \"val_loss_next\": val_loss_next,\n",
    "            \"val_loss_mate\": val_loss_mate,\n",
    "            \"val_infoNCE_acc\": val_info_acc,\n",
    "            \"val_topo_next_top1\": val_topo_next,\n",
    "            \"val_topo_mate_top1\": val_topo_mate,\n",
    "        }, on_step=False, on_epoch=True, prog_bar=True, logger=True, batch_size=bsz)\n",
    "\n",
    "    def configure_optimizers(self):\n",
    "        return torch.optim.AdamW(self.parameters(), lr=self.lr, weight_decay=self.weight_decay)\n"
   ]
  },
  {
   "cell_type": "code",
   "execution_count": 13,
   "id": "acec3019",
   "metadata": {},
   "outputs": [],
   "source": [
    "from __future__ import annotations\n",
    "from pathlib import Path\n",
    "from typing import Callable, List, Optional, Union\n",
    "\n",
    "import numpy as np\n",
    "import torch\n",
    "from torch import Tensor\n",
    "from torch_geometric.data import HeteroData, Dataset\n",
    "\n",
    "\n",
    "def load_npz_brepnet(npz_file: Union[str, Path]) -> Dict[str, np.ndarray]:\n",
    "    \"\"\"\n",
    "    Безопасная и явная загрузка .npz из BRepNetExtractor.\n",
    "    Возвращает обычный словарь с ключами, согласованными с последующей сборкой графа.\n",
    "    \"\"\"\n",
    "    with np.load(npz_file, allow_pickle=False) as data: \n",
    "        npz_data: Dict[str, np.ndarray] = {\n",
    "            \"face_features\": data[\"face_features\"],\n",
    "            \"face_point_grids\": data[\"face_point_grids\"],\n",
    "            \"edge_features\": data[\"edge_features\"],\n",
    "            \"coedge_features\": data[\"coedge_features\"],\n",
    "            \"coedge_point_grids\": data[\"coedge_point_grids\"],\n",
    "            \"coedge_lcs\": data[\"coedge_lcs\"],\n",
    "            \"coedge_scale_factors\": data[\"coedge_scale_factors\"],\n",
    "            \"coedge_reverse_flags\": data[\"coedge_reverse_flags\"],\n",
    "            \"coedge_to_next\": data[\"next\"],\n",
    "            \"coedge_to_mate\": data[\"mate\"],\n",
    "            \"coedge_to_face\": data[\"face\"],\n",
    "            \"coedge_to_edge\": data[\"edge\"],\n",
    "        }\n",
    "    return npz_data\n",
    "\n",
    "\n",
    "def _to_float32(x: np.ndarray) -> Tensor:\n",
    "    return torch.from_numpy(np.asarray(x, dtype=np.float32))\n",
    "\n",
    "\n",
    "def _to_int64(x: np.ndarray) -> Tensor:\n",
    "    return torch.from_numpy(np.asarray(x, dtype=np.int64))\n",
    "\n",
    "\n",
    "class BRepNPZDataset(Dataset):\n",
    "    \"\"\"\n",
    "    Dataset для .npz из BRepNetExtractor: конструирует гетерограф face/edge/coedge и связи.\n",
    "    \"\"\"\n",
    "    def __init__(\n",
    "        self,\n",
    "        root_dir: Union[str, Path],\n",
    "        transform: Optional[Callable[[HeteroData], HeteroData]] = None,\n",
    "        pre_transform: Optional[Callable[[HeteroData], HeteroData]] = None,\n",
    "        file_filter: Optional[Callable[[Path], bool]] = None,\n",
    "    ) -> None:\n",
    "        super().__init__(root=str(root_dir), transform=transform, pre_transform=pre_transform)\n",
    "        self.root_dir = Path(root_dir)\n",
    "        files = sorted(self.root_dir.glob(\"*.npz\"))\n",
    "        self.files: List[Path] = [f for f in files if file_filter(f)] if file_filter else list(files)\n",
    "        if len(self.files) == 0:\n",
    "            raise FileNotFoundError(f\"No .npz found in {self.root_dir}\")\n",
    "\n",
    "    def len(self) -> int:\n",
    "        return len(self.files)\n",
    "\n",
    "    def get(self, idx: int) -> HeteroData:\n",
    "        path = self.files[idx]\n",
    "        d: Dict[str, np.ndarray] = load_npz_brepnet(path)\n",
    "\n",
    "        # Узловые признаки\n",
    "        face_x = _to_float32(d[\"face_features\"])              # [F, 7]\n",
    "        face_uv = _to_float32(d[\"face_point_grids\"])          # [F, 7, 10, 10]\n",
    "        edge_x = _to_float32(d[\"edge_features\"])              # [E, 10]\n",
    "        coedge_x = _to_float32(d[\"coedge_features\"])          # [C, 1]\n",
    "        coedge_grid = _to_float32(d[\"coedge_point_grids\"])    # [C, 12, 10]\n",
    "        coedge_lcs = _to_float32(d[\"coedge_lcs\"])             # [C, 4, 4]\n",
    "        coedge_scale = _to_float32(d[\"coedge_scale_factors\"]) # [C]\n",
    "        coedge_reverse = torch.from_numpy(\n",
    "            np.asarray(d[\"coedge_reverse_flags\"], dtype=np.bool_)\n",
    "        )  # [C]\n",
    "\n",
    "        # Размерности (строго int)\n",
    "        num_faces = int(face_x.size(0))\n",
    "        num_edges = int(edge_x.size(0))\n",
    "        num_coedges = int(coedge_x.size(0))\n",
    "\n",
    "        # Индексы связей (строго int64)\n",
    "        nxt = _to_int64(d[\"coedge_to_next\"])    # [C]\n",
    "        mate = _to_int64(d[\"coedge_to_mate\"])   # [C]\n",
    "        c2f = _to_int64(d[\"coedge_to_face\"])    # [C]\n",
    "        c2e = _to_int64(d[\"coedge_to_edge\"])    # [C]\n",
    "\n",
    "        src = torch.arange(num_coedges, dtype=torch.int64)\n",
    "        edge_index_next = torch.stack([src, nxt], dim=0)   # [2, C]\n",
    "        edge_index_mate = torch.stack([src, mate], dim=0)  # [2, C]\n",
    "        edge_index_c2f = torch.stack([src, c2f], dim=0)    # [2, C]\n",
    "        edge_index_c2e = torch.stack([src, c2e], dim=0)    # [2, C]\n",
    "\n",
    "        data = HeteroData()\n",
    "\n",
    "        data[\"face\"].x = face_x\n",
    "        data[\"face\"].uv = face_uv\n",
    "        data[\"face\"].num_nodes = num_faces\n",
    "\n",
    "        data[\"edge\"].x = edge_x\n",
    "        data[\"edge\"].num_nodes = num_edges\n",
    "\n",
    "        data[\"coedge\"].x = coedge_x\n",
    "        data[\"coedge\"].grid = coedge_grid\n",
    "        data[\"coedge\"].lcs = coedge_lcs\n",
    "        data[\"coedge\"].scale = coedge_scale\n",
    "        data[\"coedge\"].reverse = coedge_reverse\n",
    "        data[\"coedge\"].num_nodes = num_coedges\n",
    "\n",
    "        data[(\"coedge\", \"next\", \"coedge\")].edge_index = edge_index_next\n",
    "        data[(\"coedge\", \"mate\", \"coedge\")].edge_index = edge_index_mate\n",
    "        data[(\"coedge\", \"to_face\", \"face\")].edge_index = edge_index_c2f\n",
    "        data[(\"coedge\", \"to_edge\", \"edge\")].edge_index = edge_index_c2e\n",
    "\n",
    "        if self.pre_transform is not None:\n",
    "            data = self.pre_transform(data)\n",
    "        return data"
   ]
  },
  {
   "cell_type": "code",
   "execution_count": 14,
   "id": "34de7eaa",
   "metadata": {},
   "outputs": [
    {
     "name": "stdout",
     "output_type": "stream",
     "text": [
      "HeteroData(\n",
      "  face={\n",
      "    x=[9, 7],\n",
      "    uv=[9, 7, 10, 10],\n",
      "    num_nodes=9,\n",
      "  },\n",
      "  edge={\n",
      "    x=[16, 10],\n",
      "    num_nodes=16,\n",
      "  },\n",
      "  coedge={\n",
      "    x=[31, 1],\n",
      "    grid=[31, 12, 10],\n",
      "    lcs=[31, 4, 4],\n",
      "    scale=[31],\n",
      "    reverse=[31],\n",
      "    num_nodes=31,\n",
      "  },\n",
      "  (coedge, next, coedge)={ edge_index=[2, 31] },\n",
      "  (coedge, mate, coedge)={ edge_index=[2, 31] },\n",
      "  (coedge, to_face, face)={ edge_index=[2, 31] },\n",
      "  (coedge, to_edge, edge)={ edge_index=[2, 31] }\n",
      ")\n",
      "face num_nodes= 9 <class 'int'>\n",
      "edge num_nodes= 16 <class 'int'>\n",
      "coedge num_nodes= 31 <class 'int'>\n"
     ]
    }
   ],
   "source": [
    "ds = BRepNPZDataset(BREPNET_NPZ_DIR)\n",
    "g = ds.get(0)\n",
    "print(g)\n",
    "for t in ['face', 'edge', 'coedge']:\n",
    "    print(t, 'num_nodes=', g[t].num_nodes, type(g[t].num_nodes))\n"
   ]
  },
  {
   "cell_type": "code",
   "execution_count": 15,
   "id": "49f82209",
   "metadata": {},
   "outputs": [],
   "source": [
    "from __future__ import annotations\n",
    "from typing import Optional, Sequence, Tuple, Union\n",
    "from pathlib import Path\n",
    "\n",
    "import pytorch_lightning as pl\n",
    "from torch_geometric.loader import DataLoader as PyGDataLoader\n",
    "\n",
    "class BRepDataModule(pl.LightningDataModule):\n",
    "    \"\"\"\n",
    "    LightningDataModule для .npz B-Rep графов.\n",
    "    Делит список файлов на train/val/test и создаёт PyG DataLoader для HeteroData.\n",
    "    \"\"\"\n",
    "    def __init__(\n",
    "        self,\n",
    "        data_dir: Union[str, Path],\n",
    "        batch_size: int = 2,\n",
    "        num_workers: int = 4,\n",
    "        val_ratio: float = 0.1,\n",
    "        test_ratio: float = 0.1,\n",
    "        seed: int = 42,\n",
    "    ) -> None:\n",
    "        super().__init__()\n",
    "        self.data_dir = Path(data_dir)\n",
    "        self.batch_size = batch_size\n",
    "        self.num_workers = num_workers\n",
    "        self.val_ratio = val_ratio\n",
    "        self.test_ratio = test_ratio\n",
    "        self.seed = seed\n",
    "\n",
    "        self.ds_train: Optional[BRepNPZDataset] = None\n",
    "        self.ds_val: Optional[BRepNPZDataset] = None\n",
    "        self.ds_test: Optional[BRepNPZDataset] = None\n",
    "\n",
    "    def setup(self, stage: Optional[str] = None) -> None:\n",
    "        files = sorted(self.data_dir.glob(\"*.npz\"))\n",
    "        if len(files) == 0:\n",
    "            raise FileNotFoundError(f\"No .npz in {self.data_dir}\")\n",
    "\n",
    "        # Разбиение\n",
    "        n = len(files)\n",
    "        n_test = int(n * self.test_ratio)\n",
    "        n_val = int(n * self.val_ratio)\n",
    "        n_train = n - n_val - n_test\n",
    "\n",
    "        g = torch.Generator().manual_seed(self.seed)\n",
    "        perm = torch.randperm(n, generator=g).tolist()\n",
    "\n",
    "        train_files = {files[i] for i in perm[:n_train]}\n",
    "        val_files = {files[i] for i in perm[n_train : n_train + n_val]}\n",
    "        test_files = {files[i] for i in perm[n_train + n_val :]}\n",
    "\n",
    "        def select(paths: set[Path]):\n",
    "            return lambda p: p in paths\n",
    "\n",
    "        self.ds_train = BRepNPZDataset(self.data_dir, file_filter=select(train_files))\n",
    "        self.ds_val = BRepNPZDataset(self.data_dir, file_filter=select(val_files))\n",
    "        self.ds_test = BRepNPZDataset(self.data_dir, file_filter=select(test_files))\n",
    "\n",
    "    def train_dataloader(self) -> PyGDataLoader:\n",
    "        assert self.ds_train is not None\n",
    "        return PyGDataLoader(\n",
    "            self.ds_train, batch_size=self.batch_size, shuffle=True,\n",
    "            num_workers=self.num_workers, pin_memory=True\n",
    "        )\n",
    "\n",
    "    def val_dataloader(self) -> PyGDataLoader:\n",
    "        assert self.ds_val is not None\n",
    "        return PyGDataLoader(\n",
    "            self.ds_val, batch_size=self.batch_size, shuffle=False,\n",
    "            num_workers=self.num_workers, pin_memory=True\n",
    "        )\n",
    "\n",
    "    def test_dataloader(self) -> PyGDataLoader:\n",
    "        assert self.ds_test is not None\n",
    "        return PyGDataLoader(\n",
    "            self.ds_test, batch_size=self.batch_size, shuffle=False,\n",
    "            num_workers=self.num_workers, pin_memory=True\n",
    "        )"
   ]
  },
  {
   "cell_type": "code",
   "execution_count": 17,
   "id": "09afb31a",
   "metadata": {},
   "outputs": [
    {
     "name": "stdout",
     "output_type": "stream",
     "text": [
      "HeteroDataBatch(\n",
      "  face={\n",
      "    x=[2871, 7],\n",
      "    uv=[2871, 7, 10, 10],\n",
      "    num_nodes=2871,\n",
      "    batch=[2871],\n",
      "    ptr=[33],\n",
      "  },\n",
      "  edge={\n",
      "    x=[7873, 10],\n",
      "    num_nodes=7873,\n",
      "    batch=[7873],\n",
      "    ptr=[33],\n",
      "  },\n",
      "  coedge={\n",
      "    x=[15709, 1],\n",
      "    grid=[15709, 12, 10],\n",
      "    lcs=[15709, 4, 4],\n",
      "    scale=[15709],\n",
      "    reverse=[15709],\n",
      "    num_nodes=15709,\n",
      "    batch=[15709],\n",
      "    ptr=[33],\n",
      "  },\n",
      "  (coedge, next, coedge)={ edge_index=[2, 15709] },\n",
      "  (coedge, mate, coedge)={ edge_index=[2, 15709] },\n",
      "  (coedge, to_face, face)={ edge_index=[2, 15709] },\n",
      "  (coedge, to_edge, edge)={ edge_index=[2, 15709] }\n",
      ")\n"
     ]
    }
   ],
   "source": [
    "dm = BRepDataModule(data_dir=BREPNET_NPZ_DIR, batch_size=32, num_workers=0)\n",
    "dm.setup()\n",
    "\n",
    "batch = next(iter(dm.train_dataloader()))\n",
    "print(batch)"
   ]
  },
  {
   "cell_type": "code",
   "execution_count": 18,
   "id": "94b305b2",
   "metadata": {},
   "outputs": [
    {
     "name": "stdout",
     "output_type": "stream",
     "text": [
      "{'coedge': (12092, 256), 'face': (2210, 256), 'edge': (6055, 256)}\n"
     ]
    }
   ],
   "source": [
    "batch = next(iter(dm.train_dataloader()))\n",
    "_ = CoedgeLCSNormalize()(batch) \n",
    "model = SSLBRepModule()\n",
    "# Прогон вперёд\n",
    "z = model._embed(batch)\n",
    "print({k: tuple(v.shape) for k, v in z.items()})  # ожидаем {'coedge': [NC, 256], "
   ]
  },
  {
   "cell_type": "code",
   "execution_count": 113,
   "id": "51fd62d1",
   "metadata": {},
   "outputs": [
    {
     "name": "stderr",
     "output_type": "stream",
     "text": [
      "GPU available: False, used: False\n",
      "TPU available: False, using: 0 TPU cores\n",
      "HPU available: False, using: 0 HPUs\n",
      "\n",
      "  | Name        | Type           | Params | Mode \n",
      "-------------------------------------------------------\n",
      "0 | face_enc    | FaceEncoder    | 28.9 K | train\n",
      "1 | coedge_enc  | CoedgeEncoder  | 32.8 K | train\n",
      "2 | edge_lin    | Linear         | 1.4 K  | train\n",
      "3 | gnn         | BRepHeteroGNN  | 100 K  | train\n",
      "4 | projector   | Sequential     | 98.7 K | train\n",
      "5 | scorer_next | BilinearScorer | 65.5 K | train\n",
      "6 | scorer_mate | BilinearScorer | 65.5 K | train\n",
      "7 | mae_decoder | BRepMAEDecoder | 683 K  | train\n",
      "-------------------------------------------------------\n",
      "1.1 M     Trainable params\n",
      "0         Non-trainable params\n",
      "1.1 M     Total params\n",
      "4.307     Total estimated model params size (MB)\n",
      "75        Modules in train mode\n",
      "0         Modules in eval mode\n"
     ]
    },
    {
     "data": {
      "application/vnd.jupyter.widget-view+json": {
       "model_id": "8a9f769622fc41a59fd7bd00ea21b896",
       "version_major": 2,
       "version_minor": 0
      },
      "text/plain": [
       "Sanity Checking: |          | 0/? [00:00<?, ?it/s]"
      ]
     },
     "metadata": {},
     "output_type": "display_data"
    },
    {
     "data": {
      "application/vnd.jupyter.widget-view+json": {
       "model_id": "824a4647241c44e9a6ed010006582f75",
       "version_major": 2,
       "version_minor": 0
      },
      "text/plain": [
       "Training: |          | 0/? [00:00<?, ?it/s]"
      ]
     },
     "metadata": {},
     "output_type": "display_data"
    },
    {
     "data": {
      "application/vnd.jupyter.widget-view+json": {
       "model_id": "f540ff86f91a4745af07e47aa168c150",
       "version_major": 2,
       "version_minor": 0
      },
      "text/plain": [
       "Validation: |          | 0/? [00:00<?, ?it/s]"
      ]
     },
     "metadata": {},
     "output_type": "display_data"
    },
    {
     "data": {
      "application/vnd.jupyter.widget-view+json": {
       "model_id": "4039ff76b5d24e65aa76c38162f3bf5d",
       "version_major": 2,
       "version_minor": 0
      },
      "text/plain": [
       "Validation: |          | 0/? [00:00<?, ?it/s]"
      ]
     },
     "metadata": {},
     "output_type": "display_data"
    },
    {
     "data": {
      "application/vnd.jupyter.widget-view+json": {
       "model_id": "dfb19691be024677b43f491c2800d7ef",
       "version_major": 2,
       "version_minor": 0
      },
      "text/plain": [
       "Validation: |          | 0/? [00:00<?, ?it/s]"
      ]
     },
     "metadata": {},
     "output_type": "display_data"
    },
    {
     "data": {
      "application/vnd.jupyter.widget-view+json": {
       "model_id": "d799387c2a32484d82d5c014a84bde6c",
       "version_major": 2,
       "version_minor": 0
      },
      "text/plain": [
       "Validation: |          | 0/? [00:00<?, ?it/s]"
      ]
     },
     "metadata": {},
     "output_type": "display_data"
    },
    {
     "data": {
      "application/vnd.jupyter.widget-view+json": {
       "model_id": "1dbaad0230ec437c8bacbe13192eb77c",
       "version_major": 2,
       "version_minor": 0
      },
      "text/plain": [
       "Validation: |          | 0/? [00:00<?, ?it/s]"
      ]
     },
     "metadata": {},
     "output_type": "display_data"
    },
    {
     "data": {
      "application/vnd.jupyter.widget-view+json": {
       "model_id": "8c10eff09f7d49de94f04337272430dc",
       "version_major": 2,
       "version_minor": 0
      },
      "text/plain": [
       "Validation: |          | 0/? [00:00<?, ?it/s]"
      ]
     },
     "metadata": {},
     "output_type": "display_data"
    },
    {
     "data": {
      "application/vnd.jupyter.widget-view+json": {
       "model_id": "c686e9f4ea7b475d84d95b10cdc0207c",
       "version_major": 2,
       "version_minor": 0
      },
      "text/plain": [
       "Validation: |          | 0/? [00:00<?, ?it/s]"
      ]
     },
     "metadata": {},
     "output_type": "display_data"
    },
    {
     "data": {
      "application/vnd.jupyter.widget-view+json": {
       "model_id": "29a3c04b2a6d4d11ab69349df36c48b3",
       "version_major": 2,
       "version_minor": 0
      },
      "text/plain": [
       "Validation: |          | 0/? [00:00<?, ?it/s]"
      ]
     },
     "metadata": {},
     "output_type": "display_data"
    },
    {
     "data": {
      "application/vnd.jupyter.widget-view+json": {
       "model_id": "44eebde8c64442e294edf6d25f05d325",
       "version_major": 2,
       "version_minor": 0
      },
      "text/plain": [
       "Validation: |          | 0/? [00:00<?, ?it/s]"
      ]
     },
     "metadata": {},
     "output_type": "display_data"
    },
    {
     "data": {
      "application/vnd.jupyter.widget-view+json": {
       "model_id": "04717a0393de4147aad2305401e3c3c3",
       "version_major": 2,
       "version_minor": 0
      },
      "text/plain": [
       "Validation: |          | 0/? [00:00<?, ?it/s]"
      ]
     },
     "metadata": {},
     "output_type": "display_data"
    },
    {
     "data": {
      "application/vnd.jupyter.widget-view+json": {
       "model_id": "1a8c5cbb33f845ab95c75ee823d3e453",
       "version_major": 2,
       "version_minor": 0
      },
      "text/plain": [
       "Validation: |          | 0/? [00:00<?, ?it/s]"
      ]
     },
     "metadata": {},
     "output_type": "display_data"
    },
    {
     "data": {
      "application/vnd.jupyter.widget-view+json": {
       "model_id": "f5099cb578284f2caadd4c490ce4f557",
       "version_major": 2,
       "version_minor": 0
      },
      "text/plain": [
       "Validation: |          | 0/? [00:00<?, ?it/s]"
      ]
     },
     "metadata": {},
     "output_type": "display_data"
    },
    {
     "data": {
      "application/vnd.jupyter.widget-view+json": {
       "model_id": "78e6c238311940c7af89fb9a11fdc7e9",
       "version_major": 2,
       "version_minor": 0
      },
      "text/plain": [
       "Validation: |          | 0/? [00:00<?, ?it/s]"
      ]
     },
     "metadata": {},
     "output_type": "display_data"
    },
    {
     "data": {
      "application/vnd.jupyter.widget-view+json": {
       "model_id": "a2161004089f44a1845eb8f0637bc824",
       "version_major": 2,
       "version_minor": 0
      },
      "text/plain": [
       "Validation: |          | 0/? [00:00<?, ?it/s]"
      ]
     },
     "metadata": {},
     "output_type": "display_data"
    },
    {
     "data": {
      "application/vnd.jupyter.widget-view+json": {
       "model_id": "12b98fccdad84df3802cbdfcf8877fbc",
       "version_major": 2,
       "version_minor": 0
      },
      "text/plain": [
       "Validation: |          | 0/? [00:00<?, ?it/s]"
      ]
     },
     "metadata": {},
     "output_type": "display_data"
    },
    {
     "data": {
      "application/vnd.jupyter.widget-view+json": {
       "model_id": "0767ed8a6400400c84af601ab95d140a",
       "version_major": 2,
       "version_minor": 0
      },
      "text/plain": [
       "Validation: |          | 0/? [00:00<?, ?it/s]"
      ]
     },
     "metadata": {},
     "output_type": "display_data"
    },
    {
     "data": {
      "application/vnd.jupyter.widget-view+json": {
       "model_id": "c46ebaeb43de4de6a5ceda23ca71cec2",
       "version_major": 2,
       "version_minor": 0
      },
      "text/plain": [
       "Validation: |          | 0/? [00:00<?, ?it/s]"
      ]
     },
     "metadata": {},
     "output_type": "display_data"
    },
    {
     "data": {
      "application/vnd.jupyter.widget-view+json": {
       "model_id": "f30becdd549d4f0096abf76fd7cce282",
       "version_major": 2,
       "version_minor": 0
      },
      "text/plain": [
       "Validation: |          | 0/? [00:00<?, ?it/s]"
      ]
     },
     "metadata": {},
     "output_type": "display_data"
    },
    {
     "data": {
      "application/vnd.jupyter.widget-view+json": {
       "model_id": "2018d7c905fd4d21b8591832c3e371fa",
       "version_major": 2,
       "version_minor": 0
      },
      "text/plain": [
       "Validation: |          | 0/? [00:00<?, ?it/s]"
      ]
     },
     "metadata": {},
     "output_type": "display_data"
    },
    {
     "data": {
      "application/vnd.jupyter.widget-view+json": {
       "model_id": "33f9018449e745ddb108dc4b85d2816b",
       "version_major": 2,
       "version_minor": 0
      },
      "text/plain": [
       "Validation: |          | 0/? [00:00<?, ?it/s]"
      ]
     },
     "metadata": {},
     "output_type": "display_data"
    },
    {
     "data": {
      "application/vnd.jupyter.widget-view+json": {
       "model_id": "6d400462161f4ad0bde6c9e9d9e09909",
       "version_major": 2,
       "version_minor": 0
      },
      "text/plain": [
       "Validation: |          | 0/? [00:00<?, ?it/s]"
      ]
     },
     "metadata": {},
     "output_type": "display_data"
    },
    {
     "data": {
      "application/vnd.jupyter.widget-view+json": {
       "model_id": "1e92962ee75d4934a06c2bdbaabd029b",
       "version_major": 2,
       "version_minor": 0
      },
      "text/plain": [
       "Validation: |          | 0/? [00:00<?, ?it/s]"
      ]
     },
     "metadata": {},
     "output_type": "display_data"
    },
    {
     "data": {
      "application/vnd.jupyter.widget-view+json": {
       "model_id": "c3d58bef029e45b0802b3a7c5c583da2",
       "version_major": 2,
       "version_minor": 0
      },
      "text/plain": [
       "Validation: |          | 0/? [00:00<?, ?it/s]"
      ]
     },
     "metadata": {},
     "output_type": "display_data"
    },
    {
     "data": {
      "application/vnd.jupyter.widget-view+json": {
       "model_id": "98029d5507dc47939a9c5e19c5a9e7fd",
       "version_major": 2,
       "version_minor": 0
      },
      "text/plain": [
       "Validation: |          | 0/? [00:00<?, ?it/s]"
      ]
     },
     "metadata": {},
     "output_type": "display_data"
    },
    {
     "data": {
      "application/vnd.jupyter.widget-view+json": {
       "model_id": "88bd78de3cc54cd8847494acd5b16764",
       "version_major": 2,
       "version_minor": 0
      },
      "text/plain": [
       "Validation: |          | 0/? [00:00<?, ?it/s]"
      ]
     },
     "metadata": {},
     "output_type": "display_data"
    },
    {
     "data": {
      "application/vnd.jupyter.widget-view+json": {
       "model_id": "02b5d576121e46cda0a326d25fce242d",
       "version_major": 2,
       "version_minor": 0
      },
      "text/plain": [
       "Validation: |          | 0/? [00:00<?, ?it/s]"
      ]
     },
     "metadata": {},
     "output_type": "display_data"
    },
    {
     "data": {
      "application/vnd.jupyter.widget-view+json": {
       "model_id": "13487b6629764ed098fb5bd82584a9ee",
       "version_major": 2,
       "version_minor": 0
      },
      "text/plain": [
       "Validation: |          | 0/? [00:00<?, ?it/s]"
      ]
     },
     "metadata": {},
     "output_type": "display_data"
    },
    {
     "data": {
      "application/vnd.jupyter.widget-view+json": {
       "model_id": "c21315e2dc6e400882e8903839f063af",
       "version_major": 2,
       "version_minor": 0
      },
      "text/plain": [
       "Validation: |          | 0/? [00:00<?, ?it/s]"
      ]
     },
     "metadata": {},
     "output_type": "display_data"
    },
    {
     "data": {
      "application/vnd.jupyter.widget-view+json": {
       "model_id": "2e70f282c2094226981aa6fe2138e413",
       "version_major": 2,
       "version_minor": 0
      },
      "text/plain": [
       "Validation: |          | 0/? [00:00<?, ?it/s]"
      ]
     },
     "metadata": {},
     "output_type": "display_data"
    },
    {
     "data": {
      "application/vnd.jupyter.widget-view+json": {
       "model_id": "a1b2d52bc9384387bf3e1699f5afc695",
       "version_major": 2,
       "version_minor": 0
      },
      "text/plain": [
       "Validation: |          | 0/? [00:00<?, ?it/s]"
      ]
     },
     "metadata": {},
     "output_type": "display_data"
    },
    {
     "data": {
      "application/vnd.jupyter.widget-view+json": {
       "model_id": "17f787e5bdf84a64ae04d4f97c728ceb",
       "version_major": 2,
       "version_minor": 0
      },
      "text/plain": [
       "Validation: |          | 0/? [00:00<?, ?it/s]"
      ]
     },
     "metadata": {},
     "output_type": "display_data"
    },
    {
     "data": {
      "application/vnd.jupyter.widget-view+json": {
       "model_id": "2e9175bdcde2404bb201b550d33b76db",
       "version_major": 2,
       "version_minor": 0
      },
      "text/plain": [
       "Validation: |          | 0/? [00:00<?, ?it/s]"
      ]
     },
     "metadata": {},
     "output_type": "display_data"
    },
    {
     "data": {
      "application/vnd.jupyter.widget-view+json": {
       "model_id": "c2192406bdd049089e38e4c4f4411d34",
       "version_major": 2,
       "version_minor": 0
      },
      "text/plain": [
       "Validation: |          | 0/? [00:00<?, ?it/s]"
      ]
     },
     "metadata": {},
     "output_type": "display_data"
    },
    {
     "data": {
      "application/vnd.jupyter.widget-view+json": {
       "model_id": "4d363956b5bd44b294b66b058fe836e4",
       "version_major": 2,
       "version_minor": 0
      },
      "text/plain": [
       "Validation: |          | 0/? [00:00<?, ?it/s]"
      ]
     },
     "metadata": {},
     "output_type": "display_data"
    },
    {
     "data": {
      "application/vnd.jupyter.widget-view+json": {
       "model_id": "320ab2d51b1d4cccbcd0c51725b56218",
       "version_major": 2,
       "version_minor": 0
      },
      "text/plain": [
       "Validation: |          | 0/? [00:00<?, ?it/s]"
      ]
     },
     "metadata": {},
     "output_type": "display_data"
    },
    {
     "data": {
      "application/vnd.jupyter.widget-view+json": {
       "model_id": "d694d3c946f74fe6bda8b2bafffd0d5b",
       "version_major": 2,
       "version_minor": 0
      },
      "text/plain": [
       "Validation: |          | 0/? [00:00<?, ?it/s]"
      ]
     },
     "metadata": {},
     "output_type": "display_data"
    },
    {
     "name": "stderr",
     "output_type": "stream",
     "text": [
      "\n",
      "Detected KeyboardInterrupt, attempting graceful shutdown ...\n"
     ]
    },
    {
     "ename": "SystemExit",
     "evalue": "1",
     "output_type": "error",
     "traceback": [
      "An exception has occurred, use %tb to see the full traceback.\n",
      "\u001b[31mSystemExit\u001b[39m\u001b[31m:\u001b[39m 1\n"
     ]
    },
    {
     "name": "stderr",
     "output_type": "stream",
     "text": [
      "d:\\dev\\.miniconda\\envs\\brepnet\\Lib\\site-packages\\IPython\\core\\interactiveshell.py:3707: UserWarning: To exit: use 'exit', 'quit', or Ctrl-D.\n",
      "  warn(\"To exit: use 'exit', 'quit', or Ctrl-D.\", stacklevel=1)\n"
     ]
    }
   ],
   "source": [
    "from __future__ import annotations\n",
    "import pytorch_lightning as pl\n",
    "from pytorch_lightning.callbacks import ModelCheckpoint\n",
    "from pytorch_lightning.loggers import TensorBoardLogger, CSVLogger\n",
    "from dataclasses import dataclass\n",
    "\n",
    "@dataclass\n",
    "class SSLConfig:\n",
    "    proj_dim: int = 128       # размер проекции для контраста\n",
    "    lr: float = 1e-3          # скорость обучения\n",
    "    hidden: int = 128         # размер скрытых слоёв GNN\n",
    "    tau: float = 0.08          # температура InfoNCE\n",
    "    lambda_topo_next: float = 12.0  #  вес топологических предтекстов\n",
    "    lambda_topo_mate: float = 12.0  # вес топологических предтекстов\n",
    "    aug_p: float = 0.15       # вероятность маскирования атрибутов\n",
    "    batch_size: int = 32      # размер батча\n",
    "    num_workers: int = 0      # число потоков загрузки данных\n",
    "\n",
    "cfg = SSLConfig()\n",
    "\n",
    "tb_logger = TensorBoardLogger(save_dir=REPORTS_DIR, name=\"ssl_brep\")\n",
    "csv_logger = CSVLogger(save_dir=REPORTS_DIR, name=\"ssl_brep\")\n",
    "\n",
    "dm = BRepDataModule(\n",
    "    data_dir=BREPNET_NPZ_DIR,\n",
    "      batch_size=cfg.batch_size, \n",
    "      num_workers=cfg.num_workers,\n",
    "      val_ratio=0.2,\n",
    "      test_ratio=0.1)\n",
    "dm.setup()\n",
    "\n",
    "\n",
    "model = SSLBRepModule(\n",
    "    proj_dim=cfg.proj_dim,\n",
    "    lr=cfg.lr,\n",
    "    hidden=cfg.hidden,\n",
    "    tau=cfg.tau,\n",
    "    lambda_topo_next=cfg.lambda_topo_next,\n",
    "    lambda_topo_mate=cfg.lambda_topo_mate,\n",
    "    aug_p=cfg.aug_p,\n",
    "    topo_tau=0.1,\n",
    "    weight_decay=1e-4,\n",
    ")\n",
    "\n",
    "ckpt = ModelCheckpoint(\n",
    "    monitor=\"val_infoNCE_acc\", \n",
    "    mode=\"max\", \n",
    "    save_top_k=1, \n",
    "    save_last=True,\n",
    "    dirpath=MODELS_DIR,\n",
    "    filename=\"ssl-brep-{epoch:02d}-{val_infoNCE_acc:.3f}\"\n",
    ")\n",
    "trainer = pl.Trainer(max_epochs=50, callbacks=[ckpt], logger=[tb_logger, csv_logger], log_every_n_steps=10)\n",
    "\n",
    "trainer.fit(model, dm)"
   ]
  },
  {
   "cell_type": "code",
   "execution_count": 83,
   "id": "d2eef259",
   "metadata": {},
   "outputs": [],
   "source": [
    "#  notebooks/utils/metrics_cleaner.py\n",
    "from __future__ import annotations\n",
    "from typing import List\n",
    "import pandas as pd\n",
    "\n",
    "def load_and_clean_csv(path: str, train_keys: List[str], val_keys: List[str]) -> pd.DataFrame:\n",
    "    df = pd.read_csv(path)\n",
    "    # Разделяем строки train/val по наличию ключевых столбцов\n",
    "    df_train = df.dropna(subset=[k for k in train_keys if k in df.columns]).copy()\n",
    "    df_val   = df.dropna(subset=[k for k in val_keys if k in df.columns]).copy()\n",
    "    # Берём последнее значение на эпоху (Lightning накапливает и пишет на epoch_end)\n",
    "    agg_train = df_train.groupby(\"epoch\").last().reset_index()\n",
    "    agg_val   = df_val.groupby(\"epoch\").last().reset_index()\n",
    "    # Оставляем только нужные столбцы\n",
    "    keep_train = [\"epoch\"] + [k for k in train_keys if k in agg_train.columns]\n",
    "    keep_val   = [\"epoch\"] + [k for k in val_keys   if k in agg_val.columns]\n",
    "    agg_train = agg_train[keep_train]\n",
    "    agg_val   = agg_val[keep_val]\n",
    "    # Сливаем train и val в одну таблицу\n",
    "    merged = pd.merge(agg_train, agg_val, on=\"epoch\", how=\"outer\").sort_values(\"epoch\")\n",
    "    return merged\n"
   ]
  },
  {
   "cell_type": "code",
   "execution_count": 114,
   "id": "d58a28aa",
   "metadata": {},
   "outputs": [
    {
     "data": {
      "image/png": "[encoded data removed]",
      "text/plain": [
       "<Figure size 1000x800 with 4 Axes>"
      ]
     },
     "metadata": {},
     "output_type": "display_data"
    }
   ],
   "source": [
    "import matplotlib.pyplot as plt\n",
    "\n",
    "metrics_csv = REPORTS_DIR / \"ssl_brep\" / \"version_29\" / \"metrics.csv\"\n",
    "\n",
    "\n",
    "train_keys = [\"train_infoNCE_acc\",\"train_loss\",\"train_loss_con\",\"train_loss_next\",\"train_loss_mate\",\n",
    "              \"train_topo_next_top1\",\"train_topo_mate_top1\"]\n",
    "\n",
    "val_keys   = [\"val_infoNCE_acc\",\"val_loss\", \"val_topo_next_top1\",\"val_topo_mate_top1\"]\n",
    "\n",
    "\n",
    "clean = load_and_clean_csv(str(metrics_csv), train_keys, val_keys)\n",
    "\n",
    "\n",
    "\n",
    "fig, axs = plt.subplots(2, 2, figsize=(10,8), constrained_layout=True)\n",
    "\n",
    "axs[0,0].plot(clean[\"epoch\"], clean[\"train_loss\"], label=\"train\")\n",
    "axs[0,0].plot(clean[\"epoch\"], clean.get(\"val_loss\"), label=\"val\")\n",
    "axs[0,0].set_title(\"Train Loss\"); axs[0,0].legend()\n",
    "\n",
    "axs[0,1].plot(clean[\"epoch\"], clean[\"val_infoNCE_acc\"], label=\"val\")\n",
    "axs[0,1].plot(clean[\"epoch\"], clean[\"train_infoNCE_acc\"], label=\"train\")\n",
    "axs[0,1].set_title(\"Accuracy\"); axs[0,1].legend()\n",
    "\n",
    "axs[1,0].plot(clean[\"epoch\"], clean[\"train_topo_mate_top1\"], label=\"train/topo_mate_top1\")\n",
    "axs[1,0].plot(clean[\"epoch\"], clean[\"val_topo_mate_top1\"], label=\"val/topo_mate_top1\")\n",
    "axs[1,0].set_title(\"Topo Mate@1\"); axs[1,0].legend()\n",
    "\n",
    "axs[1,1].plot(clean[\"epoch\"], clean[\"train_topo_next_top1\"], label=\"train/topo_next_top1\")\n",
    "axs[1,1].plot(clean[\"epoch\"], clean[\"val_topo_next_top1\"], label=\"val/topo_next_top1\")\n",
    "axs[1,1].set_title(\"Topo Next@1\"); axs[1,1].legend()\n",
    "\n",
    "plt.show()\n"
   ]
  },
  {
   "cell_type": "code",
   "execution_count": 58,
   "id": "5149b390",
   "metadata": {},
   "outputs": [],
   "source": [
    "from __future__ import annotations\n",
    "from typing import Dict, List, Tuple\n",
    "from pathlib import Path\n",
    "import numpy as np\n",
    "import torch\n",
    "from torch import Tensor\n",
    "from torch_geometric.nn import global_mean_pool, global_max_pool\n",
    "\n",
    "# _embed(batch) должен возвращать {'coedge': [NC,Dc], 'face': [NF,Df], 'edge': ...}\n",
    "\n",
    "def pool_model_embedding(\n",
    "    z_coedge: Tensor, z_face: Tensor,\n",
    "    co_batch: Tensor, fa_batch: Tensor\n",
    ") -> Tensor:\n",
    "    zc_mean = global_mean_pool(z_coedge, co_batch)  # [B,Dc]\n",
    "    zc_max  = global_max_pool(z_coedge, co_batch)   # [B,Dc]\n",
    "    zf_mean = global_mean_pool(z_face,   fa_batch)  # [B,Df]\n",
    "    z = torch.cat([zc_mean, zc_max, zf_mean], dim=1)  # [B,2*Dc+Df]\n",
    "    z = torch.nn.functional.normalize(z, dim=-1)\n",
    "    return z  # [B, D]\n",
    "\n",
    "@torch.no_grad()\n",
    "def extract_embeddings(\n",
    "    model_ckpt: Path,\n",
    "    data_dir: Path,\n",
    "    device: str = \"cuda\" if torch.cuda.is_available() else \"cpu\"\n",
    ") -> Tuple[List[str], np.ndarray]:\n",
    "\n",
    "    model = SSLBRepModule.load_from_checkpoint(model_ckpt).to(device).eval()\n",
    "    ds = BRepNPZDataset(data_dir)\n",
    "    ids: List[str] = []\n",
    "    embs: List[np.ndarray] = []\n",
    "    for i in range(len(ds)):\n",
    "        data = ds.get(i)\n",
    "        # Для одного графа нет batch-векторов: создаём нулевые\n",
    "        data = data.to(device)\n",
    "        z = model._embed(data)  # {'coedge': [NC,Dc], 'face': [NF,Df], ...}\n",
    "        co_batch = torch.zeros(z[\"coedge\"].size(0), dtype=torch.long, device=device)\n",
    "        fa_batch = torch.zeros(z[\"face\"].size(0),   dtype=torch.long, device=device)\n",
    "        g = pool_model_embedding(z[\"coedge\"], z[\"face\"], co_batch, fa_batch)  # [1,D]\n",
    "        embs.append(g.squeeze(0).cpu().numpy())\n",
    "        ids.append(ds.files[i].stem)  # имена файлов как идентификаторы\n",
    "    E = np.stack(embs).astype(\"float32\")  # [N,D]\n",
    "    # К косинусу: L2-нормировка (на всякий случай ещё раз)\n",
    "    E /= np.linalg.norm(E, axis=1, keepdims=True) + 1e-8\n",
    "    return ids, E\n",
    "\n",
    "def topk_similar(E: np.ndarray, k: int = 10, include_self: bool = True) -> np.ndarray:\n",
    "    S = E @ E.T  # косинус при L2-нормировке\n",
    "    if not include_self:\n",
    "        np.fill_diagonal(S, -1.0)  # исключаем self только при анализе соседей\n",
    "    topk_idx = np.argpartition(-S, kth=range(k), axis=1)[:, :k] # type: ignore\n",
    "    row_sort = np.argsort(-S[np.arange(S.shape[0])[:, None], topk_idx], axis=1) # type: ignore\n",
    "    return topk_idx[np.arange(S.shape[0])[:, None], row_sort]\n"
   ]
  },
  {
   "cell_type": "code",
   "execution_count": 115,
   "id": "d4a4a62c",
   "metadata": {},
   "outputs": [
    {
     "name": "stdout",
     "output_type": "stream",
     "text": [
      "Query: 42. Ejector-01.prt\n",
      "Top-10: ['42. Ejector-01.prt', '42. Ejector-05.prt', '42. Ejector.prt', '42. Ejector-02', '42. Ejector-06.prt', '42. Ejector-07.prt', '42. Ejector-08.prt', 'Зацеп трубки направляющий 7.prt', 'Зацеп трубки направляющий 8.prt', '42. Ejector-09.prt']\n",
      "---\n",
      "Query: 42. Ejector-02\n",
      "Top-10: ['42. Ejector-02', '42. Ejector-01.prt', '42. Ejector-05.prt', '42. Ejector.prt', '42. Ejector-06.prt', '42. Ejector-07.prt', '42. Ejector-08.prt', 'Зацеп трубки направляющий 7.prt', 'Зацеп трубки направляющий 8.prt', '42. Ejector-09.prt']\n",
      "---\n",
      "Query: 42. Ejector-03.prt\n",
      "Top-10: ['42. Ejector-03.prt', '42. Ejector-04.prt', '42. Ejector-09.prt', '44. Extractor Pin-09.prt', '42. Ejector-10.prt', 'Зацеп трубки направляющий 7.prt', '44. Extractor Pin-10.prt', '42. Ejector-02', '44. Extractor Pin-08.prt', 'Защелка 10.prt']\n",
      "---\n",
      "Query: 42. Ejector-04.prt\n",
      "Top-10: ['42. Ejector-04.prt', '42. Ejector-03.prt', '42. Ejector-09.prt', '42. Ejector-10.prt', 'Зацеп трубки направляющий 7.prt', '44. Extractor Pin-10.prt', '44. Extractor Pin-09.prt', 'Кожух 1.prt', '42. Ejector-02', 'Защелка 10.prt']\n",
      "---\n",
      "Query: 42. Ejector-05.prt\n",
      "Top-10: ['42. Ejector-05.prt', '42. Ejector-01.prt', '42. Ejector.prt', '42. Ejector-06.prt', '42. Ejector-02', '42. Ejector-07.prt', '42. Ejector-08.prt', 'Зацеп трубки направляющий 7.prt', 'Зацеп трубки направляющий 8.prt', '42. Ejector-09.prt']\n",
      "---\n",
      "Query: 42. Ejector-06.prt\n",
      "Top-10: ['42. Ejector-06.prt', '42. Ejector-08.prt', '42. Ejector-07.prt', '42. Ejector-05.prt', '42. Ejector-01.prt', '42. Ejector.prt', '42. Ejector-02', 'Зацеп трубки направляющий 7.prt', 'Зацеп трубки направляющий 8.prt', '42. Ejector-09.prt']\n",
      "---\n",
      "Query: 42. Ejector-07.prt\n",
      "Top-10: ['42. Ejector-07.prt', '42. Ejector-08.prt', '42. Ejector-06.prt', '42. Ejector.prt', '42. Ejector-05.prt', '42. Ejector-01.prt', '42. Ejector-02', 'Зацеп трубки направляющий 7.prt', '42. Ejector-09.prt', 'Зацеп трубки направляющий 8.prt']\n",
      "---\n",
      "Query: 42. Ejector-08.prt\n",
      "Top-10: ['42. Ejector-08.prt', '42. Ejector-07.prt', '42. Ejector-06.prt', '42. Ejector.prt', '42. Ejector-05.prt', '42. Ejector-01.prt', '42. Ejector-02', 'Зацеп трубки направляющий 7.prt', '42. Ejector-09.prt', 'Зацеп трубки направляющий 8.prt']\n",
      "---\n",
      "Query: 42. Ejector-09.prt\n",
      "Top-10: ['42. Ejector-09.prt', '42. Ejector-04.prt', 'Зацеп трубки направляющий 7.prt', '42. Ejector-03.prt', '42. Ejector-10.prt', 'Кожух 1.prt', 'Кожух 6.prt', 'Кожух 8.prt', 'Кожух 7.prt', 'Кожух.prt']\n",
      "---\n",
      "Query: 42. Ejector-10.prt\n",
      "Top-10: ['42. Ejector-10.prt', '42. Ejector-09.prt', '44. Extractor Pin-10.prt', '42. Ejector-04.prt', '44. Extractor Pin-07.prt', '44. Extractor Pin-09.prt', '44. Extractor Pin-06.prt', '42. Ejector-03.prt', '44. Extractor Pin-08.prt', 'Защелка.prt']\n",
      "---\n",
      "Query: 42. Ejector.prt\n",
      "Top-10: ['42. Ejector.prt', '42. Ejector-01.prt', '42. Ejector-05.prt', '42. Ejector-02', '42. Ejector-07.prt', '42. Ejector-08.prt', '42. Ejector-06.prt', 'Зацеп трубки направляющий 7.prt', 'Зацеп трубки направляющий 8.prt', '42. Ejector-09.prt']\n",
      "---\n",
      "Query: 42. Silencer Fix-01.prt\n",
      "Top-10: ['42. Silencer Fix-01.prt', '42. Silencer Fix-02.prt', '42. Silencer Fix-10.prt', '42. Silencer Fix.prt', '42. Silencer Fix-03.prt', '42. Silencer Fix-04.prt', '42. Silencer Fix-05.prt', '42. Silencer Fix-08.prt', '42. Silencer Fix-09.prt', '43. Extractor-10.prt']\n",
      "---\n",
      "Query: 42. Silencer Fix-02.prt\n",
      "Top-10: ['42. Silencer Fix-02.prt', '42. Silencer Fix-01.prt', '42. Silencer Fix-10.prt', '42. Silencer Fix.prt', '42. Silencer Fix-03.prt', '42. Silencer Fix-04.prt', '42. Silencer Fix-05.prt', '42. Silencer Fix-08.prt', '42. Silencer Fix-09.prt', '43. Extractor-10.prt']\n",
      "---\n",
      "Query: 42. Silencer Fix-03.prt\n",
      "Top-10: ['42. Silencer Fix-03.prt', '42. Silencer Fix-04.prt', '42. Silencer Fix-08.prt', '42. Silencer Fix-05.prt', '42. Silencer Fix.prt', '42. Silencer Fix-09.prt', '42. Silencer Fix-02.prt', '42. Silencer Fix-01.prt', '42. Silencer Fix-10.prt', '42. Silencer Fix-06.prt']\n",
      "---\n",
      "Query: 42. Silencer Fix-04.prt\n",
      "Top-10: ['42. Silencer Fix-04.prt', '42. Silencer Fix-08.prt', '42. Silencer Fix-05.prt', '42. Silencer Fix-03.prt', '42. Silencer Fix-09.prt', '42. Silencer Fix.prt', '42. Silencer Fix-10.prt', '42. Silencer Fix-02.prt', '42. Silencer Fix-01.prt', '42. Silencer Fix-06.prt']\n",
      "---\n"
     ]
    }
   ],
   "source": [
    "ckpt = MODELS_DIR / \"ssl-brep-epoch=32-val_infoNCE_acc=0.696.ckpt\"\n",
    "# BREPNET_NPZ_DIR = PROCESSED_DATA_DIR / \"test\" / \"features\" / \"42. Ejector\"\n",
    "data_dir = Path(BREPNET_NPZ_DIR)\n",
    "ids, E = extract_embeddings(ckpt, data_dir)\n",
    "\n",
    "topk_idx = topk_similar(E, k=10)\n",
    "for i, nn_idx in enumerate(topk_idx[:15]):\n",
    "    print(\"Query:\", ids[i])\n",
    "    print(\"Top-10:\", [ids[j] for j in nn_idx])\n",
    "    print(\"---\")"
   ]
  },
  {
   "cell_type": "code",
   "execution_count": null,
   "id": "860572f3",
   "metadata": {},
   "outputs": [],
   "source": [
    "# retrieval/search_by_name.py\n",
    "from __future__ import annotations\n",
    "from typing import List, Tuple, Optional\n",
    "import numpy as np\n",
    "\n",
    "\n",
    "def find_query_indices(ids: List[str], query: str, case_insensitive: bool = True) -> List[int]:\n",
    "    \"\"\"\n",
    "    Возвращает список индексов моделей, чьи имена содержат query (подстрока).\n",
    "    \"\"\"\n",
    "    q = query.lower() if case_insensitive else query\n",
    "    hits = []\n",
    "    for i, name in enumerate(ids):\n",
    "        s = name.lower() if case_insensitive else name\n",
    "        if q in s:\n",
    "            hits.append(i)\n",
    "    return hits\n",
    "\n",
    "\n",
    "def cosine_similarity_matrix(E: np.ndarray) -> np.ndarray:\n",
    "    \"\"\"\n",
    "    Предполагается, что E уже L2-нормирован по строкам. Возвращает S=E@E^T.\n",
    "    \"\"\"\n",
    "    return E @ E.T\n",
    "\n",
    "\n",
    "def rank_all_by_query(\n",
    "    ids: List[str],\n",
    "    E: np.ndarray,\n",
    "    query_idx: int,\n",
    "    include_self: bool = True,\n",
    ") -> List[Tuple[int, float, str]]:\n",
    "    \"\"\"\n",
    "    Ранжирует все объекты датасета по косинусной схожести с указанным query_idx.\n",
    "    Возвращает список (rank, similarity, name) для всего набора.\n",
    "    \"\"\"\n",
    "    assert 0 <= query_idx < len(ids)\n",
    "    s = (E[query_idx:query_idx+1] @ E.T).ravel()            # [N]\n",
    "    if not include_self:\n",
    "        s[query_idx] = -1.0\n",
    "    order = np.argsort(-s)                                  # type: ignore\n",
    "    out: List[Tuple[int, float, str]] = []\n",
    "    for rank, j in enumerate(order, start=1):\n",
    "        sim = float(s[j])\n",
    "        out.append((rank, sim, ids[j]))\n",
    "    return out\n",
    "\n",
    "\n",
    "def search_by_name(\n",
    "    ids: List[str],\n",
    "    E: np.ndarray,\n",
    "    query_name: str,\n",
    "    include_self: bool = True,\n",
    "    max_print: Optional[int] = 50,\n",
    ") -> List[Tuple[int, float, str]]:\n",
    "    \"\"\"\n",
    "    Находит по имени/подстроке все совпадения и печатает ранжированный список по косинусу для каждого совпадения.\n",
    "    Возвращает последний сформированный список (если матчей несколько).\n",
    "    \"\"\"\n",
    "    hits = find_query_indices(ids, query_name)\n",
    "    if len(hits) == 0:\n",
    "        print(f\"Запрос '{query_name}': совпадений не найдено\")\n",
    "        return []\n",
    "    last_result: List[Tuple[int, float, str]] = []\n",
    "    for idx in hits:\n",
    "        print(f\"\\nЗапрос: {ids[idx]}\")\n",
    "        ranked = rank_all_by_query(ids, E, idx, include_self=include_self)\n",
    "        last_result = ranked\n",
    "        # формат: номер, %, имя\n",
    "        for rank, sim, name in (ranked if max_print is None else ranked[:max_print]):\n",
    "            pct = round(100.0 * sim, 2)\n",
    "            print(f\"{rank:4d}. {pct:6.2f}%  {name}\")\n",
    "    return last_result"
   ]
  },
  {
   "cell_type": "code",
   "execution_count": 116,
   "id": "e713bf5a",
   "metadata": {},
   "outputs": [
    {
     "name": "stdout",
     "output_type": "stream",
     "text": [
      "\n",
      "Запрос: Затвор 1.prt\n",
      "   1. 100.00%  Затвор 1.prt\n",
      "   2.  99.94%  Затвор 2.prt\n",
      "   3.  99.78%  Затвор 3.prt\n",
      "   4.  99.73%  Затвор.prt\n",
      "   5.  98.63%  Колодка прицельная 2.prt\n",
      "   6.  98.43%  Защелка 2.prt\n",
      "   7.  98.42%  Защелка 3.prt\n",
      "   8.  98.35%  Затвор 5.prt\n",
      "   9.  98.35%  Затвор 6.prt\n",
      "  10.  98.35%  Затвор 9.prt\n",
      "  11.  98.35%  Затвор 7.prt\n",
      "  12.  98.34%  Затвор 8.prt\n",
      "  13.  98.33%  Кожух 6.prt\n",
      "  14.  98.33%  Защелка АК 6.prt\n",
      "  15.  98.33%  Кожух 8.prt\n",
      "  16.  98.32%  Защелка АК 8.prt\n",
      "  17.  98.32%  Защелка АК 7.prt\n",
      "  18.  98.32%  Кожух 7.prt\n",
      "  19.  98.31%  Защелка АК 4.prt\n",
      "  20.  98.31%  Защелка 6.prt\n",
      "  21.  98.30%  Защелка 9.prt\n",
      "  22.  98.29%  Защелка 8.prt\n",
      "  23.  98.27%  Защелка 7.prt\n",
      "  24.  98.27%  Защелка АК 5.prt\n",
      "  25.  98.27%  Камера газовая 1.prt\n",
      "  26.  98.26%  Затвор 4.prt\n",
      "  27.  98.25%  Защелка АК 3.prt\n",
      "  28.  98.22%  Камера газовая.prt\n",
      "  29.  98.21%  Колодка приклада 9.prt\n",
      "  30.  98.20%  Колодка приклада 8.prt\n"
     ]
    }
   ],
   "source": [
    "ckpt = MODELS_DIR / \"ssl-brep-epoch=32-val_infoNCE_acc=0.696.ckpt\"\n",
    "# BREPNET_NPZ_DIR = PROCESSED_DATA_DIR / \"test\" / \"features\" / \"Затвор\"\n",
    "\n",
    "ids, E = extract_embeddings(model_ckpt=ckpt, data_dir=BREPNET_NPZ_DIR)\n",
    "\n",
    "\n",
    "results = search_by_name(ids, E, query_name=\"Затвор 1.prt\", include_self=True, max_print=30)\n",
    "\n",
    "# for rank, sim, name in results:\n",
    "#     print(f\"{rank:4d}. {sim:6.2f}  {name}\")\n",
    "\n",
    "\n",
    "# _ = search_by_name(ids, E, query_name=\"42. Ejector_body_1.stp\", include_self=False, max_print=20)"
   ]
  },
  {
   "cell_type": "code",
   "execution_count": null,
   "id": "7ba15734",
   "metadata": {},
   "outputs": [
    {
     "name": "stdout",
     "output_type": "stream",
     "text": [
      "Dataset item keys: ['model_id', 'step_path', 'brepnet_features', 'dino_features', 'face_features', 'face_point_grids', 'edge_features', 'coedge_features', 'coedge_point_grids', 'coedge_lcs', 'coedge_scale_factors', 'coedge_reverse_flags', 'coedge_to_next', 'coedge_to_mate', 'coedge_to_face', 'coedge_to_edge']\n",
      "Model ID: 44. Extractor Pin-04\n",
      "STEP file path: D:\\workspace\\projects\\freelance\\Fusion3DNet\\data\\processed\\dataset_129\\stp\\44. Extractor Pin-04.prt.stp\n",
      "BRepNet features shape: (7, 17)\n",
      "DINO features shape: (8, 384)\n",
      "Face features shape: [[-0.81062318  1.21544925 -0.24000889 -0.07543912 -0.24188691  4.78253405\n",
      "  -0.11125885]\n",
      " [ 1.23349414 -0.82265791 -0.24000889 -0.07543912 -0.24188691  0.01020785\n",
      "  -0.11125885]\n",
      " [ 1.23349414 -0.82265791 -0.24000889 -0.07543912 -0.24188691 -0.03362011\n",
      "  -0.11125885]\n",
      " [-0.81062318 -0.82265791  4.16609125 -0.07543912 -0.24188691 -0.18844317\n",
      "  -0.11125885]\n",
      " [-0.81062318 -0.82265791  4.16609125 -0.07543912 -0.24188691 -0.16069746\n",
      "  -0.11125885]\n",
      " [-0.81062318  1.21544925 -0.24000889 -0.07543912 -0.24188691 -0.09551432\n",
      "  -0.11125885]\n",
      " [ 1.23349414 -0.82265791 -0.24000889 -0.07543912 -0.24188691  0.08270695\n",
      "  -0.11125885]]\n"
     ]
    }
   ],
   "source": [
    "query_id = 37\n",
    "\n",
    "dataset_item = dataset[query_id]\n",
    "print(f\"Dataset item keys: {list(dataset_item.keys())}\")\n",
    "print(f'Model ID: {dataset_item[\"model_id\"]}')\n",
    "print(f'STEP file path: {dataset_item[\"step_path\"]}')\n",
    "\n",
    "print(f\"BRepNet features shape: {dataset_item['brepnet_features'].shape}\")\n",
    "print(f\"DINO features shape: {dataset_item['dino_features'].shape}\")\n",
    "print(f\"Face features shape: {dataset_item['face_features']}\")"
   ]
  },
  {
   "cell_type": "code",
   "execution_count": null,
   "id": "216d9903",
   "metadata": {},
   "outputs": [
    {
     "name": "stdout",
     "output_type": "stream",
     "text": [
      "21: 42. Silencer Fix-10 | prismatic\n",
      "32: 43. Extractor-10 | prismatic\n",
      "63: Зацеп трубки направляющий 8 | prismatic\n",
      "65: Защелка | prismatic\n",
      "66: Защелка 1 | prismatic\n",
      "67: Защелка 10 | prismatic\n",
      "68: Защелка 2 | prismatic\n",
      "69: Защелка 3 | prismatic\n",
      "70: Защелка 4 | prismatic\n",
      "71: Защелка 5 | prismatic\n",
      "72: Защелка 6 | prismatic\n",
      "73: Защелка 7 | prismatic\n",
      "74: Защелка 8 | prismatic\n",
      "75: Защелка 9 | prismatic\n"
     ]
    }
   ],
   "source": [
    "import numpy as np\n",
    "\n",
    "def get_main_shape(face_features):\n",
    "    is_plane = face_features[:, 0]\n",
    "    is_cylinder = face_features[:, 1]\n",
    "    is_cone = face_features[:, 2]\n",
    "    is_sphere = face_features[:, 3]\n",
    "    is_torus = face_features[:, 4]\n",
    "    areas = face_features[:, 5]\n",
    "\n",
    "    total_area = areas.sum()\n",
    "    plane_area = areas[is_plane > 0.0].sum()\n",
    "    cylinder_area = areas[is_cylinder > 0.0].sum()\n",
    "    cone_area = areas[is_cone > 0.0].sum()  \n",
    "    sphere_area = areas[is_sphere > 0.0].sum()\n",
    "    torus_area = areas[is_torus > 0.0].sum()\n",
    "\n",
    "    # Основная форма — по максимальной доле площади\n",
    "    shape_areas = {\n",
    "        \"prismatic\": plane_area, # плоские и призматические\n",
    "        \"cylindrical\": cylinder_area, # цилиндрические\n",
    "        \"conical\": cone_area, # конические\n",
    "        \"spherical\": sphere_area, # сферические\n",
    "        \"toroidal\": torus_area # тороидальные\n",
    "    }\n",
    "    main_shape = max(shape_areas, key=lambda k: shape_areas[k])\n",
    "    if shape_areas[main_shape] / total_area < 0.5:\n",
    "        return \"mixed\"\n",
    "    return main_shape\n",
    "\n",
    "# Для всего датасета\n",
    "shape_labels = [get_main_shape(item['brepnet_features']) for item in dataset]\n",
    "\n",
    "# Пример: вывести все цилиндрические детали\n",
    "for idx, label in enumerate(shape_labels):\n",
    "    if label == \"prismatic\":\n",
    "        print(f\"{idx}: {dataset[idx]['model_id']} | {label}\")\n",
    "\n"
   ]
  }
 ],
 "metadata": {
  "kernelspec": {
   "display_name": "brepnet",
   "language": "python",
   "name": "python3"
  },
  "language_info": {
   "codemirror_mode": {
    "name": "ipython",
    "version": 3
   },
   "file_extension": ".py",
   "mimetype": "text/x-python",
   "name": "python",
   "nbconvert_exporter": "python",
   "pygments_lexer": "ipython3",
   "version": "3.11.13"
  }
 },
 "nbformat": 4,
 "nbformat_minor": 5
}
