{
 "cells": [
  {
   "cell_type": "code",
   "execution_count": 2,
   "id": "a4449ade",
   "metadata": {},
   "outputs": [
    {
     "name": "stderr",
     "output_type": "stream",
     "text": [
      "\u001b[32m2025-09-18 21:35:16.026\u001b[0m | \u001b[1mINFO    \u001b[0m | \u001b[36msrc.config\u001b[0m:\u001b[36m<module>\u001b[0m:\u001b[36m11\u001b[0m - \u001b[1mPROJ_ROOT path is: D:\\workspace\\projects\\freelance\\Fusion3DNet\u001b[0m\n"
     ]
    },
    {
     "name": "stdout",
     "output_type": "stream",
     "text": [
      "Project root added to path: d:\\workspace\\projects\\freelance\\Fusion3DNet\n"
     ]
    }
   ],
   "source": [
    "%load_ext autoreload\n",
    "%autoreload 2\n",
    "import notebook_setup\n",
    "from src.config import INTERIM_DATA_DIR, PROCESSED_DATA_DIR, REPORTS_DIR, EXTERNAL_DATA_DIR, MODELS_DIR\n",
    "import os\n",
    "os.environ[\"KMP_DUPLICATE_LIB_OK\"] = \"TRUE\"\n",
    "os.environ[\"OMP_NUM_THREADS\"] = \"4\"\n",
    "os.environ[\"MKL_NUM_THREADS\"] = \"4\"\n",
    "\n",
    "BREPNET_NPZ_DIR = INTERIM_DATA_DIR / \"features\" / \"brepnet\""
   ]
  },
  {
   "cell_type": "code",
   "execution_count": 3,
   "id": "d729293c",
   "metadata": {},
   "outputs": [
    {
     "name": "stdout",
     "output_type": "stream",
     "text": [
      "face_features (9, 7)\n",
      "face_point_grids (9, 7, 10, 10)\n",
      "edge_features (16, 10)\n",
      "coedge_point_grids (31, 12, 10)\n",
      "coedge_features (31, 1)\n",
      "coedge_lcs (31, 4, 4)\n",
      "coedge_scale_factors (31,)\n",
      "coedge_reverse_flags (31,)\n",
      "next (31,)\n",
      "mate (31,)\n",
      "face (31,)\n",
      "edge (31,)\n"
     ]
    }
   ],
   "source": [
    "import numpy as np\n",
    "from pathlib import Path\n",
    "files = list(Path(BREPNET_NPZ_DIR).glob(\"*.npz\"))\n",
    "\n",
    "feats = np.load(files[0], allow_pickle=True)\n",
    "\n",
    "for k, v in feats.items():\n",
    "    print(k, v.shape)"
   ]
  },
  {
   "cell_type": "code",
   "execution_count": 4,
   "id": "112c8a00",
   "metadata": {},
   "outputs": [
    {
     "name": "stdout",
     "output_type": "stream",
     "text": [
      "Dataset length: 129\n",
      "HeteroData(\n",
      "  face={\n",
      "    x=[9, 7],\n",
      "    uv=[9, 7, 10, 10],\n",
      "    num_nodes=9,\n",
      "  },\n",
      "  edge={\n",
      "    x=[16, 10],\n",
      "    num_nodes=16,\n",
      "  },\n",
      "  coedge={\n",
      "    x=[31, 1],\n",
      "    grid=[31, 12, 10],\n",
      "    lcs=[31, 4, 4],\n",
      "    scale=[31],\n",
      "    reverse=[31],\n",
      "    num_nodes=31,\n",
      "  },\n",
      "  (coedge, next, coedge)={ edge_index=[2, 31] },\n",
      "  (coedge, mate, coedge)={ edge_index=[2, 31] },\n",
      "  (coedge, to_face, face)={ edge_index=[2, 31] },\n",
      "  (coedge, to_edge, edge)={ edge_index=[2, 31] }\n",
      ")\n"
     ]
    }
   ],
   "source": [
    "from src.modeling.ssl_graph_brep.data_module.brep_dataset import BRepNPZDataset\n",
    "\n",
    "dataset = BRepNPZDataset(BREPNET_NPZ_DIR)\n",
    "print(f\"Dataset length: {len(dataset)}\")\n",
    "g = dataset.get(0)\n",
    "print(g)\n",
    "\n",
    "for k, v in g.items():\n",
    "    print(k, v.shape if hasattr(v, \"shape\") else v)"
   ]
  },
  {
   "cell_type": "code",
   "execution_count": 5,
   "id": "61ab1481",
   "metadata": {},
   "outputs": [
    {
     "name": "stderr",
     "output_type": "stream",
     "text": [
      "d:\\dev\\.miniconda\\envs\\brepnet\\Lib\\site-packages\\torchvision\\io\\image.py:13: UserWarning: Failed to load image Python extension: '[WinError 127] Не найдена указанная процедура'If you don't plan on using image functionality from `torchvision.io`, you can ignore this warning. Otherwise, there might be something wrong with your environment. Did you have `libjpeg` or `libpng` installed before building `torchvision` from source?\n",
      "  warn(\n"
     ]
    },
    {
     "name": "stdout",
     "output_type": "stream",
     "text": [
      "HeteroDataBatch(\n",
      "  face={\n",
      "    x=[2558, 7],\n",
      "    uv=[2558, 7, 10, 10],\n",
      "    num_nodes=2558,\n",
      "    batch=[2558],\n",
      "    ptr=[33],\n",
      "  },\n",
      "  edge={\n",
      "    x=[7123, 10],\n",
      "    num_nodes=7123,\n",
      "    batch=[7123],\n",
      "    ptr=[33],\n",
      "  },\n",
      "  coedge={\n",
      "    x=[14217, 1],\n",
      "    grid=[14217, 12, 10],\n",
      "    lcs=[14217, 4, 4],\n",
      "    scale=[14217],\n",
      "    reverse=[14217],\n",
      "    num_nodes=14217,\n",
      "    batch=[14217],\n",
      "    ptr=[33],\n",
      "  },\n",
      "  (coedge, next, coedge)={ edge_index=[2, 14217] },\n",
      "  (coedge, mate, coedge)={ edge_index=[2, 14217] },\n",
      "  (coedge, to_face, face)={ edge_index=[2, 14217] },\n",
      "  (coedge, to_edge, edge)={ edge_index=[2, 14217] }\n",
      ")\n"
     ]
    },
    {
     "name": "stderr",
     "output_type": "stream",
     "text": [
      "d:\\dev\\.miniconda\\envs\\brepnet\\Lib\\site-packages\\torch\\utils\\data\\dataloader.py:666: UserWarning: 'pin_memory' argument is set as true but no accelerator is found, then device pinned memory won't be used.\n",
      "  warnings.warn(warn_msg)\n"
     ]
    }
   ],
   "source": [
    "from src.modeling.ssl_graph_brep.data_module.brep_data_loader import BRepDataModule\n",
    "data_module = BRepDataModule(BREPNET_NPZ_DIR, batch_size=32, num_workers=0)\n",
    "data_module.setup()\n",
    "\n",
    "batch = next(iter(data_module.train_dataloader()))\n",
    "print(batch)"
   ]
  },
  {
   "cell_type": "code",
   "execution_count": 9,
   "id": "66650655",
   "metadata": {},
   "outputs": [
    {
     "name": "stderr",
     "output_type": "stream",
     "text": [
      "GPU available: False, used: False\n",
      "TPU available: False, using: 0 TPU cores\n",
      "HPU available: False, using: 0 HPUs\n",
      "d:\\dev\\.miniconda\\envs\\brepnet\\Lib\\site-packages\\pytorch_lightning\\callbacks\\model_checkpoint.py:701: Checkpoint directory D:\\workspace\\projects\\freelance\\Fusion3DNet\\models\\ssl_brep exists and is not empty.\n",
      "W0918 21:38:43.336000 11152 site-packages\\torch\\distributed\\elastic\\multiprocessing\\redirects.py:29] NOTE: Redirects are currently not supported in Windows or MacOs.\n",
      "d:\\dev\\.miniconda\\envs\\brepnet\\Lib\\site-packages\\pytorch_lightning\\utilities\\model_summary\\model_summary.py:493: The total number of parameters detected may be inaccurate because the model contains an instance of `UninitializedParameter`. To get an accurate number, set `self.example_input_array` in your LightningModule.\n",
      "\n",
      "  | Name        | Type                | Params | Mode \n",
      "------------------------------------------------------------\n",
      "0 | face_enc    | UVNetSurfaceEncoder | 390 K  | train\n",
      "1 | coedge_enc  | UVNetCurveEncoder   | 142 K  | train\n",
      "2 | edge_lin    | Linear              | 704    | train\n",
      "3 | gnn         | BRepHeteroGNN       | 25.5 K | train\n",
      "4 | projector   | Sequential          | 49.5 K | train\n",
      "5 | scorer_next | BilinearScorer      | 16.4 K | train\n",
      "6 | scorer_mate | BilinearScorer      | 16.4 K | train\n",
      "------------------------------------------------------------\n",
      "641 K     Trainable params\n",
      "0         Non-trainable params\n",
      "641 K     Total params\n",
      "2.565     Total estimated model params size (MB)\n",
      "84        Modules in train mode\n",
      "0         Modules in eval mode\n"
     ]
    },
    {
     "data": {
      "application/vnd.jupyter.widget-view+json": {
       "model_id": "ca193c1e0f7e473aaf613a7099c9a8c6",
       "version_major": 2,
       "version_minor": 0
      },
      "text/plain": [
       "Sanity Checking: |          | 0/? [00:00<?, ?it/s]"
      ]
     },
     "metadata": {},
     "output_type": "display_data"
    },
    {
     "name": "stderr",
     "output_type": "stream",
     "text": [
      "d:\\dev\\.miniconda\\envs\\brepnet\\Lib\\site-packages\\pytorch_lightning\\trainer\\connectors\\data_connector.py:433: The 'val_dataloader' does not have many workers which may be a bottleneck. Consider increasing the value of the `num_workers` argument` to `num_workers=7` in the `DataLoader` to improve performance.\n",
      "d:\\dev\\.miniconda\\envs\\brepnet\\Lib\\site-packages\\torch\\utils\\data\\dataloader.py:666: UserWarning: 'pin_memory' argument is set as true but no accelerator is found, then device pinned memory won't be used.\n",
      "  warnings.warn(warn_msg)\n",
      "d:\\dev\\.miniconda\\envs\\brepnet\\Lib\\site-packages\\pytorch_lightning\\trainer\\connectors\\data_connector.py:433: The 'train_dataloader' does not have many workers which may be a bottleneck. Consider increasing the value of the `num_workers` argument` to `num_workers=7` in the `DataLoader` to improve performance.\n",
      "d:\\dev\\.miniconda\\envs\\brepnet\\Lib\\site-packages\\pytorch_lightning\\loops\\fit_loop.py:310: The number of training batches (3) is smaller than the logging interval Trainer(log_every_n_steps=10). Set a lower value for log_every_n_steps if you want to see logs for the training epoch.\n"
     ]
    },
    {
     "data": {
      "application/vnd.jupyter.widget-view+json": {
       "model_id": "0c6cb06fe38643d08e96d27bfbb964be",
       "version_major": 2,
       "version_minor": 0
      },
      "text/plain": [
       "Training: |          | 0/? [00:00<?, ?it/s]"
      ]
     },
     "metadata": {},
     "output_type": "display_data"
    },
    {
     "data": {
      "application/vnd.jupyter.widget-view+json": {
       "model_id": "ebb525fdd199419482cc7004e0e7c663",
       "version_major": 2,
       "version_minor": 0
      },
      "text/plain": [
       "Validation: |          | 0/? [00:00<?, ?it/s]"
      ]
     },
     "metadata": {},
     "output_type": "display_data"
    },
    {
     "data": {
      "application/vnd.jupyter.widget-view+json": {
       "model_id": "815b2c169c7c4a119ea16b2c044bf7b5",
       "version_major": 2,
       "version_minor": 0
      },
      "text/plain": [
       "Validation: |          | 0/? [00:00<?, ?it/s]"
      ]
     },
     "metadata": {},
     "output_type": "display_data"
    },
    {
     "data": {
      "application/vnd.jupyter.widget-view+json": {
       "model_id": "af1d2e7631a04f3ea352a72104fbe4fb",
       "version_major": 2,
       "version_minor": 0
      },
      "text/plain": [
       "Validation: |          | 0/? [00:00<?, ?it/s]"
      ]
     },
     "metadata": {},
     "output_type": "display_data"
    },
    {
     "data": {
      "application/vnd.jupyter.widget-view+json": {
       "model_id": "563debfa11a54acab87c59764f138046",
       "version_major": 2,
       "version_minor": 0
      },
      "text/plain": [
       "Validation: |          | 0/? [00:00<?, ?it/s]"
      ]
     },
     "metadata": {},
     "output_type": "display_data"
    },
    {
     "data": {
      "application/vnd.jupyter.widget-view+json": {
       "model_id": "8ce6784b70b141f3b0b2ec45df8cec3d",
       "version_major": 2,
       "version_minor": 0
      },
      "text/plain": [
       "Validation: |          | 0/? [00:00<?, ?it/s]"
      ]
     },
     "metadata": {},
     "output_type": "display_data"
    },
    {
     "data": {
      "application/vnd.jupyter.widget-view+json": {
       "model_id": "5aeaad9d8b824a1b8f80787ea87b7718",
       "version_major": 2,
       "version_minor": 0
      },
      "text/plain": [
       "Validation: |          | 0/? [00:00<?, ?it/s]"
      ]
     },
     "metadata": {},
     "output_type": "display_data"
    },
    {
     "data": {
      "application/vnd.jupyter.widget-view+json": {
       "model_id": "e8dc4b5b31c9413f85f8e02a5863c830",
       "version_major": 2,
       "version_minor": 0
      },
      "text/plain": [
       "Validation: |          | 0/? [00:00<?, ?it/s]"
      ]
     },
     "metadata": {},
     "output_type": "display_data"
    },
    {
     "data": {
      "application/vnd.jupyter.widget-view+json": {
       "model_id": "a92e3069f0954fd88ebdf65cf08897d0",
       "version_major": 2,
       "version_minor": 0
      },
      "text/plain": [
       "Validation: |          | 0/? [00:00<?, ?it/s]"
      ]
     },
     "metadata": {},
     "output_type": "display_data"
    },
    {
     "data": {
      "application/vnd.jupyter.widget-view+json": {
       "model_id": "b7fb1e408e274326b6a5d1d499c5c6c9",
       "version_major": 2,
       "version_minor": 0
      },
      "text/plain": [
       "Validation: |          | 0/? [00:00<?, ?it/s]"
      ]
     },
     "metadata": {},
     "output_type": "display_data"
    },
    {
     "data": {
      "application/vnd.jupyter.widget-view+json": {
       "model_id": "ce60e7e59bf94e6d8133ad101955127e",
       "version_major": 2,
       "version_minor": 0
      },
      "text/plain": [
       "Validation: |          | 0/? [00:00<?, ?it/s]"
      ]
     },
     "metadata": {},
     "output_type": "display_data"
    },
    {
     "data": {
      "application/vnd.jupyter.widget-view+json": {
       "model_id": "9e27a54ccb25447fa0711157a82f6f74",
       "version_major": 2,
       "version_minor": 0
      },
      "text/plain": [
       "Validation: |          | 0/? [00:00<?, ?it/s]"
      ]
     },
     "metadata": {},
     "output_type": "display_data"
    },
    {
     "data": {
      "application/vnd.jupyter.widget-view+json": {
       "model_id": "b62c3b07df9846b8a77be52430c157b0",
       "version_major": 2,
       "version_minor": 0
      },
      "text/plain": [
       "Validation: |          | 0/? [00:00<?, ?it/s]"
      ]
     },
     "metadata": {},
     "output_type": "display_data"
    },
    {
     "data": {
      "application/vnd.jupyter.widget-view+json": {
       "model_id": "27adfbe6604f45fe85c384ec6fa376f6",
       "version_major": 2,
       "version_minor": 0
      },
      "text/plain": [
       "Validation: |          | 0/? [00:00<?, ?it/s]"
      ]
     },
     "metadata": {},
     "output_type": "display_data"
    },
    {
     "data": {
      "application/vnd.jupyter.widget-view+json": {
       "model_id": "bb9d404e1af94cfabf19c852e522ceb3",
       "version_major": 2,
       "version_minor": 0
      },
      "text/plain": [
       "Validation: |          | 0/? [00:00<?, ?it/s]"
      ]
     },
     "metadata": {},
     "output_type": "display_data"
    },
    {
     "data": {
      "application/vnd.jupyter.widget-view+json": {
       "model_id": "e064bf0919ad4863b3b4d71ef1af338c",
       "version_major": 2,
       "version_minor": 0
      },
      "text/plain": [
       "Validation: |          | 0/? [00:00<?, ?it/s]"
      ]
     },
     "metadata": {},
     "output_type": "display_data"
    },
    {
     "data": {
      "application/vnd.jupyter.widget-view+json": {
       "model_id": "df600b469cbc4fad859b09a29abfcfb8",
       "version_major": 2,
       "version_minor": 0
      },
      "text/plain": [
       "Validation: |          | 0/? [00:00<?, ?it/s]"
      ]
     },
     "metadata": {},
     "output_type": "display_data"
    },
    {
     "data": {
      "application/vnd.jupyter.widget-view+json": {
       "model_id": "d7923effc97d40e3b57dae023039bfae",
       "version_major": 2,
       "version_minor": 0
      },
      "text/plain": [
       "Validation: |          | 0/? [00:00<?, ?it/s]"
      ]
     },
     "metadata": {},
     "output_type": "display_data"
    },
    {
     "data": {
      "application/vnd.jupyter.widget-view+json": {
       "model_id": "48714bac2d3d4c70ad68269f4eabe917",
       "version_major": 2,
       "version_minor": 0
      },
      "text/plain": [
       "Validation: |          | 0/? [00:00<?, ?it/s]"
      ]
     },
     "metadata": {},
     "output_type": "display_data"
    },
    {
     "data": {
      "application/vnd.jupyter.widget-view+json": {
       "model_id": "bfbe476f3da94bcf80a6b570d389e26d",
       "version_major": 2,
       "version_minor": 0
      },
      "text/plain": [
       "Validation: |          | 0/? [00:00<?, ?it/s]"
      ]
     },
     "metadata": {},
     "output_type": "display_data"
    },
    {
     "data": {
      "application/vnd.jupyter.widget-view+json": {
       "model_id": "29f87f8c49184a08aa8276b5a65cf7cb",
       "version_major": 2,
       "version_minor": 0
      },
      "text/plain": [
       "Validation: |          | 0/? [00:00<?, ?it/s]"
      ]
     },
     "metadata": {},
     "output_type": "display_data"
    },
    {
     "data": {
      "application/vnd.jupyter.widget-view+json": {
       "model_id": "e676e3358c9a491290792d2c923ffbd6",
       "version_major": 2,
       "version_minor": 0
      },
      "text/plain": [
       "Validation: |          | 0/? [00:00<?, ?it/s]"
      ]
     },
     "metadata": {},
     "output_type": "display_data"
    },
    {
     "data": {
      "application/vnd.jupyter.widget-view+json": {
       "model_id": "fea3969d25054f1ca739c6e0c2a4beee",
       "version_major": 2,
       "version_minor": 0
      },
      "text/plain": [
       "Validation: |          | 0/? [00:00<?, ?it/s]"
      ]
     },
     "metadata": {},
     "output_type": "display_data"
    },
    {
     "data": {
      "application/vnd.jupyter.widget-view+json": {
       "model_id": "47cba0d731634629a427a50cf4333e99",
       "version_major": 2,
       "version_minor": 0
      },
      "text/plain": [
       "Validation: |          | 0/? [00:00<?, ?it/s]"
      ]
     },
     "metadata": {},
     "output_type": "display_data"
    },
    {
     "data": {
      "application/vnd.jupyter.widget-view+json": {
       "model_id": "f67a575ea5e343fabcc7dbc556c1ae37",
       "version_major": 2,
       "version_minor": 0
      },
      "text/plain": [
       "Validation: |          | 0/? [00:00<?, ?it/s]"
      ]
     },
     "metadata": {},
     "output_type": "display_data"
    },
    {
     "data": {
      "application/vnd.jupyter.widget-view+json": {
       "model_id": "1c7603f911c54e51aed0eb1d1c6e365a",
       "version_major": 2,
       "version_minor": 0
      },
      "text/plain": [
       "Validation: |          | 0/? [00:00<?, ?it/s]"
      ]
     },
     "metadata": {},
     "output_type": "display_data"
    },
    {
     "data": {
      "application/vnd.jupyter.widget-view+json": {
       "model_id": "f0af3a2b1361467c91c27aeffd2c1ccc",
       "version_major": 2,
       "version_minor": 0
      },
      "text/plain": [
       "Validation: |          | 0/? [00:00<?, ?it/s]"
      ]
     },
     "metadata": {},
     "output_type": "display_data"
    },
    {
     "data": {
      "application/vnd.jupyter.widget-view+json": {
       "model_id": "8afe1cde96a042508e0dc2a763fdfca3",
       "version_major": 2,
       "version_minor": 0
      },
      "text/plain": [
       "Validation: |          | 0/? [00:00<?, ?it/s]"
      ]
     },
     "metadata": {},
     "output_type": "display_data"
    },
    {
     "data": {
      "application/vnd.jupyter.widget-view+json": {
       "model_id": "74c9c5bf8c6c463f96a9fc29b284f5f4",
       "version_major": 2,
       "version_minor": 0
      },
      "text/plain": [
       "Validation: |          | 0/? [00:00<?, ?it/s]"
      ]
     },
     "metadata": {},
     "output_type": "display_data"
    },
    {
     "data": {
      "application/vnd.jupyter.widget-view+json": {
       "model_id": "c7be5ac1ac0c4a57b128851f477e3416",
       "version_major": 2,
       "version_minor": 0
      },
      "text/plain": [
       "Validation: |          | 0/? [00:00<?, ?it/s]"
      ]
     },
     "metadata": {},
     "output_type": "display_data"
    },
    {
     "data": {
      "application/vnd.jupyter.widget-view+json": {
       "model_id": "ef22e54206964d40a70e89d0040bc962",
       "version_major": 2,
       "version_minor": 0
      },
      "text/plain": [
       "Validation: |          | 0/? [00:00<?, ?it/s]"
      ]
     },
     "metadata": {},
     "output_type": "display_data"
    },
    {
     "data": {
      "application/vnd.jupyter.widget-view+json": {
       "model_id": "75c40db417004c87981a4dcab68c1f29",
       "version_major": 2,
       "version_minor": 0
      },
      "text/plain": [
       "Validation: |          | 0/? [00:00<?, ?it/s]"
      ]
     },
     "metadata": {},
     "output_type": "display_data"
    },
    {
     "data": {
      "application/vnd.jupyter.widget-view+json": {
       "model_id": "fc2a4fad8b264fc38310035272ae3852",
       "version_major": 2,
       "version_minor": 0
      },
      "text/plain": [
       "Validation: |          | 0/? [00:00<?, ?it/s]"
      ]
     },
     "metadata": {},
     "output_type": "display_data"
    },
    {
     "data": {
      "application/vnd.jupyter.widget-view+json": {
       "model_id": "d8fca1e9dc1a400cb04f7ca7959600ac",
       "version_major": 2,
       "version_minor": 0
      },
      "text/plain": [
       "Validation: |          | 0/? [00:00<?, ?it/s]"
      ]
     },
     "metadata": {},
     "output_type": "display_data"
    },
    {
     "data": {
      "application/vnd.jupyter.widget-view+json": {
       "model_id": "eadca0b270de4f81aef4c724b37f21f7",
       "version_major": 2,
       "version_minor": 0
      },
      "text/plain": [
       "Validation: |          | 0/? [00:00<?, ?it/s]"
      ]
     },
     "metadata": {},
     "output_type": "display_data"
    },
    {
     "data": {
      "application/vnd.jupyter.widget-view+json": {
       "model_id": "5bd25b54ed1b4297a39ef5bf0d74453c",
       "version_major": 2,
       "version_minor": 0
      },
      "text/plain": [
       "Validation: |          | 0/? [00:00<?, ?it/s]"
      ]
     },
     "metadata": {},
     "output_type": "display_data"
    },
    {
     "data": {
      "application/vnd.jupyter.widget-view+json": {
       "model_id": "f276660d7e564503a68d8e946c2b7ddb",
       "version_major": 2,
       "version_minor": 0
      },
      "text/plain": [
       "Validation: |          | 0/? [00:00<?, ?it/s]"
      ]
     },
     "metadata": {},
     "output_type": "display_data"
    },
    {
     "data": {
      "application/vnd.jupyter.widget-view+json": {
       "model_id": "b1805cff428749738b8dfa66495606c2",
       "version_major": 2,
       "version_minor": 0
      },
      "text/plain": [
       "Validation: |          | 0/? [00:00<?, ?it/s]"
      ]
     },
     "metadata": {},
     "output_type": "display_data"
    },
    {
     "data": {
      "application/vnd.jupyter.widget-view+json": {
       "model_id": "049fbd6e49634c9fbe5510148bd7efc3",
       "version_major": 2,
       "version_minor": 0
      },
      "text/plain": [
       "Validation: |          | 0/? [00:00<?, ?it/s]"
      ]
     },
     "metadata": {},
     "output_type": "display_data"
    },
    {
     "data": {
      "application/vnd.jupyter.widget-view+json": {
       "model_id": "a5f5c3a90bae4d8ba3ce8800c946e43c",
       "version_major": 2,
       "version_minor": 0
      },
      "text/plain": [
       "Validation: |          | 0/? [00:00<?, ?it/s]"
      ]
     },
     "metadata": {},
     "output_type": "display_data"
    },
    {
     "data": {
      "application/vnd.jupyter.widget-view+json": {
       "model_id": "6aa66ff6dd1041c99237eb6756e31c1c",
       "version_major": 2,
       "version_minor": 0
      },
      "text/plain": [
       "Validation: |          | 0/? [00:00<?, ?it/s]"
      ]
     },
     "metadata": {},
     "output_type": "display_data"
    },
    {
     "data": {
      "application/vnd.jupyter.widget-view+json": {
       "model_id": "bbcf5c3a916d4eeea0af5e506e35fff3",
       "version_major": 2,
       "version_minor": 0
      },
      "text/plain": [
       "Validation: |          | 0/? [00:00<?, ?it/s]"
      ]
     },
     "metadata": {},
     "output_type": "display_data"
    },
    {
     "data": {
      "application/vnd.jupyter.widget-view+json": {
       "model_id": "3153b462d48444fc8b38bfb6551b68b8",
       "version_major": 2,
       "version_minor": 0
      },
      "text/plain": [
       "Validation: |          | 0/? [00:00<?, ?it/s]"
      ]
     },
     "metadata": {},
     "output_type": "display_data"
    },
    {
     "data": {
      "application/vnd.jupyter.widget-view+json": {
       "model_id": "2ff108e2443843f4bc20fc9017d3641a",
       "version_major": 2,
       "version_minor": 0
      },
      "text/plain": [
       "Validation: |          | 0/? [00:00<?, ?it/s]"
      ]
     },
     "metadata": {},
     "output_type": "display_data"
    },
    {
     "data": {
      "application/vnd.jupyter.widget-view+json": {
       "model_id": "11d8c169fe4e41ba86e5c6372ec88538",
       "version_major": 2,
       "version_minor": 0
      },
      "text/plain": [
       "Validation: |          | 0/? [00:00<?, ?it/s]"
      ]
     },
     "metadata": {},
     "output_type": "display_data"
    },
    {
     "data": {
      "application/vnd.jupyter.widget-view+json": {
       "model_id": "a46be913b5ed42e0ae9bf6f3fe868623",
       "version_major": 2,
       "version_minor": 0
      },
      "text/plain": [
       "Validation: |          | 0/? [00:00<?, ?it/s]"
      ]
     },
     "metadata": {},
     "output_type": "display_data"
    },
    {
     "data": {
      "application/vnd.jupyter.widget-view+json": {
       "model_id": "9d9a76bc5c00499fbab8f997156e452c",
       "version_major": 2,
       "version_minor": 0
      },
      "text/plain": [
       "Validation: |          | 0/? [00:00<?, ?it/s]"
      ]
     },
     "metadata": {},
     "output_type": "display_data"
    },
    {
     "data": {
      "application/vnd.jupyter.widget-view+json": {
       "model_id": "d77f24e9767c48419b3b29d9a78558c4",
       "version_major": 2,
       "version_minor": 0
      },
      "text/plain": [
       "Validation: |          | 0/? [00:00<?, ?it/s]"
      ]
     },
     "metadata": {},
     "output_type": "display_data"
    },
    {
     "data": {
      "application/vnd.jupyter.widget-view+json": {
       "model_id": "3d30cec9d8f94e26a521e80b6889ac6e",
       "version_major": 2,
       "version_minor": 0
      },
      "text/plain": [
       "Validation: |          | 0/? [00:00<?, ?it/s]"
      ]
     },
     "metadata": {},
     "output_type": "display_data"
    },
    {
     "data": {
      "application/vnd.jupyter.widget-view+json": {
       "model_id": "c2d4fbaabf494720b7aba7f0aeb3e7c0",
       "version_major": 2,
       "version_minor": 0
      },
      "text/plain": [
       "Validation: |          | 0/? [00:00<?, ?it/s]"
      ]
     },
     "metadata": {},
     "output_type": "display_data"
    },
    {
     "data": {
      "application/vnd.jupyter.widget-view+json": {
       "model_id": "19c5d0bdaf76402c889f203efa5203c8",
       "version_major": 2,
       "version_minor": 0
      },
      "text/plain": [
       "Validation: |          | 0/? [00:00<?, ?it/s]"
      ]
     },
     "metadata": {},
     "output_type": "display_data"
    },
    {
     "data": {
      "application/vnd.jupyter.widget-view+json": {
       "model_id": "547a309a3d484c508a50c9e50601ac5a",
       "version_major": 2,
       "version_minor": 0
      },
      "text/plain": [
       "Validation: |          | 0/? [00:00<?, ?it/s]"
      ]
     },
     "metadata": {},
     "output_type": "display_data"
    },
    {
     "data": {
      "application/vnd.jupyter.widget-view+json": {
       "model_id": "26f4d77ba69c49e9891a51f61e15a5ab",
       "version_major": 2,
       "version_minor": 0
      },
      "text/plain": [
       "Validation: |          | 0/? [00:00<?, ?it/s]"
      ]
     },
     "metadata": {},
     "output_type": "display_data"
    },
    {
     "data": {
      "application/vnd.jupyter.widget-view+json": {
       "model_id": "36db9c351dc94218800421675f8c98ea",
       "version_major": 2,
       "version_minor": 0
      },
      "text/plain": [
       "Validation: |          | 0/? [00:00<?, ?it/s]"
      ]
     },
     "metadata": {},
     "output_type": "display_data"
    },
    {
     "data": {
      "application/vnd.jupyter.widget-view+json": {
       "model_id": "178e8874133b4d76a50c016fc74c8fa7",
       "version_major": 2,
       "version_minor": 0
      },
      "text/plain": [
       "Validation: |          | 0/? [00:00<?, ?it/s]"
      ]
     },
     "metadata": {},
     "output_type": "display_data"
    },
    {
     "data": {
      "application/vnd.jupyter.widget-view+json": {
       "model_id": "06a58d621f534658922a9f475e5de0df",
       "version_major": 2,
       "version_minor": 0
      },
      "text/plain": [
       "Validation: |          | 0/? [00:00<?, ?it/s]"
      ]
     },
     "metadata": {},
     "output_type": "display_data"
    },
    {
     "data": {
      "application/vnd.jupyter.widget-view+json": {
       "model_id": "1238d566b9ed4b6ea90573a228d64845",
       "version_major": 2,
       "version_minor": 0
      },
      "text/plain": [
       "Validation: |          | 0/? [00:00<?, ?it/s]"
      ]
     },
     "metadata": {},
     "output_type": "display_data"
    },
    {
     "data": {
      "application/vnd.jupyter.widget-view+json": {
       "model_id": "715c25b3363d4c598e8a77c7daeb1ea9",
       "version_major": 2,
       "version_minor": 0
      },
      "text/plain": [
       "Validation: |          | 0/? [00:00<?, ?it/s]"
      ]
     },
     "metadata": {},
     "output_type": "display_data"
    },
    {
     "data": {
      "application/vnd.jupyter.widget-view+json": {
       "model_id": "18059853b74b4e6d9375fccc1f3b9fd3",
       "version_major": 2,
       "version_minor": 0
      },
      "text/plain": [
       "Validation: |          | 0/? [00:00<?, ?it/s]"
      ]
     },
     "metadata": {},
     "output_type": "display_data"
    },
    {
     "data": {
      "application/vnd.jupyter.widget-view+json": {
       "model_id": "d1623d00b32b4e1f8e036e064c8d3507",
       "version_major": 2,
       "version_minor": 0
      },
      "text/plain": [
       "Validation: |          | 0/? [00:00<?, ?it/s]"
      ]
     },
     "metadata": {},
     "output_type": "display_data"
    },
    {
     "data": {
      "application/vnd.jupyter.widget-view+json": {
       "model_id": "594b8277d4834dc9b1697c6e3cb34b83",
       "version_major": 2,
       "version_minor": 0
      },
      "text/plain": [
       "Validation: |          | 0/? [00:00<?, ?it/s]"
      ]
     },
     "metadata": {},
     "output_type": "display_data"
    },
    {
     "data": {
      "application/vnd.jupyter.widget-view+json": {
       "model_id": "e93589ef331e42a3bc587c79386faddf",
       "version_major": 2,
       "version_minor": 0
      },
      "text/plain": [
       "Validation: |          | 0/? [00:00<?, ?it/s]"
      ]
     },
     "metadata": {},
     "output_type": "display_data"
    },
    {
     "data": {
      "application/vnd.jupyter.widget-view+json": {
       "model_id": "ddb27cc9aa2d4738beb2d64b40133b21",
       "version_major": 2,
       "version_minor": 0
      },
      "text/plain": [
       "Validation: |          | 0/? [00:00<?, ?it/s]"
      ]
     },
     "metadata": {},
     "output_type": "display_data"
    },
    {
     "data": {
      "application/vnd.jupyter.widget-view+json": {
       "model_id": "c3a38ca757fb49b3836aaa0a2f96b67e",
       "version_major": 2,
       "version_minor": 0
      },
      "text/plain": [
       "Validation: |          | 0/? [00:00<?, ?it/s]"
      ]
     },
     "metadata": {},
     "output_type": "display_data"
    },
    {
     "data": {
      "application/vnd.jupyter.widget-view+json": {
       "model_id": "c2247d0f32354eb2983d1dd420f89b0d",
       "version_major": 2,
       "version_minor": 0
      },
      "text/plain": [
       "Validation: |          | 0/? [00:00<?, ?it/s]"
      ]
     },
     "metadata": {},
     "output_type": "display_data"
    },
    {
     "data": {
      "application/vnd.jupyter.widget-view+json": {
       "model_id": "dfa3cec558fd43168f14c9683ed50494",
       "version_major": 2,
       "version_minor": 0
      },
      "text/plain": [
       "Validation: |          | 0/? [00:00<?, ?it/s]"
      ]
     },
     "metadata": {},
     "output_type": "display_data"
    },
    {
     "data": {
      "application/vnd.jupyter.widget-view+json": {
       "model_id": "c41e9fea2f134c43a15beb0f6ceaf2d3",
       "version_major": 2,
       "version_minor": 0
      },
      "text/plain": [
       "Validation: |          | 0/? [00:00<?, ?it/s]"
      ]
     },
     "metadata": {},
     "output_type": "display_data"
    },
    {
     "data": {
      "application/vnd.jupyter.widget-view+json": {
       "model_id": "d9b7e31846d643d5a12cef2e195999c4",
       "version_major": 2,
       "version_minor": 0
      },
      "text/plain": [
       "Validation: |          | 0/? [00:00<?, ?it/s]"
      ]
     },
     "metadata": {},
     "output_type": "display_data"
    },
    {
     "data": {
      "application/vnd.jupyter.widget-view+json": {
       "model_id": "05e4cede2f994269aeec51562ffb84f4",
       "version_major": 2,
       "version_minor": 0
      },
      "text/plain": [
       "Validation: |          | 0/? [00:00<?, ?it/s]"
      ]
     },
     "metadata": {},
     "output_type": "display_data"
    },
    {
     "data": {
      "application/vnd.jupyter.widget-view+json": {
       "model_id": "1443d20065ec41b4a8f54fe534506e30",
       "version_major": 2,
       "version_minor": 0
      },
      "text/plain": [
       "Validation: |          | 0/? [00:00<?, ?it/s]"
      ]
     },
     "metadata": {},
     "output_type": "display_data"
    },
    {
     "data": {
      "application/vnd.jupyter.widget-view+json": {
       "model_id": "93e2133ab7aa4ab0af885df332f11800",
       "version_major": 2,
       "version_minor": 0
      },
      "text/plain": [
       "Validation: |          | 0/? [00:00<?, ?it/s]"
      ]
     },
     "metadata": {},
     "output_type": "display_data"
    },
    {
     "data": {
      "application/vnd.jupyter.widget-view+json": {
       "model_id": "1e7137eb726c46fa830d94abb41e5524",
       "version_major": 2,
       "version_minor": 0
      },
      "text/plain": [
       "Validation: |          | 0/? [00:00<?, ?it/s]"
      ]
     },
     "metadata": {},
     "output_type": "display_data"
    },
    {
     "data": {
      "application/vnd.jupyter.widget-view+json": {
       "model_id": "8efb8f7a362c4775b3ed87fa97e8a08e",
       "version_major": 2,
       "version_minor": 0
      },
      "text/plain": [
       "Validation: |          | 0/? [00:00<?, ?it/s]"
      ]
     },
     "metadata": {},
     "output_type": "display_data"
    },
    {
     "data": {
      "application/vnd.jupyter.widget-view+json": {
       "model_id": "e1b95651ba4d481abe72272310b7374f",
       "version_major": 2,
       "version_minor": 0
      },
      "text/plain": [
       "Validation: |          | 0/? [00:00<?, ?it/s]"
      ]
     },
     "metadata": {},
     "output_type": "display_data"
    },
    {
     "data": {
      "application/vnd.jupyter.widget-view+json": {
       "model_id": "388d88f479a643918d6edffacf873b05",
       "version_major": 2,
       "version_minor": 0
      },
      "text/plain": [
       "Validation: |          | 0/? [00:00<?, ?it/s]"
      ]
     },
     "metadata": {},
     "output_type": "display_data"
    },
    {
     "data": {
      "application/vnd.jupyter.widget-view+json": {
       "model_id": "17fc26cb9d6c444f884480feac00538c",
       "version_major": 2,
       "version_minor": 0
      },
      "text/plain": [
       "Validation: |          | 0/? [00:00<?, ?it/s]"
      ]
     },
     "metadata": {},
     "output_type": "display_data"
    },
    {
     "data": {
      "application/vnd.jupyter.widget-view+json": {
       "model_id": "d8d06516fc1f44c59d159089640b8fd1",
       "version_major": 2,
       "version_minor": 0
      },
      "text/plain": [
       "Validation: |          | 0/? [00:00<?, ?it/s]"
      ]
     },
     "metadata": {},
     "output_type": "display_data"
    },
    {
     "data": {
      "application/vnd.jupyter.widget-view+json": {
       "model_id": "8a255ce5bdee49d2b8169574740542be",
       "version_major": 2,
       "version_minor": 0
      },
      "text/plain": [
       "Validation: |          | 0/? [00:00<?, ?it/s]"
      ]
     },
     "metadata": {},
     "output_type": "display_data"
    },
    {
     "data": {
      "application/vnd.jupyter.widget-view+json": {
       "model_id": "69563d98d85f4aae9041106f5542782a",
       "version_major": 2,
       "version_minor": 0
      },
      "text/plain": [
       "Validation: |          | 0/? [00:00<?, ?it/s]"
      ]
     },
     "metadata": {},
     "output_type": "display_data"
    },
    {
     "data": {
      "application/vnd.jupyter.widget-view+json": {
       "model_id": "5c0fe7b814bf4f318e15d0b84402f7cb",
       "version_major": 2,
       "version_minor": 0
      },
      "text/plain": [
       "Validation: |          | 0/? [00:00<?, ?it/s]"
      ]
     },
     "metadata": {},
     "output_type": "display_data"
    },
    {
     "data": {
      "application/vnd.jupyter.widget-view+json": {
       "model_id": "cfd7a3f1d7b04d01a5ce19c51e1febec",
       "version_major": 2,
       "version_minor": 0
      },
      "text/plain": [
       "Validation: |          | 0/? [00:00<?, ?it/s]"
      ]
     },
     "metadata": {},
     "output_type": "display_data"
    },
    {
     "data": {
      "application/vnd.jupyter.widget-view+json": {
       "model_id": "609ab1eeb4154549a0a169befc716d18",
       "version_major": 2,
       "version_minor": 0
      },
      "text/plain": [
       "Validation: |          | 0/? [00:00<?, ?it/s]"
      ]
     },
     "metadata": {},
     "output_type": "display_data"
    },
    {
     "data": {
      "application/vnd.jupyter.widget-view+json": {
       "model_id": "c70e548464fb40e5b290c71a7335130b",
       "version_major": 2,
       "version_minor": 0
      },
      "text/plain": [
       "Validation: |          | 0/? [00:00<?, ?it/s]"
      ]
     },
     "metadata": {},
     "output_type": "display_data"
    },
    {
     "data": {
      "application/vnd.jupyter.widget-view+json": {
       "model_id": "b5f7f675ec2f483d8e292d3d1a7bf5cc",
       "version_major": 2,
       "version_minor": 0
      },
      "text/plain": [
       "Validation: |          | 0/? [00:00<?, ?it/s]"
      ]
     },
     "metadata": {},
     "output_type": "display_data"
    },
    {
     "data": {
      "application/vnd.jupyter.widget-view+json": {
       "model_id": "2158a08557dc4590be6134fbbc8ca0f3",
       "version_major": 2,
       "version_minor": 0
      },
      "text/plain": [
       "Validation: |          | 0/? [00:00<?, ?it/s]"
      ]
     },
     "metadata": {},
     "output_type": "display_data"
    },
    {
     "data": {
      "application/vnd.jupyter.widget-view+json": {
       "model_id": "8e833c07a09047b09da346e5d685dd85",
       "version_major": 2,
       "version_minor": 0
      },
      "text/plain": [
       "Validation: |          | 0/? [00:00<?, ?it/s]"
      ]
     },
     "metadata": {},
     "output_type": "display_data"
    },
    {
     "data": {
      "application/vnd.jupyter.widget-view+json": {
       "model_id": "d10d8ddb997846e18299fe15627fc92d",
       "version_major": 2,
       "version_minor": 0
      },
      "text/plain": [
       "Validation: |          | 0/? [00:00<?, ?it/s]"
      ]
     },
     "metadata": {},
     "output_type": "display_data"
    },
    {
     "data": {
      "application/vnd.jupyter.widget-view+json": {
       "model_id": "50b5c4155a634fb8a0b1b504800c705e",
       "version_major": 2,
       "version_minor": 0
      },
      "text/plain": [
       "Validation: |          | 0/? [00:00<?, ?it/s]"
      ]
     },
     "metadata": {},
     "output_type": "display_data"
    },
    {
     "data": {
      "application/vnd.jupyter.widget-view+json": {
       "model_id": "535e30ef74eb4950925141b6d2a1db62",
       "version_major": 2,
       "version_minor": 0
      },
      "text/plain": [
       "Validation: |          | 0/? [00:00<?, ?it/s]"
      ]
     },
     "metadata": {},
     "output_type": "display_data"
    },
    {
     "data": {
      "application/vnd.jupyter.widget-view+json": {
       "model_id": "eeee54b1efd844e6874828d15307e29d",
       "version_major": 2,
       "version_minor": 0
      },
      "text/plain": [
       "Validation: |          | 0/? [00:00<?, ?it/s]"
      ]
     },
     "metadata": {},
     "output_type": "display_data"
    },
    {
     "data": {
      "application/vnd.jupyter.widget-view+json": {
       "model_id": "18c50c0080824dd3a694ad8df7b5de5a",
       "version_major": 2,
       "version_minor": 0
      },
      "text/plain": [
       "Validation: |          | 0/? [00:00<?, ?it/s]"
      ]
     },
     "metadata": {},
     "output_type": "display_data"
    },
    {
     "data": {
      "application/vnd.jupyter.widget-view+json": {
       "model_id": "62aefe034ca44b7da41e0da91550a02e",
       "version_major": 2,
       "version_minor": 0
      },
      "text/plain": [
       "Validation: |          | 0/? [00:00<?, ?it/s]"
      ]
     },
     "metadata": {},
     "output_type": "display_data"
    },
    {
     "data": {
      "application/vnd.jupyter.widget-view+json": {
       "model_id": "f3e5b37eed7d4a5887215a933a5c703b",
       "version_major": 2,
       "version_minor": 0
      },
      "text/plain": [
       "Validation: |          | 0/? [00:00<?, ?it/s]"
      ]
     },
     "metadata": {},
     "output_type": "display_data"
    },
    {
     "data": {
      "application/vnd.jupyter.widget-view+json": {
       "model_id": "615b5f9e844f41628ec0273896aacffb",
       "version_major": 2,
       "version_minor": 0
      },
      "text/plain": [
       "Validation: |          | 0/? [00:00<?, ?it/s]"
      ]
     },
     "metadata": {},
     "output_type": "display_data"
    },
    {
     "data": {
      "application/vnd.jupyter.widget-view+json": {
       "model_id": "d66bc22a4a804a21a1238326b950ac65",
       "version_major": 2,
       "version_minor": 0
      },
      "text/plain": [
       "Validation: |          | 0/? [00:00<?, ?it/s]"
      ]
     },
     "metadata": {},
     "output_type": "display_data"
    },
    {
     "data": {
      "application/vnd.jupyter.widget-view+json": {
       "model_id": "e783482912f144798eea97473480d6c3",
       "version_major": 2,
       "version_minor": 0
      },
      "text/plain": [
       "Validation: |          | 0/? [00:00<?, ?it/s]"
      ]
     },
     "metadata": {},
     "output_type": "display_data"
    },
    {
     "data": {
      "application/vnd.jupyter.widget-view+json": {
       "model_id": "115d1c8faf91498fa5c536784db148d4",
       "version_major": 2,
       "version_minor": 0
      },
      "text/plain": [
       "Validation: |          | 0/? [00:00<?, ?it/s]"
      ]
     },
     "metadata": {},
     "output_type": "display_data"
    },
    {
     "data": {
      "application/vnd.jupyter.widget-view+json": {
       "model_id": "26bb5e7b4fb94f318eb55cf03d846cab",
       "version_major": 2,
       "version_minor": 0
      },
      "text/plain": [
       "Validation: |          | 0/? [00:00<?, ?it/s]"
      ]
     },
     "metadata": {},
     "output_type": "display_data"
    },
    {
     "data": {
      "application/vnd.jupyter.widget-view+json": {
       "model_id": "447ed090fba84041b4e0a9cb024d31d1",
       "version_major": 2,
       "version_minor": 0
      },
      "text/plain": [
       "Validation: |          | 0/? [00:00<?, ?it/s]"
      ]
     },
     "metadata": {},
     "output_type": "display_data"
    },
    {
     "data": {
      "application/vnd.jupyter.widget-view+json": {
       "model_id": "4a7bf9f6e9784856a17dd4e86821e49c",
       "version_major": 2,
       "version_minor": 0
      },
      "text/plain": [
       "Validation: |          | 0/? [00:00<?, ?it/s]"
      ]
     },
     "metadata": {},
     "output_type": "display_data"
    },
    {
     "data": {
      "application/vnd.jupyter.widget-view+json": {
       "model_id": "7d799a6fe4d44746b481023b4ea5ac6f",
       "version_major": 2,
       "version_minor": 0
      },
      "text/plain": [
       "Validation: |          | 0/? [00:00<?, ?it/s]"
      ]
     },
     "metadata": {},
     "output_type": "display_data"
    },
    {
     "name": "stderr",
     "output_type": "stream",
     "text": [
      "`Trainer.fit` stopped: `max_epochs=100` reached.\n"
     ]
    }
   ],
   "source": [
    "from src.modeling.ssl_graph_brep import train\n",
    "\n",
    "\n",
    "train.run(\n",
    "    npz_brep_dir=BREPNET_NPZ_DIR,\n",
    "    batch_size=32,\n",
    "    epochs=100,\n",
    "    num_workers=0,\n",
    "    proj_dim=256,\n",
    "    lr=1e-3,\n",
    "    hidden=64,\n",
    "    tau=0.08,\n",
    "    lambda_topo_next=1.5,\n",
    "    lambda_topo_mate=1.5,\n",
    "    aug_p=0.15,\n",
    "    topo_tau=0.05,\n",
    "    weight_decay=1e-4,\n",
    "    validation_ratio=0.2,\n",
    "    test_ratio=0.1,\n",
    "    )"
   ]
  },
  {
   "cell_type": "code",
   "execution_count": 10,
   "id": "815f23f8",
   "metadata": {},
   "outputs": [
    {
     "data": {
      "image/png": "[encoded data removed]",
      "text/plain": [
       "<Figure size 1000x800 with 4 Axes>"
      ]
     },
     "metadata": {},
     "output_type": "display_data"
    }
   ],
   "source": [
    "from src.modeling.ssl_graph_brep import plots\n",
    "\n",
    "metrics_csv = REPORTS_DIR / \"ssl_brep\" / \"version_0\" / \"metrics.csv\"\n",
    "\n",
    "plots.plot_training_curves(metrics_csv)"
   ]
  },
  {
   "cell_type": "code",
   "execution_count": 11,
   "id": "419ad043",
   "metadata": {},
   "outputs": [
    {
     "name": "stdout",
     "output_type": "stream",
     "text": [
      "Query: 42. Ejector-01.prt\n",
      "Top-10: ['42. Ejector-01.prt', '42. Ejector-05.prt', '42. Ejector-06.prt', '42. Ejector-04.prt', '42. Ejector-10.prt', '42. Ejector-09.prt', '42. Ejector-02', '42. Ejector-03.prt', '42. Ejector.prt', '42. Ejector-08.prt']\n",
      "---\n",
      "Query: 42. Ejector-02\n",
      "Top-10: ['42. Ejector-02', '42. Ejector-03.prt', '42. Ejector-01.prt', '42. Ejector-05.prt', '42. Ejector-06.prt', '42. Ejector.prt', '42. Ejector-04.prt', '42. Ejector-10.prt', '42. Ejector-09.prt', 'Зацеп трубки направляющий 7.prt']\n",
      "---\n",
      "Query: 42. Ejector-03.prt\n",
      "Top-10: ['42. Ejector-03.prt', '42. Ejector-02', '42. Ejector-04.prt', '42. Ejector-01.prt', '42. Ejector-05.prt', '42. Ejector-06.prt', '42. Ejector-09.prt', '42. Ejector-10.prt', '42. Ejector.prt', 'Зацеп трубки направляющий 7.prt']\n",
      "---\n",
      "Query: 42. Ejector-04.prt\n",
      "Top-10: ['42. Ejector-04.prt', '42. Ejector-01.prt', '42. Ejector-05.prt', '42. Ejector-09.prt', '42. Ejector-06.prt', '42. Ejector-10.prt', '42. Ejector-03.prt', '42. Ejector-02', '42. Ejector.prt', 'Зацеп трубки направляющий 7.prt']\n",
      "---\n",
      "Query: 42. Ejector-05.prt\n",
      "Top-10: ['42. Ejector-05.prt', '42. Ejector-01.prt', '42. Ejector-06.prt', '42. Ejector-04.prt', '42. Ejector-10.prt', '42. Ejector-09.prt', '42. Ejector-02', '42. Ejector-03.prt', '42. Ejector.prt', '42. Ejector-08.prt']\n",
      "---\n",
      "Query: 42. Ejector-06.prt\n",
      "Top-10: ['42. Ejector-06.prt', '42. Ejector-05.prt', '42. Ejector-01.prt', '42. Ejector-04.prt', '42. Ejector-09.prt', '42. Ejector-10.prt', '42. Ejector-02', '42. Ejector-03.prt', '42. Ejector.prt', '42. Ejector-08.prt']\n",
      "---\n",
      "Query: 42. Ejector-07.prt\n",
      "Top-10: ['42. Ejector-07.prt', '42. Ejector-08.prt', '42. Ejector-06.prt', '42. Ejector.prt', '42. Ejector-05.prt', '42. Ejector-01.prt', '42. Ejector-09.prt', '42. Ejector-10.prt', '42. Ejector-04.prt', '44. Extractor Pin-10.prt']\n",
      "---\n",
      "Query: 42. Ejector-08.prt\n",
      "Top-10: ['42. Ejector-08.prt', '42. Ejector-07.prt', '42. Ejector-06.prt', '42. Ejector.prt', '42. Ejector-05.prt', '42. Ejector-01.prt', '42. Ejector-09.prt', '42. Ejector-10.prt', '42. Ejector-04.prt', '44. Extractor Pin-10.prt']\n",
      "---\n",
      "Query: 42. Ejector-09.prt\n",
      "Top-10: ['42. Ejector-09.prt', '42. Ejector-10.prt', '42. Ejector-04.prt', '42. Ejector-06.prt', '42. Ejector-01.prt', '42. Ejector-05.prt', '42. Ejector-03.prt', '42. Ejector.prt', '42. Ejector-02', '42. Ejector-08.prt']\n",
      "---\n",
      "Query: 42. Ejector-10.prt\n",
      "Top-10: ['42. Ejector-10.prt', '42. Ejector-09.prt', '42. Ejector-01.prt', '42. Ejector-05.prt', '42. Ejector-06.prt', '42. Ejector-04.prt', '42. Ejector-02', '42. Ejector-03.prt', '42. Ejector.prt', '42. Ejector-08.prt']\n",
      "---\n",
      "Query: 42. Ejector.prt\n",
      "Top-10: ['42. Ejector.prt', '42. Ejector-05.prt', '42. Ejector-01.prt', '42. Ejector-06.prt', '42. Ejector-02', '42. Ejector-07.prt', 'Зацеп трубки направляющий 7.prt', '42. Ejector-08.prt', '42. Ejector-03.prt', '42. Ejector-10.prt']\n",
      "---\n",
      "Query: 42. Silencer Fix-01.prt\n",
      "Top-10: ['42. Silencer Fix-01.prt', '42. Silencer Fix-02.prt', '42. Silencer Fix.prt', '42. Silencer Fix-03.prt', '42. Silencer Fix-09.prt', '42. Silencer Fix-04.prt', '42. Silencer Fix-05.prt', '42. Silencer Fix-08.prt', '42. Silencer Fix-06.prt', '42. Silencer Fix-07.prt']\n",
      "---\n",
      "Query: 42. Silencer Fix-02.prt\n",
      "Top-10: ['42. Silencer Fix-02.prt', '42. Silencer Fix-01.prt', '42. Silencer Fix.prt', '42. Silencer Fix-03.prt', '42. Silencer Fix-09.prt', '42. Silencer Fix-04.prt', '42. Silencer Fix-08.prt', '42. Silencer Fix-05.prt', '42. Silencer Fix-06.prt', '42. Silencer Fix-07.prt']\n",
      "---\n",
      "Query: 42. Silencer Fix-03.prt\n",
      "Top-10: ['42. Silencer Fix-03.prt', '42. Silencer Fix-04.prt', '42. Silencer Fix-09.prt', '42. Silencer Fix.prt', '42. Silencer Fix-08.prt', '42. Silencer Fix-05.prt', '42. Silencer Fix-02.prt', '42. Silencer Fix-01.prt', '42. Silencer Fix-06.prt', '42. Silencer Fix-07.prt']\n",
      "---\n",
      "Query: 42. Silencer Fix-04.prt\n",
      "Top-10: ['42. Silencer Fix-04.prt', '42. Silencer Fix-03.prt', '42. Silencer Fix-09.prt', '42. Silencer Fix-08.prt', '42. Silencer Fix-05.prt', '42. Silencer Fix.prt', '42. Silencer Fix-06.prt', '42. Silencer Fix-07.prt', '42. Silencer Fix-02.prt', '42. Silencer Fix-01.prt']\n",
      "---\n"
     ]
    }
   ],
   "source": [
    "from src.modeling.ssl_graph_brep.inference import extract_embeddings, topk_similar, search_by_name\n",
    "\n",
    "ckpt = MODELS_DIR / \"ssl_brep\" / \"ssl-brep-epoch=96-val_infoNCE_acc=0.784.ckpt\"\n",
    "# BREPNET_NPZ_DIR = PROCESSED_DATA_DIR / \"test\" / \"features\" / \"42. Ejector\"\n",
    "data_dir = Path(BREPNET_NPZ_DIR)\n",
    "ids, E = extract_embeddings(ckpt, data_dir)\n",
    "\n",
    "topk_idx = topk_similar(E, k=10)\n",
    "for i, nn_idx in enumerate(topk_idx[:15]):\n",
    "    print(\"Query:\", ids[i])\n",
    "    print(\"Top-10:\", [ids[j] for j in nn_idx])\n",
    "    print(\"---\")"
   ]
  },
  {
   "cell_type": "code",
   "execution_count": 14,
   "id": "6d4a7247",
   "metadata": {},
   "outputs": [
    {
     "name": "stdout",
     "output_type": "stream",
     "text": [
      "\n",
      "Запрос: Кожух 9.prt\n",
      "   1. 100.00%  Кожух 9.prt\n",
      "   2.  99.97%  Кожух 10.prt\n",
      "   3.  99.72%  Кожух 7.prt\n",
      "   4.  99.72%  Кожух 6.prt\n",
      "   5.  99.72%  Кожух 8.prt\n",
      "   6.  99.43%  Кожух 1.prt\n",
      "   7.  99.22%  Кожух.prt\n",
      "   8.  98.44%  Защелка АК 9.prt\n",
      "   9.  98.35%  Защелка.prt\n",
      "  10.  98.34%  43. Extractor-03.prt\n",
      "  11.  98.29%  Защелка АК 1.prt\n",
      "  12.  98.27%  43. Extractor-01.prt\n",
      "  13.  98.26%  Защелка АК.prt\n",
      "  14.  98.26%  43. Extractor-02.prt\n",
      "  15.  98.20%  Защелка АК 2.prt\n",
      "  16.  98.20%  Колодка прицельная 9.prt\n",
      "  17.  98.17%  43. Extractor.prt\n",
      "  18.  98.10%  Защелка 4.prt\n",
      "  19.  98.09%  Колодка прицельная 10.prt\n",
      "  20.  98.06%  Защелка 5.prt\n",
      "  21.  98.05%  Защелка 7.prt\n",
      "  22.  98.05%  Защелка 6.prt\n",
      "  23.  97.95%  Колодка прицельная.prt\n",
      "  24.  97.94%  Колодка прицельная 7.prt\n",
      "  25.  97.94%  Колодка прицельная 1.prt\n",
      "  26.  97.91%  Колодка прицельная 3.prt\n",
      "  27.  97.90%  Колодка прицельная 8.prt\n",
      "  28.  97.89%  Колодка прицельная 5.prt\n",
      "  29.  97.87%  Защелка АК 3.prt\n",
      "  30.  97.87%  Колодка прицельная 4.prt\n"
     ]
    }
   ],
   "source": [
    "# BREPNET_NPZ_DIR = PROCESSED_DATA_DIR / \"test\" / \"features\" / \"Затвор\"\n",
    "\n",
    "ids, E = extract_embeddings(model_ckpt=ckpt, data_dir=BREPNET_NPZ_DIR)\n",
    "\n",
    "\n",
    "results = search_by_name(ids, E, query_name=\"Кожух 9.prt\", include_self=True, max_print=30)"
   ]
  }
 ],
 "metadata": {
  "kernelspec": {
   "display_name": "brepnet",
   "language": "python",
   "name": "python3"
  },
  "language_info": {
   "codemirror_mode": {
    "name": "ipython",
    "version": 3
   },
   "file_extension": ".py",
   "mimetype": "text/x-python",
   "name": "python",
   "nbconvert_exporter": "python",
   "pygments_lexer": "ipython3",
   "version": "3.11.13"
  }
 },
 "nbformat": 4,
 "nbformat_minor": 5
}
