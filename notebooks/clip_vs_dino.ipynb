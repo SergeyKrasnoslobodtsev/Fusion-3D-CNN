{
 "cells": [
  {
   "cell_type": "code",
   "execution_count": 1,
   "id": "dd76cd54",
   "metadata": {},
   "outputs": [
    {
     "name": "stderr",
     "output_type": "stream",
     "text": [
      "\u001b[32m2025-09-22 21:11:55.679\u001b[0m | \u001b[1mINFO    \u001b[0m | \u001b[36msrc.config\u001b[0m:\u001b[36m<module>\u001b[0m:\u001b[36m11\u001b[0m - \u001b[1mPROJ_ROOT path is: D:\\workspace\\projects\\freelance\\Fusion3DNet\u001b[0m\n"
     ]
    },
    {
     "name": "stdout",
     "output_type": "stream",
     "text": [
      "Project root added to path: d:\\workspace\\projects\\freelance\\Fusion3DNet\n"
     ]
    }
   ],
   "source": [
    "%load_ext autoreload\n",
    "%autoreload 2\n",
    "import notebook_setup\n",
    "from src.config import PROCESSED_DATA_DIR\n",
    "import os"
   ]
  },
  {
   "cell_type": "code",
   "execution_count": 2,
   "id": "76381da6",
   "metadata": {},
   "outputs": [
    {
     "name": "stdout",
     "output_type": "stream",
     "text": [
      "Количество файлов BrepNet: 129\n",
      "Количество файлов DINO s14 2d: 129\n",
      "Количество файлов DINO b14 2d: 129\n",
      "Количество файлов CLIP s16 2d: 129\n",
      "Количество файлов CLIP b32 2d: 129\n",
      "Количество файлов DINO s14 2dv0: 129\n",
      "Количество файлов DINO b14 2dv0: 129\n",
      "Количество файлов CLIP s16 2dv0: 129\n",
      "Количество файлов CLIP b32 2dv0: 129\n"
     ]
    }
   ],
   "source": [
    "from pathlib import Path\n",
    "FEATURES_DIR = PROCESSED_DATA_DIR / \"dataset_129\" / 'features'\n",
    "BREPNET_NPZ_DIR = FEATURES_DIR / \"brep\"\n",
    "\n",
    "DINOs14_2d_NPZ_DIR = FEATURES_DIR / '2D' / \"dinov2_vits14\"\n",
    "DINOb14_2d_NPZ_DIR = FEATURES_DIR / '2D' / \"dinov2_vitb14\"\n",
    "CLIPs16_2d_NPZ_DIR = FEATURES_DIR / '2D' / \"ViT-B_16\"\n",
    "CLIPb32_2d_NPZ_DIR = FEATURES_DIR / '2D' / \"ViT-B_32\"\n",
    "\n",
    "DINOs14_2dv0_NPZ_DIR = FEATURES_DIR / '2D_v0' / \"dinov2_vits14\"\n",
    "DINOb14_2dv0_NPZ_DIR = FEATURES_DIR / '2D_v0' / \"dinov2_vitb14\"\n",
    "CLIPs16_2dv0_NPZ_DIR = FEATURES_DIR / '2D_v0' / \"ViT-B_16\"\n",
    "CLIPb32_2dv0_NPZ_DIR = FEATURES_DIR / '2D_v0' / \"ViT-B_32\"\n",
    "\n",
    "def get_files(step_path: Path, extensions=(\"stp\", \"step\")):\n",
    "    return [f for ext in extensions for f in step_path.glob(f\"**/*.{ext}\")]\n",
    "\n",
    "brepnet_files = get_files(BREPNET_NPZ_DIR, ('npz',))\n",
    "print(f\"Количество файлов BrepNet: {len(brepnet_files)}\")\n",
    "\n",
    "dino_s14_2d_files = get_files(DINOs14_2d_NPZ_DIR, ('npz',))\n",
    "dino_b14_2d_files = get_files(DINOb14_2d_NPZ_DIR, ('npz',))\n",
    "clip_s16_2d_files = get_files(CLIPs16_2d_NPZ_DIR, ('npz',))\n",
    "clip_b32_2d_files = get_files(CLIPb32_2d_NPZ_DIR, ('npz',))\n",
    "\n",
    "dino_s14_2dv0_files = get_files(DINOs14_2dv0_NPZ_DIR, ('npz',))\n",
    "dino_b14_2dv0_files = get_files(DINOb14_2dv0_NPZ_DIR, ('npz',))\n",
    "clip_s16_2dv0_files = get_files(CLIPs16_2dv0_NPZ_DIR, ('npz',))\n",
    "clip_b32_2dv0_files = get_files(CLIPb32_2dv0_NPZ_DIR, ('npz',))\n",
    "\n",
    "print(f\"Количество файлов DINO s14 2d: {len(dino_s14_2d_files)}\")\n",
    "print(f\"Количество файлов DINO b14 2d: {len(dino_b14_2d_files)}\")\n",
    "print(f\"Количество файлов CLIP s16 2d: {len(clip_s16_2d_files)}\")\n",
    "print(f\"Количество файлов CLIP b32 2d: {len(clip_b32_2d_files)}\")\n",
    "print(f\"Количество файлов DINO s14 2dv0: {len(dino_s14_2dv0_files)}\")\n",
    "print(f\"Количество файлов DINO b14 2dv0: {len(dino_b14_2dv0_files)}\")\n",
    "print(f\"Количество файлов CLIP s16 2dv0: {len(clip_s16_2dv0_files)}\")\n",
    "print(f\"Количество файлов CLIP b32 2dv0: {len(clip_b32_2dv0_files)}\")"
   ]
  },
  {
   "cell_type": "code",
   "execution_count": 3,
   "id": "39f5e617",
   "metadata": {},
   "outputs": [],
   "source": [
    "\n",
    "from src.modeling.vit.metrics import eval_object_max\n",
    "import numpy as np\n",
    "\n",
    "def load_npz_features(npz_path):\n",
    "    data = np.load(npz_path)\n",
    "    features = data['views']\n",
    "    return features\n",
    "\n",
    "\n",
    "model_names = [\n",
    "    \"DINO s14 2d\", \"DINO b14 2d\", \"CLIP s16 2d\", \"CLIP b32 2d\",\n",
    "    \"DINO s14 2dv0\", \"DINO b14 2dv0\", \"CLIP s16 2dv0\", \"CLIP b32 2dv0\"\n",
    "]\n",
    "\n",
    "model_files = [\n",
    "    dino_s14_2d_files, dino_b14_2d_files, clip_s16_2d_files, clip_b32_2d_files,\n",
    "    dino_s14_2dv0_files, dino_b14_2dv0_files, clip_s16_2dv0_files, clip_b32_2dv0_files\n",
    "]\n",
    "\n",
    "def evaluate_models_for_search(model_names, model_files, load_fn):\n",
    "    rows = []\n",
    "    for name, files in zip(model_names, model_files):\n",
    "        if not files:\n",
    "            rows.append({\"model\": name, \"queries\": 0})\n",
    "            continue\n",
    "\n",
    "        m = eval_object_max(files, load_fn)\n",
    "        m[\"model\"] = name\n",
    "        rows.append(m)\n",
    "    return rows\n",
    "\n",
    "rows = evaluate_models_for_search(model_names, model_files, load_npz_features)"
   ]
  },
  {
   "cell_type": "code",
   "execution_count": null,
   "id": "96dce266",
   "metadata": {},
   "outputs": [],
   "source": [
    "\n",
    "from src.modeling.BRepNet.metrics import evaluate_brepnet_faces_object_max\n",
    "\n",
    "out_face_dir = BREPNET_NPZ_DIR / \"embeddings\"\n",
    "\n",
    "\n",
    "brep_metrics = evaluate_brepnet_faces_object_max(\n",
    "        embeddings_dir=out_face_dir,\n",
    "        normalize=True\n",
    "    )"
   ]
  },
  {
   "cell_type": "code",
   "execution_count": null,
   "id": "b22e5a4b",
   "metadata": {},
   "outputs": [
    {
     "name": "stdout",
     "output_type": "stream",
     "text": [
      "        model  queries  recall@1  recall@5  recall@10      mAP   nDCG@5  nDCG@10  pos_mean  neg_mean   margin  cohens_d\n",
      "DINO s14 2dv0     1032  0.897287  0.996124        1.0 0.943849 0.956899 0.958236       1.0  0.639031 0.360969  2.803236\n",
      "  DINO b14 2d     1032  0.892442  0.998062        1.0 0.939470 0.954214 0.954904       1.0  0.827749 0.172251  2.222084\n",
      "DINO b14 2dv0     1032  0.892442  0.998062        1.0 0.939470 0.954214 0.954904       1.0  0.827749 0.172251  2.222084\n",
      "  DINO s14 2d     1032  0.891473  0.998062        1.0 0.939244 0.954075 0.954766       1.0  0.871053 0.128947  2.246197\n",
      "      BRepNet     9895  0.868014  0.999798        1.0 0.927224 0.945822 0.945894       1.0  0.876704 0.123296  0.819112\n",
      "CLIP b32 2dv0     1032  0.890504  0.996124        1.0 0.939731 0.953821 0.955158       1.0  0.894322 0.105678  2.684414\n",
      "CLIP s16 2dv0     1032  0.903101  0.996124        1.0 0.946675 0.958978 0.960314       1.0  0.906414 0.093586  2.748654\n",
      "  CLIP s16 2d     1032  0.975775  1.000000        1.0 0.987403 0.990679 0.990679       1.0  0.911103 0.088897  2.551635\n",
      "  CLIP b32 2d     1032  0.975775  1.000000        1.0 0.987403 0.990679 0.990679       1.0  0.915726 0.084274  2.541060\n"
     ]
    }
   ],
   "source": [
    "import pandas as pd\n",
    "df_metrics = pd.DataFrame(rows)\n",
    "df_brep = pd.DataFrame([{\"model\": \"BRepNet\", **brep_metrics}])\n",
    "# объединяем результаты\n",
    "\n",
    "df_metrics = pd.concat([df_metrics, df_brep], ignore_index=True)\n",
    "\n",
    "cols = [\"model\", \"queries\", \"recall@1\", \"recall@5\", \"recall@10\", \"mAP\", \"nDCG@5\", \"nDCG@10\",\n",
    "        \"pos_mean\", \"neg_mean\", \"margin\", \"cohens_d\"]\n",
    "\n",
    "df_metrics = df_metrics.reindex(columns=cols)\n",
    "df_metrics = df_metrics.sort_values([ \"margin\", \"recall@1\", \"mAP\"], ascending=False)\n",
    "print(df_metrics.to_string(index=False))\n",
    "\n",
    "\n",
    "# У brenet выключена нормализация (на pos_mean и neg_mean можно не смотреть, так как эвкливово расстояние не нормализовано)\n",
    "#         model  queries  recall@1  recall@5  recall@10      mAP   nDCG@5  nDCG@10      pos_mean  neg_mean   margin  cohens_d\n",
    "#       BRepNet     9895  0.868014  0.999798        1.0 0.927224 0.945822 0.945894 -1.000007e-08 -1.614657 1.614657  1.497281\n",
    "# DINO s14 2dv0     1032  0.897287  0.996124        1.0 0.943849 0.956899 0.958236  1.000000e+00  0.639031 0.360969  2.803236\n",
    "#   DINO b14 2d     1032  0.892442  0.998062        1.0 0.939470 0.954214 0.954904  1.000000e+00  0.827749 0.172251  2.222084\n",
    "# DINO b14 2dv0     1032  0.892442  0.998062        1.0 0.939470 0.954214 0.954904  1.000000e+00  0.827749 0.172251  2.222084\n",
    "#   DINO s14 2d     1032  0.891473  0.998062        1.0 0.939244 0.954075 0.954766  1.000000e+00  0.871053 0.128947  2.246197\n",
    "# CLIP b32 2dv0     1032  0.890504  0.996124        1.0 0.939731 0.953821 0.955158  1.000000e+00  0.894322 0.105678  2.684414\n",
    "# CLIP s16 2dv0     1032  0.903101  0.996124        1.0 0.946675 0.958978 0.960314  1.000000e+00  0.906414 0.093586  2.748654\n",
    "#   CLIP s16 2d     1032  0.975775  1.000000        1.0 0.987403 0.990679 0.990679  1.000000e+00  0.911103 0.088897  2.551635\n",
    "#   CLIP b32 2d     1032  0.975775  1.000000        1.0 0.987403 0.990679 0.990679  1.000000e+00  0.915726 0.084274  2.541060\n",
    "\n",
    "\n",
    "# У brenet включена нормализация\n",
    "#         model  queries  recall@1  recall@5  recall@10      mAP   nDCG@5  nDCG@10  pos_mean  neg_mean   margin  cohens_d\n",
    "# DINO s14 2dv0     1032  0.897287  0.996124        1.0 0.943849 0.956899 0.958236       1.0  0.639031 0.360969  2.803236\n",
    "#   DINO b14 2d     1032  0.892442  0.998062        1.0 0.939470 0.954214 0.954904       1.0  0.827749 0.172251  2.222084\n",
    "# DINO b14 2dv0     1032  0.892442  0.998062        1.0 0.939470 0.954214 0.954904       1.0  0.827749 0.172251  2.222084\n",
    "#   DINO s14 2d     1032  0.891473  0.998062        1.0 0.939244 0.954075 0.954766       1.0  0.871053 0.128947  2.246197\n",
    "#       BRepNet     9895  0.868014  0.999798        1.0 0.927224 0.945822 0.945894       1.0  0.876704 0.123296  0.819112\n",
    "# CLIP b32 2dv0     1032  0.890504  0.996124        1.0 0.939731 0.953821 0.955158       1.0  0.894322 0.105678  2.684414\n",
    "# CLIP s16 2dv0     1032  0.903101  0.996124        1.0 0.946675 0.958978 0.960314       1.0  0.906414 0.093586  2.748654\n",
    "#   CLIP s16 2d     1032  0.975775  1.000000        1.0 0.987403 0.990679 0.990679       1.0  0.911103 0.088897  2.551635\n",
    "#   CLIP b32 2d     1032  0.975775  1.000000        1.0 0.987403 0.990679 0.990679       1.0  0.915726 0.084274  2.541060"
   ]
  },
  {
   "cell_type": "code",
   "execution_count": 16,
   "id": "3c48639b",
   "metadata": {},
   "outputs": [
    {
     "name": "stdout",
     "output_type": "stream",
     "text": [
      "Поисковая модель: DINO s14 2dv0\n",
      "                              model     score\n",
      "0                42. Ejector-01.prt  1.000000\n",
      "1                42. Ejector-04.prt  0.997702\n",
      "2                42. Ejector-05.prt  0.996256\n",
      "3                    42. Ejector-02  0.993263\n",
      "4                42. Ejector-03.prt  0.990921\n",
      "5                   42. Ejector.prt  0.986465\n",
      "6                42. Ejector-10.prt  0.955551\n",
      "7                42. Ejector-06.prt  0.931798\n",
      "8                42. Ejector-09.prt  0.923917\n",
      "9                42. Ejector-07.prt  0.887774\n",
      "10               42. Ejector-08.prt  0.877828\n",
      "11  Зацеп трубки направляющий 7.prt  0.817447\n",
      "12  Зацеп трубки направляющий 2.prt  0.753028\n",
      "13  Зацеп трубки направляющий 4.prt  0.746652\n",
      "14  Зацеп трубки направляющий 3.prt  0.742786\n",
      "15  Зацеп трубки направляющий 1.prt  0.741828\n",
      "16  Зацеп трубки направляющий 6.prt  0.741007\n",
      "17  Зацеп трубки направляющий 5.prt  0.735294\n",
      "18  Зацеп трубки направляющий 8.prt  0.729762\n",
      "19  Зацеп трубки направляющий 9.prt  0.721372\n"
     ]
    }
   ],
   "source": [
    "from src.modeling.vit.searcher import vit_topk\n",
    "query_index = 0\n",
    "top = 20\n",
    "# print(vit_topk(\"DINO s14 2d\",  dino_s14_2d_files,  query=query_index, k=top).to_string())\n",
    "# vit_topk(\"DINO b14 2d\",  dino_b14_2d_files,  query=query_index, k=top)\n",
    "# vit_topk(\"CLIP s16 2d\",  clip_s16_2d_files,  query=query_index, k=top)\n",
    "# vit_topk(\"CLIP b32 2d\",  clip_b32_2d_files,  query=query_index, k=top)\n",
    "\n",
    "print(vit_topk(\"DINO s14 2dv0\", dino_s14_2dv0_files, query=query_index, k=top).to_string())\n",
    "# vit_topk(\"DINO b14 2dv0\", dino_b14_2dv0_files, query=query_index, k=top)\n",
    "# vit_topk(\"CLIP s16 2dv0\", clip_s16_2dv0_files, query=query_index, k=top)\n",
    "# vit_topk(\"CLIP b32 2dv0\", clip_b32_2dv0_files, query=query_index, k=top)"
   ]
  },
  {
   "cell_type": "code",
   "execution_count": null,
   "id": "5c925059",
   "metadata": {},
   "outputs": [
    {
     "name": "stdout",
     "output_type": "stream",
     "text": [
      "Количество файлов STEP: 129\n",
      "Запрос: 42. Ejector-01.prt\n",
      "                       model      score\n",
      "0         42. Ejector-05.prt   1.193723\n",
      "1         42. Ejector-04.prt   1.956831\n",
      "2         42. Ejector-06.prt   2.395920\n",
      "3            42. Ejector.prt   6.861336\n",
      "4         42. Ejector-09.prt   7.856229\n",
      "5         42. Ejector-03.prt   7.998601\n",
      "6             42. Ejector-02   8.066268\n",
      "7         42. Ejector-08.prt   8.220020\n",
      "8         42. Ejector-07.prt   8.463036\n",
      "9         42. Ejector-10.prt   9.237177\n",
      "10  44. Extractor Pin-09.prt  10.701600\n",
      "11  44. Extractor Pin-08.prt  11.137397\n",
      "12  44. Extractor Pin-10.prt  12.246496\n",
      "13  44. Extractor Pin-06.prt  13.257885\n",
      "14  44. Extractor Pin-07.prt  13.269909\n",
      "15   42. Silencer Fix-04.prt  14.900334\n",
      "16   42. Silencer Fix-03.prt  15.225912\n",
      "17   42. Silencer Fix-10.prt  15.510146\n",
      "18            Защелка 10.prt  15.641165\n",
      "19  44. Extractor Pin-05.prt  15.683732\n"
     ]
    }
   ],
   "source": [
    "from src.modeling.BRepNet.searcher import search_topk\n",
    "step_files = get_files(PROCESSED_DATA_DIR / \"dataset_129\" / 'stp')\n",
    "print(f'Количество файлов STEP: {len(step_files)}')\n",
    "\n",
    "stp_model = step_files[query_index].stem\n",
    "print(f'Запрос: {stp_model}')\n",
    "\n",
    "df, matches, dmin, interval = search_topk(out_face_dir, query_stem=stp_model, k=top, exclude_self=False)\n",
    "\n",
    "print(df.to_string())\n"
   ]
  }
 ],
 "metadata": {
  "kernelspec": {
   "display_name": "brepnet",
   "language": "python",
   "name": "python3"
  },
  "language_info": {
   "codemirror_mode": {
    "name": "ipython",
    "version": 3
   },
   "file_extension": ".py",
   "mimetype": "text/x-python",
   "name": "python",
   "nbconvert_exporter": "python",
   "pygments_lexer": "ipython3",
   "version": "3.11.13"
  }
 },
 "nbformat": 4,
 "nbformat_minor": 5
}
